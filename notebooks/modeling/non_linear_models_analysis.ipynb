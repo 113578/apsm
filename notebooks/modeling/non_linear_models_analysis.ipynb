{
  "cells": [
    {
      "cell_type": "code",
      "execution_count": 1,
      "metadata": {
        "id": "TKCPPBroX_XW"
      },
      "outputs": [
        {
          "name": "stderr",
          "output_type": "stream",
          "text": [
            "/Users/boyarskikh/Documents/Магистратура/apsm/.venv/lib/python3.13/site-packages/tqdm/auto.py:21: TqdmWarning: IProgress not found. Please update jupyter and ipywidgets. See https://ipywidgets.readthedocs.io/en/stable/user_install.html\n",
            "  from .autonotebook import tqdm as notebook_tqdm\n"
          ]
        }
      ],
      "source": [
        "import pandas as pd\n",
        "import numpy as np\n",
        "import matplotlib.pyplot as plt\n",
        "import optuna\n",
        "from sklearn.preprocessing import StandardScaler\n",
        "from sklearn.tree import DecisionTreeRegressor\n",
        "from sklearn.ensemble import AdaBoostRegressor, RandomForestRegressor\n",
        "from sklearn.metrics import (\n",
        "    mean_squared_error,\n",
        "    mean_absolute_error,\n",
        "    mean_absolute_percentage_error\n",
        ")\n",
        "# from xgboost import XGBRegressor\n",
        "from catboost import CatBoostRegressor\n",
        "# from lightgbm import LGBMRegressor\n",
        "from scipy.fftpack import fft\n",
        "from sklearn.preprocessing import PowerTransformer, TargetEncoder\n",
        "from sklearn.decomposition import PCA\n",
        "from statsmodels.tsa.seasonal import STL"
      ]
    },
    {
      "cell_type": "code",
      "execution_count": 2,
      "metadata": {
        "id": "O_3gIsTknR32"
      },
      "outputs": [],
      "source": [
        "RANDOM_STATE = 23\n",
        "N_TRIALS = 25\n",
        "FILE_PATH = 'currency_raw.parquet'\n",
        "FILE_TYPE = 'currency'\n",
        "TICKER = 'USDRUB'\n",
        "TICKER_TYPE = 'Open'"
      ]
    },
    {
      "cell_type": "code",
      "execution_count": 3,
      "metadata": {},
      "outputs": [],
      "source": [
        "def preprocess_time_series(\n",
        "    df: pd.DataFrame,\n",
        "    target: str,\n",
        "    transformers: dict = None,\n",
        "    do_scale: bool = True,\n",
        "    do_diff: bool = True,\n",
        "    do_yeo_johnson: bool = True,\n",
        "    do_window_normalizing: bool = True,\n",
        "    window_size: int = 10,\n",
        "    do_encode: bool = True,\n",
        "    is_train: bool = False\n",
        "):\n",
        "    \"\"\"\n",
        "    Предобрабатывает временной ряд для столбца 'target' в DataFrame, изменяя только этот столбец,\n",
        "    с возможностью восстановления исходных значений. Учитывает data leakage.\n",
        "\n",
        "    Параметры:\n",
        "    ----------\n",
        "    df : pd.DataFrame\n",
        "        Исходный DataFrame.\n",
        "    target : str\n",
        "        Название столбца, для которого выполняются преобразования.\n",
        "    transformers : dict, optional\n",
        "        Словарь с объектами трансформеров (используется при is_train=False).\n",
        "    do_scale : bool, по умолчанию True\n",
        "        Выполнять ли масштабирование.\n",
        "    do_diff : bool, по умолчанию True\n",
        "        Выполнять ли дифференцирование.\n",
        "    do_yeo_johnson : bool, по умолчанию True\n",
        "        Выполнять ли преобразование Yeo-Johnson.\n",
        "    do_window_normalizing : bool, по умолчанию True\n",
        "        Выполнять ли оконную нормализацию.\n",
        "    window_size : int, по умолчанию 10\n",
        "        Размер окна для оконной нормализации.\n",
        "    do_encode : bool\n",
        "        Выполнять ли кодировку категориальных признаков.\n",
        "    is_train : bool, по умолчанию True\n",
        "        Флаг, указывающий, являются ли данные тренировочными.\n",
        "\n",
        "    Возвращает:\n",
        "    -----------\n",
        "    df_transformed : pd.DataFrame\n",
        "        Преобразованный DataFrame с только изменённым столбцом 'target'.\n",
        "    transformers : dict\n",
        "        Словарь с объектами трансформеров для восстановления значений.\n",
        "    \"\"\"\n",
        "    df_transformed = df.copy()\n",
        "    ts = df_transformed[target].copy()\n",
        "\n",
        "    if is_train:\n",
        "        transformers = {}\n",
        "    elif transformers is None:\n",
        "        raise ValueError('Для тестовых данных необходимо передать transformers.')\n",
        "\n",
        "    # Масштабирование.\n",
        "    if do_scale:\n",
        "        values = ts.values.reshape(-1, 1)\n",
        "\n",
        "        if is_train:\n",
        "            scaler = StandardScaler()\n",
        "            scaled_values = scaler.fit_transform(values)\n",
        "            transformers['scaler'] = scaler\n",
        "        else:\n",
        "            scaler = transformers['scaler']\n",
        "            scaled_values = scaler.transform(values)\n",
        "\n",
        "        ts = pd.Series(\n",
        "            data=scaled_values.flatten(),\n",
        "            index=ts.index,\n",
        "            name=ts.name\n",
        "        )\n",
        "\n",
        "    # Дифференцирование.\n",
        "    if do_diff:\n",
        "        if is_train:\n",
        "            transformers['last_value'] = ts.iloc[0]\n",
        "        ts = ts.diff()\n",
        "        ts.dropna(inplace=True)\n",
        "\n",
        "    # Преобразование Yeo-Johnson.\n",
        "    if do_yeo_johnson:\n",
        "        if is_train:\n",
        "            pt = PowerTransformer(method='yeo-johnson', standardize=False)\n",
        "            non_nan_values = ts.values[~np.isnan(ts.values)].reshape(-1, 1)\n",
        "            if len(non_nan_values) > 0:\n",
        "                pt.fit(non_nan_values)\n",
        "            transformers['yeo_johnson'] = pt\n",
        "        \n",
        "        pt = transformers['yeo_johnson']\n",
        "        transformed_values = np.full_like(ts.values, np.nan, dtype=float)\n",
        "        non_nan_mask = ~np.isnan(ts.values)\n",
        "        non_nan_values = ts.values[non_nan_mask].reshape(-1, 1)\n",
        "        \n",
        "        if len(non_nan_values) > 0:\n",
        "            transformed_values[non_nan_mask] = pt.transform(non_nan_values).flatten()\n",
        "        \n",
        "        ts = pd.Series(transformed_values, index=ts.index, name=ts.name)\n",
        "\n",
        "    # Оконная нормализация.\n",
        "    if do_window_normalizing:\n",
        "        ts_rolled = ts.rolling(window=window_size)\n",
        "\n",
        "        rolled_mean = ts_rolled.mean()\n",
        "        rolled_std = ts_rolled.std()\n",
        "\n",
        "        eps = 1e-9\n",
        "        ts = (ts - rolled_mean) / (rolled_std + eps)\n",
        "        ts = ts[window_size - 1:]\n",
        "\n",
        "    df_transformed[target] = ts\n",
        "    df_transformed.dropna(inplace=True)\n",
        "\n",
        "    if do_encode:\n",
        "        if is_train:\n",
        "            encoder = TargetEncoder(cv=3, random_state=RANDOM_STATE)\n",
        "            df_transformed['ticker'] = encoder.fit_transform(X=df_transformed[['ticker']], y=ts)\n",
        "            \n",
        "            transformers['encoder'] = encoder\n",
        "        else:\n",
        "            encoder = transformers['encoder']\n",
        "            df_transformed['ticker'] = encoder.transform(X=df_transformed[['ticker']])\n",
        "\n",
        "    return df_transformed.set_index('Date'), transformers\n",
        "\n",
        "\n",
        "def inverse_preprocess_time_series(\n",
        "    ts_transformed: np.array,\n",
        "    transformers: dict,\n",
        "    do_scale: bool = True,\n",
        "    do_diff: bool = True,\n",
        "    do_yeo_johnson: bool = True,\n",
        "    do_window_normalizing: bool = True\n",
        ") -> np.array:\n",
        "    \"\"\"\n",
        "    Восстанавливает исходный временной ряд из преобразованного np.array,\n",
        "    используя сохранённые параметры трансформаций, выполненных в функции preprocess_time_series.\n",
        "\n",
        "    Параметры:\n",
        "    -----------\n",
        "    ts_transformed : np.array\n",
        "        Преобразованный временной ряд.\n",
        "    transformers : dict\n",
        "        Словарь с сохранёнными объектами и параметрами трансформаций.\n",
        "    do_scale : bool, по умолчанию True\n",
        "        Выполнять ли масштабирование.\n",
        "    do_diff : bool, по умолчанию True\n",
        "        Выполнять ли дифференцирование.\n",
        "    do_yeo_johnson : bool, по умолчанию True\n",
        "        Выполнять ли преобразование Yeo-Johnson.\n",
        "    do_window_normalizing : bool, по умолчанию True\n",
        "        Выполнять ли оконную нормализацию.\n",
        "\n",
        "    Возвращает:\n",
        "    -----------\n",
        "    np.array\n",
        "        Восстановленный временной ряд в исходных единицах измерения.\n",
        "    \"\"\"\n",
        "    ts = ts_transformed.copy()\n",
        "\n",
        "    # Обратная оконная нормализация\n",
        "    if do_window_normalizing:\n",
        "        eps = 1e-9\n",
        "        rolled_mean = transformers.get('rolled_mean')\n",
        "        rolled_std = transformers.get('rolled_std')\n",
        "\n",
        "        if rolled_mean is None or rolled_std is None:\n",
        "            raise ValueError(\n",
        "                \"Нет сохранённых параметров оконной нормализации: 'rolled_mean' или 'rolled_std'.\"\n",
        "            )\n",
        "\n",
        "    # Обратное преобразование Yeo-Johnson\n",
        "    if do_yeo_johnson and 'yeo_johnson' in transformers:\n",
        "        pt = transformers['yeo_johnson']\n",
        "        ts = pt.inverse_transform(ts.reshape(-1, 1)).flatten()\n",
        "\n",
        "    # Обратное дифференцирование\n",
        "    if do_diff and 'last_value' in transformers:\n",
        "        ts = np.cumsum(ts) + transformers['last_value']\n",
        "\n",
        "    # Обратное масштабирование\n",
        "    if do_scale and 'scaler' in transformers:\n",
        "        scaler = transformers['scaler']\n",
        "        ts = scaler.inverse_transform(ts.reshape(-1, 1)).flatten()\n",
        "\n",
        "    return ts\n",
        "\n",
        "\n",
        "def extract_time_series_features(\n",
        "    df: pd.Series,\n",
        "    lags=[1, 2, 3, 4, 5],\n",
        "    rolling_windows=[7, 30],\n",
        "    fourier_periods=[7, 30]\n",
        "):\n",
        "    \"\"\"\n",
        "    Функция для автоматического извлечения признаков из временного ряда.\n",
        "\n",
        "    Аргументы:\n",
        "      df : pandas.Series или pandas.DataFrame\n",
        "          Временной ряд с индексом типа datetime.\n",
        "      lags : list, по умолчанию [1, 2, 3, 4, 5]\n",
        "          Лаговые признаки.\n",
        "      rolling_windows : list, по умолчанию [3, 5, 7, 9]\n",
        "          Скользящие статистики.\n",
        "      fourier_periods : list, по умолчанию [7, 30]\n",
        "          Периоды для Фурье-признаков.\n",
        "\n",
        "    Возвращает:\n",
        "      DataFrame с извлеченными признаками.\n",
        "    \"\"\"\n",
        "    if isinstance(df, pd.Series):\n",
        "        df = df.to_frame(name='value')\n",
        "    else:\n",
        "        df = df.copy()\n",
        "\n",
        "        if 'value' not in df.columns:\n",
        "            df = df.iloc[:, [0]]\n",
        "            df.columns = ['value']\n",
        "\n",
        "    df = df.sort_index()\n",
        "\n",
        "    # Календарные признаки.\n",
        "    df['day_of_week'] = df['Date'].dt.dayofweek\n",
        "    df['month'] = df['Date'].dt.month\n",
        "    df['year'] = df['Date'].dt.year\n",
        "    df['is_weekend'] = df['day_of_week'].isin([5, 6]).astype(int)\n",
        "\n",
        "    # Лаговые признаки.\n",
        "    for lag in lags:\n",
        "        df[f'lag_{lag}'] = df['value'].shift(lag)\n",
        "\n",
        "    # Разностные признаки.\n",
        "    for lag in lags:\n",
        "        df[f'diff_{lag}'] = df['value'] - df['value'].shift(lag)\n",
        "\n",
        "    # Скользящие статистики.\n",
        "    for window in rolling_windows:\n",
        "        df[f'rolling_mean_{window}'] = df['value'].rolling(window=window).mean()\n",
        "        df[f'rolling_std_{window}'] = df['value'].rolling(window=window).std()\n",
        "        df[f'rolling_min_{window}'] = df['value'].rolling(window=window).min()\n",
        "        df[f'rolling_max_{window}'] = df['value'].rolling(window=window).max()\n",
        "\n",
        "    # Признаки Фурье.\n",
        "    t = np.arange(len(df))\n",
        "\n",
        "    for period in fourier_periods:\n",
        "        df[f'sin_{period}'] = np.sin(2 * np.pi * t / period)\n",
        "        df[f'cos_{period}'] = np.cos(2 * np.pi * t / period)\n",
        "\n",
        "    # Анализ Фурье.\n",
        "    ts_filled = df['value'].ffill().values\n",
        "    fft_values = fft(ts_filled)\n",
        "    fft_power = np.abs(fft_values)**2\n",
        "    dominant_idx = np.argmax(fft_power[1:]) + 1\n",
        "    dominant_frequency = dominant_idx / len(df)\n",
        "    df['dominant_frequency'] = dominant_frequency\n",
        "\n",
        "    # Групповые статистики.\n",
        "    df['weekday_mean'] = df.groupby(df['Date'].dt.dayofweek)['value'].transform('mean')\n",
        "    df['weekday_std'] = df.groupby(df['Date'].dt.dayofweek)['value'].transform('std')\n",
        "    df['weekday_min'] = df.groupby(df['Date'].dt.dayofweek)['value'].transform('min')\n",
        "    df['weekday_max'] = df.groupby(df['Date'].dt.dayofweek)['value'].transform('max')\n",
        "\n",
        "    for window in rolling_windows:\n",
        "        df[f'rolling_median_{window}'] = df['value'].rolling(window=window).median()\n",
        "        df[f'rolling_q25_{window}'] = df['value'].rolling(window=window).quantile(0.25)\n",
        "        df[f'rolling_q75_{window}'] = df['value'].rolling(window=window).quantile(0.75)\n",
        "\n",
        "    # Признаки на основе статистических моделей.\n",
        "    stl = STL(df['value'].ffill(), period=12, seasonal=7)\n",
        "    res = stl.fit()\n",
        "\n",
        "    df['stl_trend'] = res.trend\n",
        "    df['stl_seasonal'] = res.seasonal\n",
        "    df['stl_residual'] = res.resid\n",
        "\n",
        "    # Целевая переменная.\n",
        "    df['target'] = df['value']\n",
        "    df.drop(columns=['value'], inplace=True)\n",
        "    df.dropna(inplace=True)\n",
        "\n",
        "    return df\n",
        "\n",
        "\n",
        "def split_time_series(\n",
        "        df: pd.DataFrame,\n",
        "        ticker: str,\n",
        "        train_size=0.7,\n",
        "        val_size=0.2,\n",
        "        test_size=0.1\n",
        "):\n",
        "    \"\"\"\n",
        "    Разбивает отсортированный временной ряд на обучающую, валидационную и тестовую выборки.\n",
        "\n",
        "    Parameters:\n",
        "      df : pd.DataFrame\n",
        "        Временной ряд.\n",
        "      ticker : str\n",
        "        Тикер для фильтрации тестовых данных.\n",
        "      train_size : float\n",
        "        Пропорция обучающей выборки.\n",
        "      val_size : float\n",
        "        Пропорция валидационной выборки.\n",
        "      test_size : float\n",
        "        Пропорция тестовой выборки.\n",
        "\n",
        "    Returns:\n",
        "      df_train, df_val, df_test : pd.DataFrame\n",
        "        Разделённые данные.\n",
        "    \"\"\"\n",
        "    df_train_list, df_val_list, df_test_list = [], [], []\n",
        "\n",
        "    for ticker, group in df.groupby('ticker'):\n",
        "        group = group.sort_values(by='Date')\n",
        "\n",
        "        n = len(group)\n",
        "        train_end = int(n * train_size)\n",
        "        val_end = train_end + int(n * val_size)\n",
        "\n",
        "        df_train_list.append(group.iloc[:train_end])\n",
        "        df_val_list.append(group.iloc[train_end:val_end])\n",
        "        df_test_list.append(group.iloc[val_end:])\n",
        "\n",
        "    df_train = pd.concat(df_train_list).reset_index(drop=True)\n",
        "    df_val = pd.concat(df_val_list).reset_index(drop=True)\n",
        "    df_test = pd.concat(df_test_list).reset_index(drop=True)\n",
        "\n",
        "    df_test = df_test[df_test['ticker'] == 'USDRUB']\n",
        "\n",
        "    return df_train, df_val, df_test    \n",
        "\n",
        "\n",
        "def objective_xgb(trial):\n",
        "    params = {\n",
        "        'n_estimators': trial.suggest_int('n_estimators', 50, 500),\n",
        "        'max_depth': trial.suggest_int('max_depth', 3, 10),\n",
        "        'learning_rate': trial.suggest_float('learning_rate', 0.01, 0.3),\n",
        "        'subsample': trial.suggest_float('subsample', 0.5, 1.0),\n",
        "        'colsample_bytree': trial.suggest_float('colsample_bytree', 0.5, 1.0),\n",
        "        'reg_alpha': trial.suggest_float('reg_alpha', 1e-8, 1.0),\n",
        "        'reg_lambda': trial.suggest_float('reg_lambda', 1e-8, 1.0)\n",
        "    }\n",
        "\n",
        "    model = XGBRegressor(\n",
        "        **params,\n",
        "        objective='reg:squarederror',\n",
        "        random_state=RANDOM_STATE,\n",
        "        verbosity=0\n",
        "    )\n",
        "    model.fit(X_train, y_train)\n",
        "    preds = model.predict(X_val)\n",
        "\n",
        "    return mean_squared_error(y_val, preds)\n",
        "\n",
        "\n",
        "def objective_cb(trial):\n",
        "    params = {\n",
        "        'iterations': trial.suggest_int('iterations', 100, 1000),\n",
        "        'depth': trial.suggest_int('depth', 3, 10),\n",
        "        'learning_rate': trial.suggest_float('learning_rate', 0.01, 0.3),\n",
        "        'l2_leaf_reg': trial.suggest_float('l2_leaf_reg', 1e-8, 10.0),\n",
        "        'subsample': trial.suggest_float('subsample', 0.5, 1.0),\n",
        "        'colsample_bylevel': trial.suggest_float('colsample_bylevel', 0.5, 1.0)\n",
        "    }\n",
        "\n",
        "    model = CatBoostRegressor(\n",
        "        **params,\n",
        "        random_state=RANDOM_STATE,\n",
        "        thread_count=-1,\n",
        "        verbose=0\n",
        "    )\n",
        "    model.fit(X_train, y_train)\n",
        "    preds = model.predict(X_val)\n",
        "\n",
        "    return mean_squared_error(y_val, preds)\n",
        "\n",
        "\n",
        "def objective_lgbm(trial):\n",
        "    params = {\n",
        "        'n_estimators': trial.suggest_int('n_estimators', 50, 500),\n",
        "        'max_depth': trial.suggest_int('max_depth', 3, 10),\n",
        "        'learning_rate': trial.suggest_float('learning_rate', 0.01, 0.3),\n",
        "        'num_leaves': trial.suggest_int('num_leaves', 31, 255),\n",
        "        'subsample': trial.suggest_float('subsample', 0.5, 1.0),\n",
        "        'colsample_bytree': trial.suggest_float('colsample_bytree', 0.5, 1.0),\n",
        "        'reg_alpha': trial.suggest_float('reg_alpha', 1e-8, 1.0),\n",
        "        'reg_lambda': trial.suggest_float('reg_lambda', 1e-8, 1.0)\n",
        "    }\n",
        "\n",
        "    model = LGBMRegressor(\n",
        "        **params,\n",
        "        random_state=RANDOM_STATE,\n",
        "        n_jobs=-1\n",
        "    )\n",
        "    model.fit(X_train, y_train)\n",
        "    preds = model.predict(X_val)\n",
        "\n",
        "    return mean_squared_error(y_val, preds)\n",
        "\n",
        "\n",
        "def objective_rf(trial):\n",
        "    params = {\n",
        "        'n_estimators': trial.suggest_int('n_estimators', 50, 500),\n",
        "        'max_depth': trial.suggest_int('max_depth', 3, 10),\n",
        "        'min_samples_split': trial.suggest_int('min_samples_split', 2, 10),\n",
        "        'min_samples_leaf': trial.suggest_int('min_samples_leaf', 1, 10),\n",
        "        'bootstrap': trial.suggest_categorical('bootstrap', [True, False])\n",
        "    }\n",
        "\n",
        "    model = RandomForestRegressor(\n",
        "        **params,\n",
        "        random_state=RANDOM_STATE,\n",
        "        n_jobs=-1\n",
        "    )\n",
        "    model.fit(X_train, y_train)\n",
        "    preds = model.predict(X_val)\n",
        "\n",
        "    return mean_squared_error(y_val, preds)\n",
        "\n",
        "\n",
        "def objective_ab(trial):\n",
        "    params = {\n",
        "        'n_estimators': trial.suggest_int('n_estimators', 50, 500),\n",
        "        'learning_rate': trial.suggest_float('learning_rate', 0.01, 0.3)\n",
        "    }\n",
        "\n",
        "    model = AdaBoostRegressor(\n",
        "        estimator=DecisionTreeRegressor(max_depth=3),\n",
        "        **params,\n",
        "        random_state=RANDOM_STATE\n",
        "    )\n",
        "    model.fit(X_train, y_train)\n",
        "    preds = model.predict(X_val)\n",
        "\n",
        "    return mean_squared_error(y_val, preds)\n",
        "\n",
        "\n",
        "def objective_dt(trial):\n",
        "    params = {\n",
        "        'max_depth': trial.suggest_int('max_depth', 3, 10),\n",
        "        'min_samples_split': trial.suggest_int('min_samples_split', 2, 10),\n",
        "        'min_samples_leaf': trial.suggest_int('min_samples_leaf', 1, 10),\n",
        "    }\n",
        "\n",
        "    model = DecisionTreeRegressor(\n",
        "        **params,\n",
        "        random_state=RANDOM_STATE\n",
        "    )\n",
        "    model.fit(X_train, y_train)\n",
        "    preds = model.predict(X_val)\n",
        "\n",
        "    return mean_squared_error(y_val, preds)\n",
        "\n",
        "\n",
        "def read_data(\n",
        "        file_path: str,\n",
        "        file_type: str,\n",
        "        ticker_type: str\n",
        ") -> pd.DataFrame:\n",
        "    \"\"\"\n",
        "    Чтение и преобразование данных.\n",
        "\n",
        "    Parameters\n",
        "    ----------\n",
        "    file_path : str\n",
        "        Путь до файла.\n",
        "    file_type : str\n",
        "        Тип файла (currency, stock).\n",
        "    ticker_type : str\n",
        "        Название типа тикера для считывания.\n",
        "    \n",
        "    Returns\n",
        "    -------\n",
        "    df : pd.DataFrame\n",
        "        Кадр данных.\n",
        "    \"\"\"\n",
        "    df = pd\\\n",
        "        .read_parquet(file_path)\\\n",
        "        .reset_index()\\\n",
        "        .ffill()\n",
        "\n",
        "    df = pd.melt(frame=df, id_vars='Date', var_name='series_id', value_name='value')\n",
        "\n",
        "    if file_type == 'currency':\n",
        "        df['ticker'] = df.apply(\n",
        "            func=lambda row: row['series_id'].split('=X_')[0],\n",
        "            axis=1\n",
        "        )\n",
        "        df['ticker_type'] = df.apply(\n",
        "            func=lambda row: row['series_id'].split('=X_')[1],\n",
        "            axis=1\n",
        "        )\n",
        "\n",
        "        df = df[df['ticker_type'] == ticker_type]\n",
        "        df.drop(columns=['series_id', 'ticker_type'], inplace=True)\n",
        "\n",
        "    elif file_type == 'stock':\n",
        "        df['ticker'] = df['series_id']\n",
        "        df.drop(columns=['series_id'], inplace=True)\n",
        "\n",
        "    return df\n"
      ]
    },
    {
      "cell_type": "code",
      "execution_count": 4,
      "metadata": {
        "id": "m0-k2QyS0_u3"
      },
      "outputs": [],
      "source": [
        "# class TimeSeriesPipeline:\n",
        "#     def __init__(self, model_name=\"xgb\", do_scale=True, do_diff=True, do_yeo_johnson=True, do_window_normalizing=True, window_size=10, n_trials=25):\n",
        "#         self.model_name = model_name\n",
        "#         self.do_scale = do_scale\n",
        "#         self.do_diff = do_diff\n",
        "#         self.do_yeo_johnson = do_yeo_johnson\n",
        "#         self.do_window_normalizing = do_window_normalizing\n",
        "#         self.window_size = window_size\n",
        "#         self.n_trials = n_trials\n",
        "#         self.transformers = {}\n",
        "#         self.model = None\n",
        "#         self.best_params = {}\n",
        "\n",
        "#     def _get_model(self, trial):\n",
        "#         params = {}\n",
        "\n",
        "#         if self.model_name == \"xgb\":\n",
        "#             params = {\n",
        "#                 'n_estimators': trial.suggest_int('n_estimators', 50, 500),\n",
        "#                 'max_depth': trial.suggest_int('max_depth', 3, 10),\n",
        "#                 'learning_rate': trial.suggest_float('learning_rate', 0.01, 0.3),\n",
        "#                 'subsample': trial.suggest_float('subsample', 0.5, 1.0),\n",
        "#                 'colsample_bytree': trial.suggest_float('colsample_bytree', 0.5, 1.0),\n",
        "#                 'reg_alpha': trial.suggest_float('reg_alpha', 1e-8, 1.0),\n",
        "#                 'reg_lambda': trial.suggest_float('reg_lambda', 1e-8, 1.0)\n",
        "#             }\n",
        "#             return XGBRegressor(**params, objective=\"reg:squarederror\", random_state=RANDOM_STATE, verbosity=0)\n",
        "\n",
        "#         elif self.model_name == \"catboost\":\n",
        "#             params = {\n",
        "#                 'iterations': trial.suggest_int('iterations', 100, 1000),\n",
        "#                 'depth': trial.suggest_int('depth', 3, 10),\n",
        "#                 'learning_rate': trial.suggest_float('learning_rate', 0.01, 0.3),\n",
        "#                 'l2_leaf_reg': trial.suggest_float('l2_leaf_reg', 1e-8, 10.0),\n",
        "#                 'subsample': trial.suggest_float('subsample', 0.5, 1.0),\n",
        "#                 'colsample_bylevel': trial.suggest_float('colsample_bylevel', 0.5, 1.0)\n",
        "#             }\n",
        "#             return CatBoostRegressor(**params, random_state=RANDOM_STATE, verbose=0, thread_count=-1)\n",
        "\n",
        "#         elif self.model_name == \"lgbm\":\n",
        "#             params = {\n",
        "#                 'n_estimators': trial.suggest_int('n_estimators', 50, 500),\n",
        "#                 'max_depth': trial.suggest_int('max_depth', 3, 10),\n",
        "#                 'learning_rate': trial.suggest_float('learning_rate', 0.01, 0.3),\n",
        "#                 'num_leaves': trial.suggest_int('num_leaves', 31, 255),\n",
        "#                 'subsample': trial.suggest_float('subsample', 0.5, 1.0),\n",
        "#                 'colsample_bytree': trial.suggest_float('colsample_bytree', 0.5, 1.0),\n",
        "#                 'reg_alpha': trial.suggest_float('reg_alpha', 1e-8, 1.0),\n",
        "#                 'reg_lambda': trial.suggest_float('reg_lambda', 1e-8, 1.0)\n",
        "#             }\n",
        "#             return LGBMRegressor(**params, random_state=RANDOM_STATE, n_jobs=-1)\n",
        "\n",
        "#         elif self.model_name == \"rf\":\n",
        "#             params = {\n",
        "#                 'n_estimators': trial.suggest_int('n_estimators', 50, 500),\n",
        "#                 'max_depth': trial.suggest_int('max_depth', 3, 10),\n",
        "#                 'min_samples_split': trial.suggest_int('min_samples_split', 2, 10),\n",
        "#                 'min_samples_leaf': trial.suggest_int('min_samples_leaf', 1, 10),\n",
        "#                 'bootstrap': trial.suggest_categorical('bootstrap', [True, False])\n",
        "#             }\n",
        "#             return RandomForestRegressor(**params, random_state=RANDOM_STATE, n_jobs=-1)\n",
        "\n",
        "#         elif self.model_name == \"ada\":\n",
        "#             params = {\n",
        "#                 'n_estimators': trial.suggest_int('n_estimators', 50, 500),\n",
        "#                 'learning_rate': trial.suggest_float('learning_rate', 0.01, 0.3)\n",
        "#             }\n",
        "#             return AdaBoostRegressor(DecisionTreeRegressor(max_depth=3), **params, random_state=RANDOM_STATE)\n",
        "\n",
        "#         elif self.model_name == \"dt\":\n",
        "#             params = {\n",
        "#                 'max_depth': trial.suggest_int('max_depth', 3, 10),\n",
        "#                 'min_samples_split': trial.suggest_int('min_samples_split', 2, 10),\n",
        "#                 'min_samples_leaf': trial.suggest_int('min_samples_leaf', 1, 10),\n",
        "#             }\n",
        "#             return DecisionTreeRegressor(**params, random_state=RANDOM_STATE)\n",
        "\n",
        "#         return XGBRegressor(random_state=42)\n",
        "\n",
        "#     def preprocess(self, df: pd.DataFrame, is_fit: bool = True):\n",
        "#         df_transformed = df.copy()\n",
        "#         ts = df_transformed.copy()\n",
        "#         if self.do_scale:\n",
        "#             scaler = StandardScaler()\n",
        "#             if is_fit:\n",
        "#                 ts = pd.Series(scaler.fit_transform(ts.values.reshape(-1, 1)).flatten(), index=ts.index, name=ts.name)\n",
        "#                 self.transformers[\"scaler\"] = scaler\n",
        "#             else:\n",
        "#                 ts = pd.Series(self.transformers[\"scaler\"].transform(ts.values.reshape(-1, 1)).flatten(), index=ts.index, name=ts.name)\n",
        "\n",
        "\n",
        "#         if self.do_diff:\n",
        "#             ts_diff = ts.copy()\n",
        "#             ts = ts.diff().dropna()\n",
        "#             self.transformers[\"last_value\"] = ts_diff.iloc[0]\n",
        "\n",
        "#         if self.do_yeo_johnson:\n",
        "#             pt = PowerTransformer(method=\"yeo-johnson\", standardize=False)\n",
        "#             valid_mask = ~np.isnan(ts.values)\n",
        "#             if valid_mask.sum() > 0:\n",
        "#                 transformed_values = np.full_like(ts.values, np.nan, dtype=float)\n",
        "#                 if is_fit:\n",
        "#                     transformed_values[valid_mask] = pt.fit_transform(ts.values[valid_mask].reshape(-1, 1)).flatten()\n",
        "#                     self.transformers[\"yeo_johnson\"] = pt\n",
        "#                 else:\n",
        "#                     transformed_values[valid_mask] = self.transformers[\"yeo_johnson\"].transform(ts.values[valid_mask].reshape(-1, 1)).flatten()\n",
        "#                 ts = pd.Series(transformed_values, index=ts.index, name=ts.name)\n",
        "\n",
        "#         if self.do_window_normalizing:\n",
        "#             rolled_mean = np.convolve(ts, np.ones(self.window_size) / self.window_size, mode=\"valid\")\n",
        "#             rolled_std = np.std(np.lib.stride_tricks.sliding_window_view(ts, self.window_size), axis=1)\n",
        "#             self.transformers[\"rolled_mean\"] = rolled_mean\n",
        "#             self.transformers[\"rolled_std\"] = rolled_std\n",
        "\n",
        "#             eps = 1e-9\n",
        "#             ts = (ts[self.window_size - 1:] - rolled_mean) / (rolled_std + eps)\n",
        "\n",
        "#         df_transformed['target'] = ts\n",
        "#         df_transformed.dropna(inplace=True)\n",
        "\n",
        "#         return df_transformed\n",
        "\n",
        "#     def inverse_preprocess(self, ts_transformed: np.array):\n",
        "#         ts = ts_transformed.copy()\n",
        "\n",
        "#         # Обратная оконная нормализация\n",
        "#         if self.do_window_normalizing:\n",
        "#             eps = 1e-9\n",
        "#             rolled_mean = self.transformers.get('rolled_mean')\n",
        "#             rolled_std = self.transformers.get('rolled_std')\n",
        "\n",
        "#             if rolled_mean is None or rolled_std is None:\n",
        "#                 raise ValueError(\n",
        "#                     \"Нет сохранённых параметров оконной нормализации: 'rolled_mean' или 'rolled_std'.\"\n",
        "#                 )\n",
        "\n",
        "#         if self.do_yeo_johnson and \"yeo_johnson\" in self.transformers:\n",
        "#             ts = self.transformers[\"yeo_johnson\"].inverse_transform(ts.reshape(-1, 1)).flatten()\n",
        "\n",
        "#         if self.do_diff and \"last_value\" in self.transformers:\n",
        "#             ts = np.cumsum(ts) + self.transformers[\"last_value\"]\n",
        "\n",
        "#         if self.do_scale and \"scaler\" in self.transformers:\n",
        "#             ts = self.transformers[\"scaler\"].inverse_transform(ts.reshape(-1, 1)).flatten()\n",
        "\n",
        "#         return ts\n",
        "\n",
        "#     def fit(self, df: pd.DataFrame, target: str):\n",
        "#         df = self.extract_time_series_features(df)\n",
        "#         X_train, X_val, _, y_train, y_val, _ = self.split_time_series(df)\n",
        "#         y_train_preprocessed = y_train#self.preprocess(y_train)[:-1]\n",
        "#         y_val_preprocessed = y_val#self.preprocess(y_val, is_fit = False)[:-1]\n",
        "\n",
        "#         def objective(trial):\n",
        "#             model = self._get_model(trial)\n",
        "#             model.fit(X_train, y_train_preprocessed)\n",
        "#             y_pred = model.predict(X_val)#self.inverse_preprocess(model.predict(X_val))\n",
        "\n",
        "#             return mean_squared_error(y_val_preprocessed, y_pred)\n",
        "\n",
        "#         study = optuna.create_study(direction=\"minimize\")\n",
        "#         study.optimize(objective, n_trials=self.n_trials, show_progress_bar=True)\n",
        "\n",
        "#         self.best_params = study.best_params\n",
        "#         self.model = self._get_model(optuna.trial.FixedTrial(self.best_params))\n",
        "\n",
        "#         X_train = pd.concat(objs=[X_train, X_val])\n",
        "#         y_train = pd.concat(objs=[y_train, y_val])#self.preprocess(pd.concat(objs=[y_train, y_val]))[:-1]\n",
        "\n",
        "#         self.model.fit(X_train, y_train)\n",
        "#         self.save_pipeline()\n",
        "\n",
        "#     def predict(self, df: pd.DataFrame):\n",
        "#         self.load_pipeline()\n",
        "#         df = self.extract_time_series_features(df)\n",
        "#         y_test = df#self.preprocess(df[\"target\"], is_fit = False)[:-1]\n",
        "#         X_test = df.drop(columns=['target'])\n",
        "#         return self.model.predict(X_test)#self.inverse_preprocess(self.model.predict(X_test))\n",
        "\n",
        "#     def save_pipeline(self, file_path: str = \"test.pkl\"):\n",
        "#         \"\"\"\n",
        "#         Save the entire pipeline, including the model and transformers, to a file.\n",
        "\n",
        "#         :param file_path: Path to the file where the pipeline will be saved.\n",
        "#         \"\"\"\n",
        "#         pipeline_data = {\n",
        "#             'model': self.model,\n",
        "#             'transformers': self.transformers,\n",
        "#             'best_params': self.best_params,\n",
        "#             'model_name': self.model_name,\n",
        "#             'do_scale': self.do_scale,\n",
        "#             'do_diff': self.do_diff,\n",
        "#             'do_yeo_johnson': self.do_yeo_johnson,\n",
        "#             'do_window_normalizing': self.do_window_normalizing,\n",
        "#             'window_size': self.window_size,\n",
        "#             'n_trials': self.n_trials\n",
        "#         }\n",
        "#         joblib.dump(pipeline_data, file_path)\n",
        "\n",
        "#     @staticmethod\n",
        "#     def load_pipeline(file_path: str = \"test.pkl\"):\n",
        "#         \"\"\"\n",
        "#         Load the entire pipeline, including the model and transformers, from a file.\n",
        "\n",
        "#         :param file_path: Path to the file from which the pipeline will be loaded.\n",
        "#         :return: An instance of TimeSeriesPipeline with the loaded model and transformers.\n",
        "#         \"\"\"\n",
        "#         if not os.path.exists(file_path):\n",
        "#             raise FileNotFoundError(f\"The file {file_path} does not exist.\")\n",
        "\n",
        "#         pipeline_data = joblib.load(file_path)\n",
        "\n",
        "#         pipeline = TimeSeriesPipeline(\n",
        "#             model_name=pipeline_data['model_name'],\n",
        "#             do_scale=pipeline_data['do_scale'],\n",
        "#             do_diff=pipeline_data['do_diff'],\n",
        "#             do_yeo_johnson=pipeline_data['do_yeo_johnson'],\n",
        "#             do_window_normalizing=pipeline_data['do_window_normalizing'],\n",
        "#             window_size=pipeline_data['window_size'],\n",
        "#             n_trials=pipeline_data['n_trials']\n",
        "#         )\n",
        "\n",
        "#         pipeline.model = pipeline_data['model']\n",
        "#         pipeline.transformers = pipeline_data['transformers']\n",
        "#         pipeline.best_params = pipeline_data['best_params']\n",
        "\n",
        "#         return pipeline\n",
        "\n",
        "#     def extract_time_series_features(\n",
        "#         self,\n",
        "#         df: pd.DataFrame,\n",
        "#         lags=[1, 2, 3, 4, 5],\n",
        "#         rolling_windows=[7, 30],\n",
        "#         fourier_periods=[7, 30],\n",
        "#         horizon=1\n",
        "#     ):\n",
        "#       \"\"\"\n",
        "#     Функция для автоматического извлечения признаков из временного ряда.\n",
        "\n",
        "#     Аргументы:\n",
        "#       df : pandas.Series или pandas.DataFrame\n",
        "#           Временной ряд с индексом типа datetime.\n",
        "#       lags : list, по умолчанию [1, 2, 3, 4, 5]\n",
        "#           Лаговые признаки.\n",
        "#       rolling_windows : list, по умолчанию [3, 5, 7, 9]\n",
        "#           Скользящие статистики.\n",
        "#       fourier_periods : list, по умолчанию [7, 30]\n",
        "#           Периоды для Фурье-признаков.\n",
        "#       horizon : int, по умолчанию 1\n",
        "#           Горизонт предсказания.\n",
        "\n",
        "#     Возвращает:\n",
        "#       DataFrame с извлеченными признаками.\n",
        "#     \"\"\"\n",
        "#       if isinstance(df, pd.Series):\n",
        "#           df = df.to_frame(name='value')\n",
        "#       else:\n",
        "#           print(df)\n",
        "#           df = df.copy()\n",
        "\n",
        "#           if 'value' not in df.columns:\n",
        "#               df = df.iloc[:, [0]]\n",
        "#               df.columns = ['value']\n",
        "\n",
        "#       df = df.sort_index()\n",
        "\n",
        "#       # Календарные признаки.\n",
        "#       df['day_of_week'] = df.index.dayofweek\n",
        "#       df['month'] = df.index.month\n",
        "#       df['year'] = df.index.year\n",
        "#       df['is_weekend'] = df['day_of_week'].isin([5, 6]).astype(int)\n",
        "\n",
        "#       # Лаговые признаки.\n",
        "#       for lag in lags:\n",
        "#           df[f'lag_{lag}'] = df['value'].shift(lag)\n",
        "\n",
        "#       # Разностные признаки.\n",
        "#       for lag in lags:\n",
        "#           df[f'diff_{lag}'] = df['value'] - df['value'].shift(lag)\n",
        "\n",
        "#       # Скользящие статистики.\n",
        "#       for window in rolling_windows:\n",
        "#           df[f'rolling_mean_{window}'] = df['value'].rolling(window=window).mean()\n",
        "#           df[f'rolling_std_{window}'] = df['value'].rolling(window=window).std()\n",
        "#           df[f'rolling_min_{window}'] = df['value'].rolling(window=window).min()\n",
        "#           df[f'rolling_max_{window}'] = df['value'].rolling(window=window).max()\n",
        "\n",
        "#       # Признаки Фурье.\n",
        "#       t = np.arange(len(df))\n",
        "\n",
        "#       for period in fourier_periods:\n",
        "#           df[f'sin_{period}'] = np.sin(2 * np.pi * t / period)\n",
        "#           df[f'cos_{period}'] = np.cos(2 * np.pi * t / period)\n",
        "\n",
        "#       # Анализ Фурье.\n",
        "#       ts_filled = df['value'].ffill().values\n",
        "#       fft_values = fft(ts_filled)\n",
        "#       fft_power = np.abs(fft_values)**2\n",
        "#       dominant_idx = np.argmax(fft_power[1:]) + 1\n",
        "#       dominant_frequency = dominant_idx / len(df)\n",
        "#       df['dominant_frequency'] = dominant_frequency\n",
        "\n",
        "#       # Групповые статистики.\n",
        "#       df['weekday_mean'] = df.groupby(df.index.dayofweek)['value'].transform('mean')\n",
        "#       df['weekday_std'] = df.groupby(df.index.dayofweek)['value'].transform('std')\n",
        "#       df['weekday_min'] = df.groupby(df.index.dayofweek)['value'].transform('min')\n",
        "#       df['weekday_max'] = df.groupby(df.index.dayofweek)['value'].transform('max')\n",
        "\n",
        "#       for window in rolling_windows:\n",
        "#         df[f'rolling_median_{window}'] = df['value'].rolling(window=window).median()\n",
        "#         df[f'rolling_q25_{window}'] = df['value'].rolling(window=window).quantile(0.25)\n",
        "#         df[f'rolling_q75_{window}'] = df['value'].rolling(window=window).quantile(0.75)\n",
        "\n",
        "#       # Признаки на основе статистических моделей.\n",
        "#       stl = STL(df['value'].ffill(), seasonal=7)\n",
        "#       res = stl.fit()\n",
        "\n",
        "#       df['stl_trend'] = res.trend\n",
        "#       df['stl_seasonal'] = res.seasonal\n",
        "#       df['stl_residual'] = res.resid\n",
        "\n",
        "#       # Целевая переменная.\n",
        "#       df['target'] = df['value'].shift(-horizon)\n",
        "#       df.dropna(inplace=True)\n",
        "#       df.drop(columns = [\"value\"])\n",
        "\n",
        "#       return df\n",
        "\n",
        "#     def split_time_series(self, df, train_size=0.7, val_size=0.2, test_size=0.1):\n",
        "#         \"\"\"\n",
        "#         Разбивает отсортированный временной ряд на обучающую, валидационную и тестовую выборки.\n",
        "\n",
        "#         Parameters:\n",
        "#           df: pd.DataFrame\n",
        "#             Временной ряд.\n",
        "#           train_size: float\n",
        "#             Пропорция обучающей выборки.\n",
        "#           val_size: float\n",
        "#             Пропорция валидационной выборки.\n",
        "#           test_size: float\n",
        "#             Пропорция тестовой выборки.\n",
        "\n",
        "#         Returns:\n",
        "#           X_train, X_val, X_test, y_train, y_val, y_test: pd.DataFrame\n",
        "#             Разделённые данные.\n",
        "#         \"\"\"\n",
        "#         # Вычисление индексов для разбиения.\n",
        "#         n = len(df)\n",
        "\n",
        "#         train_end = int(n * train_size)\n",
        "#         val_end = train_end + int(n * val_size)\n",
        "\n",
        "#         # Разбиение данных на обучающую, валидационную и тестовую выборки.\n",
        "#         train_data = df.iloc[:train_end]\n",
        "#         val_data = df.iloc[train_end:val_end]\n",
        "#         test_data = df.iloc[val_end:]\n",
        "\n",
        "#         # Разделение на X и y.\n",
        "#         X_train, y_train = train_data.drop(columns='target'), train_data['target']\n",
        "#         X_val, y_val = val_data.drop(columns='target'), val_data['target']\n",
        "#         X_test, y_test = test_data.drop(columns='target'), test_data['target']\n",
        "\n",
        "#         return X_train, X_val, X_test, y_train, y_val, y_test"
      ]
    },
    {
      "cell_type": "markdown",
      "metadata": {
        "id": "J8uZT7p2rbH3"
      },
      "source": [
        "# Загрузка данных"
      ]
    },
    {
      "cell_type": "code",
      "execution_count": 5,
      "metadata": {},
      "outputs": [],
      "source": [
        "df = read_data(\n",
        "    file_path=FILE_PATH,\n",
        "    file_type=FILE_TYPE,\n",
        "    ticker_type=TICKER_TYPE\n",
        ")"
      ]
    },
    {
      "cell_type": "markdown",
      "metadata": {},
      "source": [
        "# Выделение выборок"
      ]
    },
    {
      "cell_type": "code",
      "execution_count": 6,
      "metadata": {},
      "outputs": [],
      "source": [
        "df_train, df_val, df_test = split_time_series(df=df, ticker=TICKER)"
      ]
    },
    {
      "cell_type": "markdown",
      "metadata": {
        "id": "K2PQwD-ArdLC"
      },
      "source": [
        "# Предобработка и конструирование признаков"
      ]
    },
    {
      "cell_type": "code",
      "execution_count": 7,
      "metadata": {
        "id": "LT7bUvYub2NZ"
      },
      "outputs": [],
      "source": [
        "df_train = extract_time_series_features(df=df_train)\n",
        "df_val = extract_time_series_features(df=df_val)\n",
        "df_test = extract_time_series_features(df=df_test)"
      ]
    },
    {
      "cell_type": "code",
      "execution_count": 8,
      "metadata": {
        "id": "hgevIVZpjlUM"
      },
      "outputs": [],
      "source": [
        "df_train, transformers_train = preprocess_time_series(df=df_train, target='target', is_train=True)\n",
        "df_val, transformers_val = preprocess_time_series(df=df_val, target='target', transformers=transformers_train)\n",
        "df_test, transformers_test = preprocess_time_series(df=df_test, target='target', transformers=transformers_train)"
      ]
    },
    {
      "cell_type": "code",
      "execution_count": 9,
      "metadata": {
        "id": "AIrKhm44yvE1"
      },
      "outputs": [],
      "source": [
        "X_train = df_train.drop(columns=['target'])\n",
        "y_train = df_train['target']\n",
        "\n",
        "X_val = df_val.drop(columns=['target'])\n",
        "y_val = df_val['target']\n",
        "\n",
        "X_test = df_test.drop(columns=['target'])\n",
        "y_test = df_test['target']"
      ]
    },
    {
      "cell_type": "markdown",
      "metadata": {
        "id": "4yiRyAdgrgcj"
      },
      "source": [
        "# Моделирование"
      ]
    },
    {
      "cell_type": "markdown",
      "metadata": {
        "id": "XWZFzFZTrlnX"
      },
      "source": [
        "## Подбор гиперпараметров"
      ]
    },
    {
      "cell_type": "code",
      "execution_count": 10,
      "metadata": {
        "colab": {
          "base_uri": "https://localhost:8080/",
          "height": 1000,
          "referenced_widgets": [
            "a3d1aecb290d4f37a6d4b82236cab140",
            "352804ff0799450ea427a628485abc76",
            "44f9fe447a5145e1919deb7fc75ce9ab",
            "3e8bbaf2e3584402942fd56853154d3e",
            "85a6978839294ccda3c4ae428474606f",
            "efc0d17df97649d08591f71f4d049295",
            "0e27ce6c42cd4cf9a0afa6eff77d221e",
            "00a23182a90d48b6a63c55993ea2aef0",
            "17c530eac871448d82b4dc9e4fd5e4ee",
            "42a333cc273f4575acbdd4fecc9f3aae",
            "8ff67d22c3d342a7aa8ae9fbd6880a68",
            "c9c7c66182204ef3934eaca7c0993202",
            "7833fca17cfe49039aacc65490f5583f",
            "46a9380978744c1892ce4a4042668835",
            "c215d7063f064360899ddffa6971b020",
            "9f6850f923be49388f032a480037a3a9",
            "ba2e002bb8694e46babaaf5e2b2eaf2e",
            "b255651542fa48bd9fe08e3784c3353c",
            "e7b90c64de864ffca6012b5fae402344",
            "a2a9b5923676484e868d16981ae4496b",
            "20a1bbd725b84ae4bb462289081cd1a5",
            "c626e10ab2cd424cbffe70446496420f",
            "a3c2f47263444192a5f6411ba51fe45b",
            "5fbb90b43f1443bcaaa912e05a991f94",
            "3a8949ee4dcd4a8fbce20e301373839b",
            "a4b762eb9f034290afef385f4baf2db1",
            "845c97a6e14e409abd0a87ec84f3dd62",
            "2f242b8d6af848349d2eb5e8c87e7db7",
            "05fc1854b3c2411fab92545cfa21d168",
            "b36659b4a7a742ad9453214ee884b91f",
            "dbed898a6772472db205f214b6e2756e",
            "f00f6cbe7e024b81a4473b18e53dee43",
            "2ae34490566946389580e179faf1218c",
            "81bc107d184444dd9774e31f773e579e",
            "84de94261ac44781918bf08e4bb36662",
            "0a3d2bac427d4ce38e3715f7227758c8",
            "707f1108222141bf9ca54e8b3af42e61",
            "7c944174aecf49ccad57212db2f77ffc",
            "bd03bfb2122444c69882b6545cecb9c3",
            "b65d1277c53c4b3eb95b033b2bd03137",
            "fc02909ceb734ad1ba7695244915510e",
            "2bd16d2bd0a643f49d88a7fd68f08399",
            "4ee0185e4b934611b950ebd01d1cd69c",
            "764d506d72d74a1fb553a23ce55db0c7",
            "ca7a67f0f7c541b38bfaf0435d20b7de",
            "82a31949b0544f39ac4841c7d0056f29",
            "13b47d1bdffc4061b49573378f71aff0",
            "62664ba7527549b8bb541f8118bceba5",
            "1c9fbbb2ceb34ae5a5fdcb2a19251893",
            "63594db72a4d440fb3b1b3f58e93527f",
            "64efc1294a2f43ed8ca13d32c82e342c",
            "e0e223151b934f37ae7b029db831f867",
            "a05c8cfd0c1a4d15949359fff2c1383d",
            "c05b0e5303544c63aef329bc9bda80b5",
            "6bef2af79e8c4c459a79968554fcf19f"
          ]
        },
        "id": "geqFOceqej6m",
        "outputId": "2b51ff33-d0d6-4e6a-c7c9-de3654306139"
      },
      "outputs": [
        {
          "name": "stderr",
          "output_type": "stream",
          "text": [
            "[I 2025-05-06 13:24:53,069] A new study created in memory with name: no-name-61783141-d686-452f-ae3d-d4b8cc4e847b\n",
            "Best trial: 7. Best value: 5.6948:   4%|▍         | 1/25 [00:03<01:35,  3.96s/it]"
          ]
        },
        {
          "name": "stdout",
          "output_type": "stream",
          "text": [
            "[I 2025-05-06 13:24:57,057] Trial 7 finished with value: 5.6948034777226315 and parameters: {'iterations': 166, 'depth': 6, 'learning_rate': 0.07332149943022723, 'l2_leaf_reg': 0.5567414500770752, 'subsample': 0.8771450031026653, 'colsample_bylevel': 0.9627567743954868}. Best is trial 7 with value: 5.6948034777226315.\n"
          ]
        },
        {
          "name": "stderr",
          "output_type": "stream",
          "text": [
            "Best trial: 3. Best value: 5.62546:   8%|▊         | 2/25 [00:07<01:30,  3.94s/it]"
          ]
        },
        {
          "name": "stdout",
          "output_type": "stream",
          "text": [
            "[I 2025-05-06 13:25:00,975] Trial 3 finished with value: 5.625455027603245 and parameters: {'iterations': 439, 'depth': 5, 'learning_rate': 0.2641473696196892, 'l2_leaf_reg': 0.9653640433417083, 'subsample': 0.7302440348785374, 'colsample_bylevel': 0.934845200202294}. Best is trial 3 with value: 5.625455027603245.\n"
          ]
        },
        {
          "name": "stderr",
          "output_type": "stream",
          "text": [
            "Best trial: 3. Best value: 5.62546:  12%|█▏        | 3/25 [00:08<00:57,  2.61s/it]"
          ]
        },
        {
          "name": "stdout",
          "output_type": "stream",
          "text": [
            "[I 2025-05-06 13:25:02,004] Trial 1 finished with value: 5.629145983557122 and parameters: {'iterations': 421, 'depth': 7, 'learning_rate': 0.10534943033094435, 'l2_leaf_reg': 9.982986833973097, 'subsample': 0.572042479544429, 'colsample_bylevel': 0.5526503750632608}. Best is trial 3 with value: 5.625455027603245.\n"
          ]
        },
        {
          "name": "stderr",
          "output_type": "stream",
          "text": [
            "Best trial: 5. Best value: 5.61407:  16%|█▌        | 4/25 [00:11<00:51,  2.43s/it]"
          ]
        },
        {
          "name": "stdout",
          "output_type": "stream",
          "text": [
            "[I 2025-05-06 13:25:04,157] Trial 5 finished with value: 5.614073935957785 and parameters: {'iterations': 236, 'depth': 9, 'learning_rate': 0.2731177964839968, 'l2_leaf_reg': 1.394495514364268, 'subsample': 0.6459003638144087, 'colsample_bylevel': 0.8783688235048879}. Best is trial 5 with value: 5.614073935957785.\n"
          ]
        },
        {
          "name": "stderr",
          "output_type": "stream",
          "text": [
            "Best trial: 5. Best value: 5.61407:  20%|██        | 5/25 [00:11<00:35,  1.80s/it]"
          ]
        },
        {
          "name": "stdout",
          "output_type": "stream",
          "text": [
            "[I 2025-05-06 13:25:04,821] Trial 4 finished with value: 5.615908615964427 and parameters: {'iterations': 810, 'depth': 5, 'learning_rate': 0.25458263074719406, 'l2_leaf_reg': 0.717698826673558, 'subsample': 0.5175960046087373, 'colsample_bylevel': 0.7364807991031703}. Best is trial 5 with value: 5.614073935957785.\n"
          ]
        },
        {
          "name": "stderr",
          "output_type": "stream",
          "text": [
            "Best trial: 5. Best value: 5.61407:  24%|██▍       | 6/25 [00:12<00:27,  1.45s/it]"
          ]
        },
        {
          "name": "stdout",
          "output_type": "stream",
          "text": [
            "[I 2025-05-06 13:25:05,608] Trial 12 finished with value: 5.835248474086731 and parameters: {'iterations': 239, 'depth': 4, 'learning_rate': 0.018424307721465395, 'l2_leaf_reg': 8.735490006204628, 'subsample': 0.61345453588729, 'colsample_bylevel': 0.8655401315844118}. Best is trial 5 with value: 5.614073935957785.\n",
            "[I 2025-05-06 13:25:05,654] Trial 2 finished with value: 5.64234855972109 and parameters: {'iterations': 523, 'depth': 7, 'learning_rate': 0.0459190692383785, 'l2_leaf_reg': 7.0734799975641085, 'subsample': 0.7940291084778228, 'colsample_bylevel': 0.5177087353347294}. Best is trial 5 with value: 5.614073935957785.\n"
          ]
        },
        {
          "name": "stderr",
          "output_type": "stream",
          "text": [
            "Best trial: 5. Best value: 5.61407:  32%|███▏      | 8/25 [00:14<00:22,  1.32s/it]"
          ]
        },
        {
          "name": "stdout",
          "output_type": "stream",
          "text": [
            "[I 2025-05-06 13:25:07,996] Trial 8 finished with value: 5.640965819168096 and parameters: {'iterations': 204, 'depth': 10, 'learning_rate': 0.1908773755769444, 'l2_leaf_reg': 7.718232553654122, 'subsample': 0.6271648609932298, 'colsample_bylevel': 0.8237968144861034}. Best is trial 5 with value: 5.614073935957785.\n"
          ]
        },
        {
          "name": "stderr",
          "output_type": "stream",
          "text": [
            "Best trial: 5. Best value: 5.61407:  36%|███▌      | 9/25 [00:15<00:17,  1.08s/it]"
          ]
        },
        {
          "name": "stdout",
          "output_type": "stream",
          "text": [
            "[I 2025-05-06 13:25:08,396] Trial 10 finished with value: 5.62690179735639 and parameters: {'iterations': 619, 'depth': 6, 'learning_rate': 0.09022537221336983, 'l2_leaf_reg': 4.714051389378075, 'subsample': 0.6188207103483505, 'colsample_bylevel': 0.6260519442774712}. Best is trial 5 with value: 5.614073935957785.\n"
          ]
        },
        {
          "name": "stderr",
          "output_type": "stream",
          "text": [
            "Best trial: 6. Best value: 5.60542:  40%|████      | 10/25 [00:23<00:45,  3.01s/it]"
          ]
        },
        {
          "name": "stdout",
          "output_type": "stream",
          "text": [
            "[I 2025-05-06 13:25:16,574] Trial 6 finished with value: 5.605418652687203 and parameters: {'iterations': 998, 'depth': 6, 'learning_rate': 0.24743055670643338, 'l2_leaf_reg': 5.552319844607913, 'subsample': 0.921995531866795, 'colsample_bylevel': 0.6914635815420354}. Best is trial 6 with value: 5.605418652687203.\n"
          ]
        },
        {
          "name": "stderr",
          "output_type": "stream",
          "text": [
            "Best trial: 11. Best value: 5.595:  44%|████▍     | 11/25 [00:24<00:36,  2.58s/it] "
          ]
        },
        {
          "name": "stdout",
          "output_type": "stream",
          "text": [
            "[I 2025-05-06 13:25:18,067] Trial 11 finished with value: 5.595001295387574 and parameters: {'iterations': 356, 'depth': 9, 'learning_rate': 0.2281985091534991, 'l2_leaf_reg': 5.84952563005206, 'subsample': 0.8704055683106509, 'colsample_bylevel': 0.7358666333643091}. Best is trial 11 with value: 5.595001295387574.\n"
          ]
        },
        {
          "name": "stderr",
          "output_type": "stream",
          "text": [
            "Best trial: 11. Best value: 5.595:  48%|████▊     | 12/25 [00:25<00:25,  1.95s/it]"
          ]
        },
        {
          "name": "stdout",
          "output_type": "stream",
          "text": [
            "[I 2025-05-06 13:25:18,438] Trial 9 finished with value: 5.626118550951408 and parameters: {'iterations': 622, 'depth': 9, 'learning_rate': 0.04364633937035363, 'l2_leaf_reg': 0.7865621438030868, 'subsample': 0.5328578491281489, 'colsample_bylevel': 0.7083314481138693}. Best is trial 11 with value: 5.595001295387574.\n"
          ]
        },
        {
          "name": "stderr",
          "output_type": "stream",
          "text": [
            "Best trial: 11. Best value: 5.595:  52%|█████▏    | 13/25 [00:25<00:18,  1.54s/it]"
          ]
        },
        {
          "name": "stdout",
          "output_type": "stream",
          "text": [
            "[I 2025-05-06 13:25:18,949] Trial 16 finished with value: 5.639462192266276 and parameters: {'iterations': 403, 'depth': 8, 'learning_rate': 0.10042539303501463, 'l2_leaf_reg': 5.331439608125372, 'subsample': 0.8684044228203556, 'colsample_bylevel': 0.5701532976082562}. Best is trial 11 with value: 5.595001295387574.\n"
          ]
        },
        {
          "name": "stderr",
          "output_type": "stream",
          "text": [
            "Best trial: 11. Best value: 5.595:  56%|█████▌    | 14/25 [00:26<00:14,  1.35s/it]"
          ]
        },
        {
          "name": "stdout",
          "output_type": "stream",
          "text": [
            "[I 2025-05-06 13:25:19,859] Trial 15 finished with value: 5.633345922264039 and parameters: {'iterations': 721, 'depth': 6, 'learning_rate': 0.07827036856047451, 'l2_leaf_reg': 7.493956462839032, 'subsample': 0.6536834499850787, 'colsample_bylevel': 0.7244969173074767}. Best is trial 11 with value: 5.595001295387574.\n"
          ]
        },
        {
          "name": "stderr",
          "output_type": "stream",
          "text": [
            "Best trial: 11. Best value: 5.595:  60%|██████    | 15/25 [00:28<00:13,  1.35s/it]"
          ]
        },
        {
          "name": "stdout",
          "output_type": "stream",
          "text": [
            "[I 2025-05-06 13:25:21,207] Trial 14 finished with value: 5.608439420616642 and parameters: {'iterations': 583, 'depth': 7, 'learning_rate': 0.2299917583050735, 'l2_leaf_reg': 8.640314713185964, 'subsample': 0.8166517837387586, 'colsample_bylevel': 0.97793061974748}. Best is trial 11 with value: 5.595001295387574.\n"
          ]
        },
        {
          "name": "stderr",
          "output_type": "stream",
          "text": [
            "Best trial: 11. Best value: 5.595:  64%|██████▍   | 16/25 [00:29<00:12,  1.34s/it]"
          ]
        },
        {
          "name": "stdout",
          "output_type": "stream",
          "text": [
            "[I 2025-05-06 13:25:22,528] Trial 13 finished with value: 5.629260312281728 and parameters: {'iterations': 450, 'depth': 9, 'learning_rate': 0.16406862602280625, 'l2_leaf_reg': 0.8677089465437898, 'subsample': 0.5787458417982976, 'colsample_bylevel': 0.6748580784063654}. Best is trial 11 with value: 5.595001295387574.\n"
          ]
        },
        {
          "name": "stderr",
          "output_type": "stream",
          "text": [
            "Best trial: 11. Best value: 5.595:  72%|███████▏  | 18/25 [00:31<00:07,  1.06s/it]"
          ]
        },
        {
          "name": "stdout",
          "output_type": "stream",
          "text": [
            "[I 2025-05-06 13:25:24,281] Trial 17 finished with value: 5.629301530276647 and parameters: {'iterations': 653, 'depth': 7, 'learning_rate': 0.23359292487430747, 'l2_leaf_reg': 2.0321709544334423, 'subsample': 0.6441902722369779, 'colsample_bylevel': 0.9150055744498513}. Best is trial 11 with value: 5.595001295387574.\n",
            "[I 2025-05-06 13:25:24,399] Trial 18 finished with value: 5.620473362880034 and parameters: {'iterations': 739, 'depth': 7, 'learning_rate': 0.1182122013309363, 'l2_leaf_reg': 0.22056655226747995, 'subsample': 0.5427030358169918, 'colsample_bylevel': 0.6591080825448846}. Best is trial 11 with value: 5.595001295387574.\n"
          ]
        },
        {
          "name": "stderr",
          "output_type": "stream",
          "text": [
            "Best trial: 11. Best value: 5.595:  76%|███████▌  | 19/25 [00:35<00:11,  1.89s/it]"
          ]
        },
        {
          "name": "stdout",
          "output_type": "stream",
          "text": [
            "[I 2025-05-06 13:25:28,245] Trial 19 finished with value: 5.629144628737456 and parameters: {'iterations': 991, 'depth': 3, 'learning_rate': 0.19208574294648562, 'l2_leaf_reg': 5.081077236768359, 'subsample': 0.9800856441276921, 'colsample_bylevel': 0.6890142342874799}. Best is trial 11 with value: 5.595001295387574.\n"
          ]
        },
        {
          "name": "stderr",
          "output_type": "stream",
          "text": [
            "Best trial: 11. Best value: 5.595:  80%|████████  | 20/25 [00:36<00:09,  1.83s/it]"
          ]
        },
        {
          "name": "stdout",
          "output_type": "stream",
          "text": [
            "[I 2025-05-06 13:25:29,910] Trial 22 finished with value: 5.63122278899465 and parameters: {'iterations': 989, 'depth': 3, 'learning_rate': 0.19934100566981536, 'l2_leaf_reg': 4.274468316954694, 'subsample': 0.9890088583924858, 'colsample_bylevel': 0.6559345145743529}. Best is trial 11 with value: 5.595001295387574.\n"
          ]
        },
        {
          "name": "stderr",
          "output_type": "stream",
          "text": [
            "Best trial: 11. Best value: 5.595:  84%|████████▍ | 21/25 [00:37<00:06,  1.60s/it]"
          ]
        },
        {
          "name": "stdout",
          "output_type": "stream",
          "text": [
            "[I 2025-05-06 13:25:30,978] Trial 24 finished with value: 5.625892568038531 and parameters: {'iterations': 938, 'depth': 3, 'learning_rate': 0.18282199105841934, 'l2_leaf_reg': 4.220579134857784, 'subsample': 0.987726266861001, 'colsample_bylevel': 0.6524367551867543}. Best is trial 11 with value: 5.595001295387574.\n"
          ]
        },
        {
          "name": "stderr",
          "output_type": "stream",
          "text": [
            "Best trial: 11. Best value: 5.595:  88%|████████▊ | 22/25 [00:45<00:09,  3.30s/it]"
          ]
        },
        {
          "name": "stdout",
          "output_type": "stream",
          "text": [
            "[I 2025-05-06 13:25:38,269] Trial 0 finished with value: 5.640936779404953 and parameters: {'iterations': 905, 'depth': 10, 'learning_rate': 0.15911670824434074, 'l2_leaf_reg': 1.7085150045626047, 'subsample': 0.8546599301106442, 'colsample_bylevel': 0.6803745116680648}. Best is trial 11 with value: 5.595001295387574.\n"
          ]
        },
        {
          "name": "stderr",
          "output_type": "stream",
          "text": [
            "Best trial: 11. Best value: 5.595:  96%|█████████▌| 24/25 [00:47<00:02,  2.17s/it]"
          ]
        },
        {
          "name": "stdout",
          "output_type": "stream",
          "text": [
            "[I 2025-05-06 13:25:40,695] Trial 21 finished with value: 5.6163618579769325 and parameters: {'iterations': 967, 'depth': 8, 'learning_rate': 0.20004370858576884, 'l2_leaf_reg': 4.97134719683875, 'subsample': 0.9915494718258158, 'colsample_bylevel': 0.6538282811394155}. Best is trial 11 with value: 5.595001295387574.\n",
            "[I 2025-05-06 13:25:40,823] Trial 23 finished with value: 5.617636307747596 and parameters: {'iterations': 930, 'depth': 8, 'learning_rate': 0.20804769465879452, 'l2_leaf_reg': 3.8161523003237927, 'subsample': 0.9979457969110097, 'colsample_bylevel': 0.6537713916654271}. Best is trial 11 with value: 5.595001295387574.\n"
          ]
        },
        {
          "name": "stderr",
          "output_type": "stream",
          "text": [
            "Best trial: 11. Best value: 5.595: 100%|██████████| 25/25 [00:47<00:00,  1.91s/it]\n",
            "[I 2025-05-06 13:25:40,953] A new study created in memory with name: no-name-de520ed5-c024-43a2-bf84-e811d6cb9570\n"
          ]
        },
        {
          "name": "stdout",
          "output_type": "stream",
          "text": [
            "[I 2025-05-06 13:25:40,951] Trial 20 finished with value: 5.609995391109162 and parameters: {'iterations': 971, 'depth': 8, 'learning_rate': 0.2021881398103535, 'l2_leaf_reg': 4.703743687741505, 'subsample': 0.9915727954055353, 'colsample_bylevel': 0.7151850531694751}. Best is trial 11 with value: 5.595001295387574.\n"
          ]
        },
        {
          "name": "stderr",
          "output_type": "stream",
          "text": [
            "Best trial: 8. Best value: 5.84122:   4%|▍         | 1/25 [00:57<23:05, 57.72s/it]"
          ]
        },
        {
          "name": "stdout",
          "output_type": "stream",
          "text": [
            "[I 2025-05-06 13:26:38,669] Trial 8 finished with value: 5.841222365152599 and parameters: {'n_estimators': 142, 'max_depth': 4, 'min_samples_split': 7, 'min_samples_leaf': 5, 'bootstrap': True}. Best is trial 8 with value: 5.841222365152599.\n"
          ]
        },
        {
          "name": "stderr",
          "output_type": "stream",
          "text": [
            "Best trial: 7. Best value: 5.7358:   8%|▊         | 2/25 [01:26<15:33, 40.57s/it] "
          ]
        },
        {
          "name": "stdout",
          "output_type": "stream",
          "text": [
            "[I 2025-05-06 13:27:07,237] Trial 7 finished with value: 5.735795589383117 and parameters: {'n_estimators': 95, 'max_depth': 6, 'min_samples_split': 5, 'min_samples_leaf': 8, 'bootstrap': False}. Best is trial 7 with value: 5.735795589383117.\n"
          ]
        },
        {
          "name": "stderr",
          "output_type": "stream",
          "text": [
            "Best trial: 3. Best value: 5.69526:  12%|█▏        | 3/25 [01:34<09:30, 25.95s/it]"
          ]
        },
        {
          "name": "stdout",
          "output_type": "stream",
          "text": [
            "[I 2025-05-06 13:27:15,782] Trial 3 finished with value: 5.6952570578675585 and parameters: {'n_estimators': 69, 'max_depth': 10, 'min_samples_split': 8, 'min_samples_leaf': 10, 'bootstrap': False}. Best is trial 3 with value: 5.6952570578675585.\n"
          ]
        },
        {
          "name": "stderr",
          "output_type": "stream",
          "text": [
            "Best trial: 3. Best value: 5.69526:  16%|█▌        | 4/25 [01:49<07:34, 21.65s/it]"
          ]
        },
        {
          "name": "stdout",
          "output_type": "stream",
          "text": [
            "[I 2025-05-06 13:27:30,852] Trial 0 finished with value: 5.912141155498914 and parameters: {'n_estimators': 249, 'max_depth': 3, 'min_samples_split': 10, 'min_samples_leaf': 9, 'bootstrap': False}. Best is trial 3 with value: 5.6952570578675585.\n"
          ]
        },
        {
          "name": "stderr",
          "output_type": "stream",
          "text": [
            "Best trial: 3. Best value: 5.69526:  20%|██        | 5/25 [02:03<06:17, 18.88s/it]"
          ]
        },
        {
          "name": "stdout",
          "output_type": "stream",
          "text": [
            "[I 2025-05-06 13:27:44,815] Trial 2 finished with value: 5.734831050623254 and parameters: {'n_estimators': 252, 'max_depth': 5, 'min_samples_split': 3, 'min_samples_leaf': 2, 'bootstrap': True}. Best is trial 3 with value: 5.6952570578675585.\n"
          ]
        },
        {
          "name": "stderr",
          "output_type": "stream",
          "text": [
            "Best trial: 3. Best value: 5.69526:  24%|██▍       | 6/25 [02:29<06:39, 21.05s/it]"
          ]
        },
        {
          "name": "stdout",
          "output_type": "stream",
          "text": [
            "[I 2025-05-06 13:28:10,073] Trial 9 finished with value: 5.714977200561047 and parameters: {'n_estimators': 258, 'max_depth': 6, 'min_samples_split': 6, 'min_samples_leaf': 10, 'bootstrap': True}. Best is trial 3 with value: 5.6952570578675585.\n"
          ]
        },
        {
          "name": "stderr",
          "output_type": "stream",
          "text": [
            "Best trial: 6. Best value: 5.68759:  28%|██▊       | 7/25 [02:50<06:19, 21.06s/it]"
          ]
        },
        {
          "name": "stdout",
          "output_type": "stream",
          "text": [
            "[I 2025-05-06 13:28:31,147] Trial 6 finished with value: 5.6875922608569685 and parameters: {'n_estimators': 257, 'max_depth': 7, 'min_samples_split': 6, 'min_samples_leaf': 1, 'bootstrap': True}. Best is trial 6 with value: 5.6875922608569685.\n"
          ]
        },
        {
          "name": "stderr",
          "output_type": "stream",
          "text": [
            "Best trial: 6. Best value: 5.68759:  32%|███▏      | 8/25 [04:02<10:37, 37.49s/it]"
          ]
        },
        {
          "name": "stdout",
          "output_type": "stream",
          "text": [
            "[I 2025-05-06 13:29:43,821] Trial 4 finished with value: 5.81814930896185 and parameters: {'n_estimators': 332, 'max_depth': 5, 'min_samples_split': 10, 'min_samples_leaf': 4, 'bootstrap': False}. Best is trial 6 with value: 5.6875922608569685.\n"
          ]
        },
        {
          "name": "stderr",
          "output_type": "stream",
          "text": [
            "Best trial: 1. Best value: 5.64991:  36%|███▌      | 9/25 [04:54<11:11, 41.98s/it]"
          ]
        },
        {
          "name": "stdout",
          "output_type": "stream",
          "text": [
            "[I 2025-05-06 13:30:35,666] Trial 1 finished with value: 5.649912803633638 and parameters: {'n_estimators': 371, 'max_depth': 9, 'min_samples_split': 6, 'min_samples_leaf': 6, 'bootstrap': True}. Best is trial 1 with value: 5.649912803633638.\n"
          ]
        },
        {
          "name": "stderr",
          "output_type": "stream",
          "text": [
            "Best trial: 1. Best value: 5.64991:  40%|████      | 10/25 [04:54<07:16, 29.08s/it]"
          ]
        },
        {
          "name": "stdout",
          "output_type": "stream",
          "text": [
            "[I 2025-05-06 13:30:35,879] Trial 10 finished with value: 5.685843526010939 and parameters: {'n_estimators': 371, 'max_depth': 7, 'min_samples_split': 6, 'min_samples_leaf': 9, 'bootstrap': True}. Best is trial 1 with value: 5.649912803633638.\n"
          ]
        },
        {
          "name": "stderr",
          "output_type": "stream",
          "text": [
            "Best trial: 1. Best value: 5.64991:  44%|████▍     | 11/25 [05:09<05:46, 24.78s/it]"
          ]
        },
        {
          "name": "stdout",
          "output_type": "stream",
          "text": [
            "[I 2025-05-06 13:30:50,898] Trial 12 finished with value: 5.912141155498914 and parameters: {'n_estimators': 497, 'max_depth': 3, 'min_samples_split': 3, 'min_samples_leaf': 6, 'bootstrap': False}. Best is trial 1 with value: 5.649912803633638.\n"
          ]
        },
        {
          "name": "stderr",
          "output_type": "stream",
          "text": [
            "Best trial: 1. Best value: 5.64991:  48%|████▊     | 12/25 [05:17<04:14, 19.57s/it]"
          ]
        },
        {
          "name": "stdout",
          "output_type": "stream",
          "text": [
            "[I 2025-05-06 13:30:58,541] Trial 16 finished with value: 5.7337779239661755 and parameters: {'n_estimators': 320, 'max_depth': 5, 'min_samples_split': 4, 'min_samples_leaf': 10, 'bootstrap': True}. Best is trial 1 with value: 5.649912803633638.\n"
          ]
        },
        {
          "name": "stderr",
          "output_type": "stream",
          "text": [
            "Best trial: 1. Best value: 5.64991:  52%|█████▏    | 13/25 [05:33<03:40, 18.34s/it]"
          ]
        },
        {
          "name": "stdout",
          "output_type": "stream",
          "text": [
            "[I 2025-05-06 13:31:14,072] Trial 14 finished with value: 5.735795589383117 and parameters: {'n_estimators': 250, 'max_depth': 6, 'min_samples_split': 3, 'min_samples_leaf': 8, 'bootstrap': False}. Best is trial 1 with value: 5.649912803633638.\n"
          ]
        },
        {
          "name": "stderr",
          "output_type": "stream",
          "text": [
            "Best trial: 1. Best value: 5.64991:  56%|█████▌    | 14/25 [05:49<03:14, 17.67s/it]"
          ]
        },
        {
          "name": "stdout",
          "output_type": "stream",
          "text": [
            "[I 2025-05-06 13:31:30,195] Trial 5 finished with value: 5.689428891555554 and parameters: {'n_estimators': 285, 'max_depth': 9, 'min_samples_split': 8, 'min_samples_leaf': 4, 'bootstrap': False}. Best is trial 1 with value: 5.649912803633638.\n"
          ]
        },
        {
          "name": "stderr",
          "output_type": "stream",
          "text": [
            "Best trial: 1. Best value: 5.64991:  60%|██████    | 15/25 [05:55<02:21, 14.13s/it]"
          ]
        },
        {
          "name": "stdout",
          "output_type": "stream",
          "text": [
            "[I 2025-05-06 13:31:36,118] Trial 17 finished with value: 5.651982410225331 and parameters: {'n_estimators': 143, 'max_depth': 9, 'min_samples_split': 8, 'min_samples_leaf': 9, 'bootstrap': True}. Best is trial 1 with value: 5.649912803633638.\n"
          ]
        },
        {
          "name": "stderr",
          "output_type": "stream",
          "text": [
            "Best trial: 1. Best value: 5.64991:  64%|██████▍   | 16/25 [06:48<03:53, 26.00s/it]"
          ]
        },
        {
          "name": "stdout",
          "output_type": "stream",
          "text": [
            "[I 2025-05-06 13:32:29,665] Trial 15 finished with value: 5.727921523767027 and parameters: {'n_estimators': 240, 'max_depth': 8, 'min_samples_split': 10, 'min_samples_leaf': 7, 'bootstrap': False}. Best is trial 1 with value: 5.649912803633638.\n"
          ]
        },
        {
          "name": "stderr",
          "output_type": "stream",
          "text": [
            "Best trial: 1. Best value: 5.64991:  68%|██████▊   | 17/25 [07:04<03:03, 22.97s/it]"
          ]
        },
        {
          "name": "stdout",
          "output_type": "stream",
          "text": [
            "[I 2025-05-06 13:32:45,611] Trial 11 finished with value: 5.667900687970894 and parameters: {'n_estimators': 478, 'max_depth': 8, 'min_samples_split': 3, 'min_samples_leaf': 8, 'bootstrap': True}. Best is trial 1 with value: 5.649912803633638.\n"
          ]
        },
        {
          "name": "stderr",
          "output_type": "stream",
          "text": [
            "Best trial: 1. Best value: 5.64991:  72%|███████▏  | 18/25 [07:22<02:30, 21.53s/it]"
          ]
        },
        {
          "name": "stdout",
          "output_type": "stream",
          "text": [
            "[I 2025-05-06 13:33:03,770] Trial 18 finished with value: 5.719491289854183 and parameters: {'n_estimators': 157, 'max_depth': 7, 'min_samples_split': 2, 'min_samples_leaf': 4, 'bootstrap': False}. Best is trial 1 with value: 5.649912803633638.\n"
          ]
        },
        {
          "name": "stderr",
          "output_type": "stream",
          "text": [
            "Best trial: 1. Best value: 5.64991:  76%|███████▌  | 19/25 [08:03<02:42, 27.16s/it]"
          ]
        },
        {
          "name": "stdout",
          "output_type": "stream",
          "text": [
            "[I 2025-05-06 13:33:44,041] Trial 13 finished with value: 5.689829311259385 and parameters: {'n_estimators': 325, 'max_depth': 9, 'min_samples_split': 8, 'min_samples_leaf': 1, 'bootstrap': False}. Best is trial 1 with value: 5.649912803633638.\n"
          ]
        },
        {
          "name": "stderr",
          "output_type": "stream",
          "text": [
            "Best trial: 1. Best value: 5.64991:  80%|████████  | 20/25 [09:17<03:26, 41.29s/it]"
          ]
        },
        {
          "name": "stdout",
          "output_type": "stream",
          "text": [
            "[I 2025-05-06 13:34:58,258] Trial 20 finished with value: 5.651413967389799 and parameters: {'n_estimators': 407, 'max_depth': 9, 'min_samples_split': 4, 'min_samples_leaf': 7, 'bootstrap': True}. Best is trial 1 with value: 5.649912803633638.\n"
          ]
        },
        {
          "name": "stderr",
          "output_type": "stream",
          "text": [
            "Best trial: 1. Best value: 5.64991:  84%|████████▍ | 21/25 [09:27<02:07, 31.89s/it]"
          ]
        },
        {
          "name": "stdout",
          "output_type": "stream",
          "text": [
            "[I 2025-05-06 13:35:08,250] Trial 23 finished with value: 5.668117672039538 and parameters: {'n_estimators': 418, 'max_depth': 8, 'min_samples_split': 5, 'min_samples_leaf': 6, 'bootstrap': True}. Best is trial 1 with value: 5.649912803633638.\n"
          ]
        },
        {
          "name": "stderr",
          "output_type": "stream",
          "text": [
            "Best trial: 1. Best value: 5.64991:  88%|████████▊ | 22/25 [09:28<01:07, 22.55s/it]"
          ]
        },
        {
          "name": "stdout",
          "output_type": "stream",
          "text": [
            "[I 2025-05-06 13:35:08,998] Trial 21 finished with value: 5.651418646214871 and parameters: {'n_estimators': 422, 'max_depth': 9, 'min_samples_split': 8, 'min_samples_leaf': 7, 'bootstrap': True}. Best is trial 1 with value: 5.649912803633638.\n"
          ]
        },
        {
          "name": "stderr",
          "output_type": "stream",
          "text": [
            "Best trial: 1. Best value: 5.64991:  92%|█████████▏| 23/25 [09:34<00:35, 17.82s/it]"
          ]
        },
        {
          "name": "stdout",
          "output_type": "stream",
          "text": [
            "[I 2025-05-06 13:35:15,807] Trial 22 finished with value: 5.651385215175101 and parameters: {'n_estimators': 434, 'max_depth': 9, 'min_samples_split': 8, 'min_samples_leaf': 7, 'bootstrap': True}. Best is trial 1 with value: 5.649912803633638.\n"
          ]
        },
        {
          "name": "stderr",
          "output_type": "stream",
          "text": [
            "Best trial: 19. Best value: 5.63693:  96%|█████████▌| 24/25 [09:38<00:13, 13.50s/it]"
          ]
        },
        {
          "name": "stdout",
          "output_type": "stream",
          "text": [
            "[I 2025-05-06 13:35:19,208] Trial 19 finished with value: 5.636934621058826 and parameters: {'n_estimators': 468, 'max_depth': 10, 'min_samples_split': 2, 'min_samples_leaf': 7, 'bootstrap': True}. Best is trial 19 with value: 5.636934621058826.\n"
          ]
        },
        {
          "name": "stderr",
          "output_type": "stream",
          "text": [
            "Best trial: 19. Best value: 5.63693: 100%|██████████| 25/25 [09:39<00:00, 23.16s/it]\n",
            "[I 2025-05-06 13:35:20,039] A new study created in memory with name: no-name-18ac00ae-bbce-437d-ac04-bee33f304341\n"
          ]
        },
        {
          "name": "stdout",
          "output_type": "stream",
          "text": [
            "[I 2025-05-06 13:35:20,038] Trial 24 finished with value: 5.651549499347297 and parameters: {'n_estimators': 441, 'max_depth': 9, 'min_samples_split': 8, 'min_samples_leaf': 7, 'bootstrap': True}. Best is trial 19 with value: 5.636934621058826.\n"
          ]
        },
        {
          "name": "stderr",
          "output_type": "stream",
          "text": [
            "Best trial: 5. Best value: 5.80181:   4%|▍         | 1/25 [00:46<18:46, 46.95s/it]"
          ]
        },
        {
          "name": "stdout",
          "output_type": "stream",
          "text": [
            "[I 2025-05-06 13:36:06,987] Trial 5 finished with value: 5.801810214168271 and parameters: {'n_estimators': 131, 'learning_rate': 0.21837114074053116}. Best is trial 5 with value: 5.801810214168271.\n"
          ]
        },
        {
          "name": "stderr",
          "output_type": "stream",
          "text": [
            "Best trial: 8. Best value: 5.78203:   8%|▊         | 2/25 [01:06<11:43, 30.59s/it]"
          ]
        },
        {
          "name": "stdout",
          "output_type": "stream",
          "text": [
            "[I 2025-05-06 13:36:26,123] Trial 8 finished with value: 5.7820336370680705 and parameters: {'n_estimators': 244, 'learning_rate': 0.26424835591753615}. Best is trial 8 with value: 5.7820336370680705.\n"
          ]
        },
        {
          "name": "stderr",
          "output_type": "stream",
          "text": [
            "Best trial: 6. Best value: 5.77927:  12%|█▏        | 3/25 [01:29<10:04, 27.47s/it]"
          ]
        },
        {
          "name": "stdout",
          "output_type": "stream",
          "text": [
            "[I 2025-05-06 13:36:49,873] Trial 6 finished with value: 5.7792665728970745 and parameters: {'n_estimators': 343, 'learning_rate': 0.217099670591633}. Best is trial 6 with value: 5.7792665728970745.\n"
          ]
        },
        {
          "name": "stderr",
          "output_type": "stream",
          "text": [
            "Best trial: 6. Best value: 5.77927:  16%|█▌        | 4/25 [01:31<06:03, 17.32s/it]"
          ]
        },
        {
          "name": "stdout",
          "output_type": "stream",
          "text": [
            "[I 2025-05-06 13:36:51,645] Trial 4 finished with value: 5.7826515046952345 and parameters: {'n_estimators': 343, 'learning_rate': 0.20247113230857627}. Best is trial 6 with value: 5.7792665728970745.\n"
          ]
        },
        {
          "name": "stderr",
          "output_type": "stream",
          "text": [
            "Best trial: 6. Best value: 5.77927:  20%|██        | 5/25 [01:33<03:53, 11.68s/it]"
          ]
        },
        {
          "name": "stdout",
          "output_type": "stream",
          "text": [
            "[I 2025-05-06 13:36:53,331] Trial 1 finished with value: 5.7901662715429625 and parameters: {'n_estimators': 216, 'learning_rate': 0.07927277193443294}. Best is trial 6 with value: 5.7792665728970745.\n"
          ]
        },
        {
          "name": "stderr",
          "output_type": "stream",
          "text": [
            "Best trial: 10. Best value: 5.77748:  24%|██▍       | 6/25 [01:39<03:05,  9.75s/it]"
          ]
        },
        {
          "name": "stdout",
          "output_type": "stream",
          "text": [
            "[I 2025-05-06 13:36:59,325] Trial 10 finished with value: 5.777481481185114 and parameters: {'n_estimators': 103, 'learning_rate': 0.0717007362080626}. Best is trial 10 with value: 5.777481481185114.\n"
          ]
        },
        {
          "name": "stderr",
          "output_type": "stream",
          "text": [
            "Best trial: 10. Best value: 5.77748:  28%|██▊       | 7/25 [01:47<02:45,  9.17s/it]"
          ]
        },
        {
          "name": "stdout",
          "output_type": "stream",
          "text": [
            "[I 2025-05-06 13:37:07,298] Trial 3 finished with value: 5.7841502171511685 and parameters: {'n_estimators': 381, 'learning_rate': 0.16255509833342036}. Best is trial 10 with value: 5.777481481185114.\n"
          ]
        },
        {
          "name": "stderr",
          "output_type": "stream",
          "text": [
            "Best trial: 10. Best value: 5.77748:  32%|███▏      | 8/25 [02:06<03:28, 12.29s/it]"
          ]
        },
        {
          "name": "stdout",
          "output_type": "stream",
          "text": [
            "[I 2025-05-06 13:37:26,273] Trial 9 finished with value: 5.78092982792004 and parameters: {'n_estimators': 420, 'learning_rate': 0.12626069553099975}. Best is trial 10 with value: 5.777481481185114.\n"
          ]
        },
        {
          "name": "stderr",
          "output_type": "stream",
          "text": [
            "Best trial: 10. Best value: 5.77748:  36%|███▌      | 9/25 [02:19<03:23, 12.73s/it]"
          ]
        },
        {
          "name": "stdout",
          "output_type": "stream",
          "text": [
            "[I 2025-05-06 13:37:39,968] Trial 2 finished with value: 5.783518942772982 and parameters: {'n_estimators': 466, 'learning_rate': 0.11343423364550836}. Best is trial 10 with value: 5.777481481185114.\n"
          ]
        },
        {
          "name": "stderr",
          "output_type": "stream",
          "text": [
            "Best trial: 10. Best value: 5.77748:  40%|████      | 10/25 [02:22<02:22,  9.48s/it]"
          ]
        },
        {
          "name": "stdout",
          "output_type": "stream",
          "text": [
            "[I 2025-05-06 13:37:42,174] Trial 14 finished with value: 5.791568337620153 and parameters: {'n_estimators': 138, 'learning_rate': 0.2511414227548794}. Best is trial 10 with value: 5.777481481185114.\n"
          ]
        },
        {
          "name": "stderr",
          "output_type": "stream",
          "text": [
            "Best trial: 10. Best value: 5.77748:  44%|████▍     | 11/25 [02:26<01:52,  8.05s/it]"
          ]
        },
        {
          "name": "stdout",
          "output_type": "stream",
          "text": [
            "[I 2025-05-06 13:37:46,971] Trial 0 finished with value: 5.786309173473544 and parameters: {'n_estimators': 427, 'learning_rate': 0.08524782894704835}. Best is trial 10 with value: 5.777481481185114.\n"
          ]
        },
        {
          "name": "stderr",
          "output_type": "stream",
          "text": [
            "Best trial: 10. Best value: 5.77748:  48%|████▊     | 12/25 [02:32<01:34,  7.28s/it]"
          ]
        },
        {
          "name": "stdout",
          "output_type": "stream",
          "text": [
            "[I 2025-05-06 13:37:52,482] Trial 11 finished with value: 5.778381717227163 and parameters: {'n_estimators': 173, 'learning_rate': 0.049750238930873845}. Best is trial 10 with value: 5.777481481185114.\n"
          ]
        },
        {
          "name": "stderr",
          "output_type": "stream",
          "text": [
            "Best trial: 7. Best value: 5.76707:  52%|█████▏    | 13/25 [02:33<01:04,  5.40s/it] "
          ]
        },
        {
          "name": "stdout",
          "output_type": "stream",
          "text": [
            "[I 2025-05-06 13:37:53,570] Trial 7 finished with value: 5.76707453832595 and parameters: {'n_estimators': 300, 'learning_rate': 0.012161198109091635}. Best is trial 7 with value: 5.76707453832595.\n"
          ]
        },
        {
          "name": "stderr",
          "output_type": "stream",
          "text": [
            "Best trial: 7. Best value: 5.76707:  56%|█████▌    | 14/25 [02:53<01:46,  9.66s/it]"
          ]
        },
        {
          "name": "stdout",
          "output_type": "stream",
          "text": [
            "[I 2025-05-06 13:38:12,985] Trial 15 finished with value: 5.785154428231675 and parameters: {'n_estimators': 278, 'learning_rate': 0.2708718969040626}. Best is trial 7 with value: 5.76707453832595.\n"
          ]
        },
        {
          "name": "stderr",
          "output_type": "stream",
          "text": [
            "Best trial: 7. Best value: 5.76707:  60%|██████    | 15/25 [02:56<01:17,  7.74s/it]"
          ]
        },
        {
          "name": "stdout",
          "output_type": "stream",
          "text": [
            "[I 2025-05-06 13:38:16,339] Trial 16 finished with value: 5.777349926313223 and parameters: {'n_estimators': 245, 'learning_rate': 0.25505384581266644}. Best is trial 7 with value: 5.76707453832595.\n"
          ]
        },
        {
          "name": "stderr",
          "output_type": "stream",
          "text": [
            "Best trial: 7. Best value: 5.76707:  64%|██████▍   | 16/25 [02:57<00:51,  5.69s/it]"
          ]
        },
        {
          "name": "stdout",
          "output_type": "stream",
          "text": [
            "[I 2025-05-06 13:38:17,277] Trial 19 finished with value: 5.871765605782991 and parameters: {'n_estimators': 68, 'learning_rate': 0.013660818323328904}. Best is trial 7 with value: 5.76707453832595.\n"
          ]
        },
        {
          "name": "stderr",
          "output_type": "stream",
          "text": [
            "Best trial: 7. Best value: 5.76707:  68%|██████▊   | 17/25 [03:03<00:46,  5.75s/it]"
          ]
        },
        {
          "name": "stdout",
          "output_type": "stream",
          "text": [
            "[I 2025-05-06 13:38:23,181] Trial 21 finished with value: 5.866368008834242 and parameters: {'n_estimators': 59, 'learning_rate': 0.01077676301844041}. Best is trial 7 with value: 5.76707453832595.\n"
          ]
        },
        {
          "name": "stderr",
          "output_type": "stream",
          "text": [
            "Best trial: 7. Best value: 5.76707:  72%|███████▏  | 18/25 [03:15<00:53,  7.70s/it]"
          ]
        },
        {
          "name": "stdout",
          "output_type": "stream",
          "text": [
            "[I 2025-05-06 13:38:35,402] Trial 22 finished with value: 5.806401094388579 and parameters: {'n_estimators': 83, 'learning_rate': 0.02056111324052229}. Best is trial 7 with value: 5.76707453832595.\n"
          ]
        },
        {
          "name": "stderr",
          "output_type": "stream",
          "text": [
            "Best trial: 7. Best value: 5.76707:  76%|███████▌  | 19/25 [03:18<00:38,  6.46s/it]"
          ]
        },
        {
          "name": "stdout",
          "output_type": "stream",
          "text": [
            "[I 2025-05-06 13:38:39,001] Trial 12 finished with value: 5.774382027460428 and parameters: {'n_estimators': 216, 'learning_rate': 0.02206584600511235}. Best is trial 7 with value: 5.76707453832595.\n"
          ]
        },
        {
          "name": "stderr",
          "output_type": "stream",
          "text": [
            "Best trial: 7. Best value: 5.76707:  80%|████████  | 20/25 [03:27<00:35,  7.15s/it]"
          ]
        },
        {
          "name": "stdout",
          "output_type": "stream",
          "text": [
            "[I 2025-05-06 13:38:47,747] Trial 23 finished with value: 5.808144191235926 and parameters: {'n_estimators': 76, 'learning_rate': 0.016755177203086585}. Best is trial 7 with value: 5.76707453832595.\n"
          ]
        },
        {
          "name": "stderr",
          "output_type": "stream",
          "text": [
            "Best trial: 7. Best value: 5.76707:  84%|████████▍ | 21/25 [03:31<00:24,  6.18s/it]"
          ]
        },
        {
          "name": "stdout",
          "output_type": "stream",
          "text": [
            "[I 2025-05-06 13:38:51,668] Trial 17 finished with value: 5.775487489032783 and parameters: {'n_estimators': 329, 'learning_rate': 0.18966792069897992}. Best is trial 7 with value: 5.76707453832595.\n"
          ]
        },
        {
          "name": "stderr",
          "output_type": "stream",
          "text": [
            "Best trial: 7. Best value: 5.76707:  88%|████████▊ | 22/25 [03:32<00:13,  4.63s/it]"
          ]
        },
        {
          "name": "stdout",
          "output_type": "stream",
          "text": [
            "[I 2025-05-06 13:38:52,669] Trial 18 finished with value: 5.7810340567360825 and parameters: {'n_estimators': 338, 'learning_rate': 0.2913261146972242}. Best is trial 7 with value: 5.76707453832595.\n"
          ]
        },
        {
          "name": "stderr",
          "output_type": "stream",
          "text": [
            "Best trial: 7. Best value: 5.76707:  92%|█████████▏| 23/25 [03:48<00:15,  7.93s/it]"
          ]
        },
        {
          "name": "stdout",
          "output_type": "stream",
          "text": [
            "[I 2025-05-06 13:39:08,312] Trial 13 finished with value: 5.787583803246187 and parameters: {'n_estimators': 349, 'learning_rate': 0.04937509926862702}. Best is trial 7 with value: 5.76707453832595.\n"
          ]
        },
        {
          "name": "stderr",
          "output_type": "stream",
          "text": [
            "Best trial: 7. Best value: 5.76707:  96%|█████████▌| 24/25 [04:26<00:16, 16.88s/it]"
          ]
        },
        {
          "name": "stdout",
          "output_type": "stream",
          "text": [
            "[I 2025-05-06 13:39:46,051] Trial 20 finished with value: 5.775640156776011 and parameters: {'n_estimators': 308, 'learning_rate': 0.018322310108894825}. Best is trial 7 with value: 5.76707453832595.\n"
          ]
        },
        {
          "name": "stderr",
          "output_type": "stream",
          "text": [
            "Best trial: 7. Best value: 5.76707: 100%|██████████| 25/25 [04:35<00:00, 11.01s/it]\n",
            "[I 2025-05-06 13:39:55,184] A new study created in memory with name: no-name-885a29e8-3ffd-4277-a6cb-0aeb539f6bd8\n"
          ]
        },
        {
          "name": "stdout",
          "output_type": "stream",
          "text": [
            "[I 2025-05-06 13:39:55,182] Trial 24 finished with value: 5.777276830572929 and parameters: {'n_estimators': 284, 'learning_rate': 0.02423256025854814}. Best is trial 7 with value: 5.76707453832595.\n"
          ]
        },
        {
          "name": "stderr",
          "output_type": "stream",
          "text": [
            "Best trial: 7. Best value: 5.87521:   8%|▊         | 2/25 [00:00<00:06,  3.69it/s]"
          ]
        },
        {
          "name": "stdout",
          "output_type": "stream",
          "text": [
            "[I 2025-05-06 13:39:55,632] Trial 3 finished with value: 5.912141155498914 and parameters: {'max_depth': 3, 'min_samples_split': 7, 'min_samples_leaf': 1}. Best is trial 3 with value: 5.912141155498914.\n",
            "[I 2025-05-06 13:39:55,772] Trial 7 finished with value: 5.875212677233354 and parameters: {'max_depth': 4, 'min_samples_split': 3, 'min_samples_leaf': 9}. Best is trial 7 with value: 5.875212677233354.\n"
          ]
        },
        {
          "name": "stderr",
          "output_type": "stream",
          "text": [
            "Best trial: 6. Best value: 5.7358:  28%|██▊       | 7/25 [00:00<00:02,  7.58it/s] "
          ]
        },
        {
          "name": "stdout",
          "output_type": "stream",
          "text": [
            "[I 2025-05-06 13:39:55,889] Trial 2 finished with value: 5.81814930896185 and parameters: {'max_depth': 5, 'min_samples_split': 9, 'min_samples_leaf': 8}. Best is trial 2 with value: 5.81814930896185.\n",
            "[I 2025-05-06 13:39:55,912] Trial 1 finished with value: 5.81814930896185 and parameters: {'max_depth': 5, 'min_samples_split': 10, 'min_samples_leaf': 6}. Best is trial 2 with value: 5.81814930896185.\n",
            "[I 2025-05-06 13:39:56,049] Trial 0 finished with value: 5.740712851395015 and parameters: {'max_depth': 6, 'min_samples_split': 6, 'min_samples_leaf': 3}. Best is trial 0 with value: 5.740712851395015.\n",
            "[I 2025-05-06 13:39:56,071] Trial 4 finished with value: 5.740213076681948 and parameters: {'max_depth': 6, 'min_samples_split': 3, 'min_samples_leaf': 5}. Best is trial 4 with value: 5.740213076681948.\n",
            "[I 2025-05-06 13:39:56,075] Trial 6 finished with value: 5.735795589383117 and parameters: {'max_depth': 6, 'min_samples_split': 2, 'min_samples_leaf': 6}. Best is trial 6 with value: 5.735795589383117.\n",
            "[I 2025-05-06 13:39:56,085] Trial 5 finished with value: 5.740213076681948 and parameters: {'max_depth': 6, 'min_samples_split': 2, 'min_samples_leaf': 5}. Best is trial 6 with value: 5.735795589383117.\n"
          ]
        },
        {
          "name": "stderr",
          "output_type": "stream",
          "text": [
            "Best trial: 6. Best value: 5.7358:  36%|███▌      | 9/25 [00:01<00:01, 13.14it/s]"
          ]
        },
        {
          "name": "stdout",
          "output_type": "stream",
          "text": [
            "[I 2025-05-06 13:39:56,219] Trial 10 finished with value: 5.875212677233354 and parameters: {'max_depth': 4, 'min_samples_split': 9, 'min_samples_leaf': 1}. Best is trial 6 with value: 5.735795589383117.\n",
            "[I 2025-05-06 13:39:56,248] Trial 11 finished with value: 5.912141155498914 and parameters: {'max_depth': 3, 'min_samples_split': 7, 'min_samples_leaf': 1}. Best is trial 6 with value: 5.735795589383117.\n"
          ]
        },
        {
          "name": "stderr",
          "output_type": "stream",
          "text": [
            "Best trial: 8. Best value: 5.6885:  44%|████▍     | 11/25 [00:01<00:01, 11.03it/s]"
          ]
        },
        {
          "name": "stdout",
          "output_type": "stream",
          "text": [
            "[I 2025-05-06 13:39:56,463] Trial 8 finished with value: 5.688500990050257 and parameters: {'max_depth': 9, 'min_samples_split': 4, 'min_samples_leaf': 3}. Best is trial 8 with value: 5.688500990050257.\n",
            "[I 2025-05-06 13:39:56,554] Trial 9 finished with value: 5.704757868166176 and parameters: {'max_depth': 10, 'min_samples_split': 10, 'min_samples_leaf': 4}. Best is trial 8 with value: 5.688500990050257.\n"
          ]
        },
        {
          "name": "stderr",
          "output_type": "stream",
          "text": [
            "Best trial: 8. Best value: 5.6885:  64%|██████▍   | 16/25 [00:01<00:00, 10.06it/s]"
          ]
        },
        {
          "name": "stdout",
          "output_type": "stream",
          "text": [
            "[I 2025-05-06 13:39:56,974] Trial 15 finished with value: 5.740712851395015 and parameters: {'max_depth': 6, 'min_samples_split': 7, 'min_samples_leaf': 1}. Best is trial 8 with value: 5.688500990050257.\n",
            "[I 2025-05-06 13:39:57,031] Trial 17 finished with value: 5.735795589383117 and parameters: {'max_depth': 6, 'min_samples_split': 4, 'min_samples_leaf': 8}. Best is trial 8 with value: 5.688500990050257.\n",
            "[I 2025-05-06 13:39:57,066] Trial 13 finished with value: 5.73123743119304 and parameters: {'max_depth': 8, 'min_samples_split': 7, 'min_samples_leaf': 2}. Best is trial 8 with value: 5.688500990050257.\n",
            "[I 2025-05-06 13:39:57,084] Trial 18 finished with value: 5.735795589383117 and parameters: {'max_depth': 6, 'min_samples_split': 6, 'min_samples_leaf': 6}. Best is trial 8 with value: 5.688500990050257.\n"
          ]
        },
        {
          "name": "stderr",
          "output_type": "stream",
          "text": [
            "Best trial: 14. Best value: 5.67981:  72%|███████▏  | 18/25 [00:02<00:00,  9.67it/s]"
          ]
        },
        {
          "name": "stdout",
          "output_type": "stream",
          "text": [
            "[I 2025-05-06 13:39:57,229] Trial 12 finished with value: 5.703117209592046 and parameters: {'max_depth': 10, 'min_samples_split': 7, 'min_samples_leaf': 2}. Best is trial 8 with value: 5.688500990050257.\n",
            "[I 2025-05-06 13:39:57,313] Trial 14 finished with value: 5.679813982528456 and parameters: {'max_depth': 9, 'min_samples_split': 10, 'min_samples_leaf': 8}. Best is trial 14 with value: 5.679813982528456.\n",
            "[I 2025-05-06 13:39:57,382] Trial 16 finished with value: 5.692080985011595 and parameters: {'max_depth': 9, 'min_samples_split': 3, 'min_samples_leaf': 4}. Best is trial 14 with value: 5.679813982528456.\n"
          ]
        },
        {
          "name": "stderr",
          "output_type": "stream",
          "text": [
            "Best trial: 14. Best value: 5.67981:  80%|████████  | 20/25 [00:02<00:00, 10.38it/s]"
          ]
        },
        {
          "name": "stdout",
          "output_type": "stream",
          "text": [
            "[I 2025-05-06 13:39:57,470] Trial 19 finished with value: 5.68865876865948 and parameters: {'max_depth': 9, 'min_samples_split': 5, 'min_samples_leaf': 7}. Best is trial 14 with value: 5.679813982528456.\n",
            "[I 2025-05-06 13:39:57,664] Trial 20 finished with value: 5.68865876865948 and parameters: {'max_depth': 9, 'min_samples_split': 5, 'min_samples_leaf': 7}. Best is trial 14 with value: 5.679813982528456.\n"
          ]
        },
        {
          "name": "stderr",
          "output_type": "stream",
          "text": [
            "Best trial: 14. Best value: 5.67981:  88%|████████▊ | 22/25 [00:02<00:00,  8.00it/s]"
          ]
        },
        {
          "name": "stdout",
          "output_type": "stream",
          "text": [
            "[I 2025-05-06 13:39:57,863] Trial 21 finished with value: 5.702847094959385 and parameters: {'max_depth': 10, 'min_samples_split': 5, 'min_samples_leaf': 3}. Best is trial 14 with value: 5.679813982528456.\n"
          ]
        },
        {
          "name": "stderr",
          "output_type": "stream",
          "text": [
            "Best trial: 14. Best value: 5.67981: 100%|██████████| 25/25 [00:02<00:00,  8.42it/s]"
          ]
        },
        {
          "name": "stdout",
          "output_type": "stream",
          "text": [
            "[I 2025-05-06 13:39:58,116] Trial 23 finished with value: 5.702847094959385 and parameters: {'max_depth': 10, 'min_samples_split': 5, 'min_samples_leaf': 3}. Best is trial 14 with value: 5.679813982528456.\n",
            "[I 2025-05-06 13:39:58,148] Trial 24 finished with value: 5.702847094959385 and parameters: {'max_depth': 10, 'min_samples_split': 5, 'min_samples_leaf': 3}. Best is trial 14 with value: 5.679813982528456.\n",
            "[I 2025-05-06 13:39:58,154] Trial 22 finished with value: 5.702847094959385 and parameters: {'max_depth': 10, 'min_samples_split': 5, 'min_samples_leaf': 3}. Best is trial 14 with value: 5.679813982528456.\n"
          ]
        },
        {
          "name": "stderr",
          "output_type": "stream",
          "text": [
            "\n"
          ]
        }
      ],
      "source": [
        "# study_xgb = optuna.create_study(direction='minimize')\n",
        "# study_xgb.optimize(objective_xgb, n_trials=N_TRIALS, show_progress_bar=True, n_jobs=-1)\n",
        "\n",
        "study_cb = optuna.create_study(direction='minimize')\n",
        "study_cb.optimize(objective_cb, n_trials=N_TRIALS, show_progress_bar=True, n_jobs=-1)\n",
        "\n",
        "# study_lgbm = optuna.create_study(direction='minimize')\n",
        "# study_lgbm.optimize(objective_lgbm, n_trials=N_TRIALS, show_progress_bar=True, n_jobs=-1)\n",
        "\n",
        "study_rf = optuna.create_study(direction='minimize')\n",
        "study_rf.optimize(objective_rf, n_trials=N_TRIALS, show_progress_bar=True, n_jobs=-1)\n",
        "\n",
        "study_ab = optuna.create_study(direction='minimize')\n",
        "study_ab.optimize(objective_ab, n_trials=N_TRIALS, show_progress_bar=True, n_jobs=-1)\n",
        "\n",
        "study_dt = optuna.create_study(direction='minimize')\n",
        "study_dt.optimize(objective_dt, n_trials=N_TRIALS, show_progress_bar=True, n_jobs=-1)"
      ]
    },
    {
      "cell_type": "markdown",
      "metadata": {
        "id": "g7vbPMd2rp6O"
      },
      "source": [
        "## Обучение моделей"
      ]
    },
    {
      "cell_type": "code",
      "execution_count": 11,
      "metadata": {
        "id": "YYCGmuH0yNh1"
      },
      "outputs": [],
      "source": [
        "X_train = pd.concat(objs=[X_train, X_val])\n",
        "y_train = pd.concat(objs=[y_train, y_val])"
      ]
    },
    {
      "cell_type": "code",
      "execution_count": null,
      "metadata": {
        "id": "zZrI4gyFp1zv"
      },
      "outputs": [],
      "source": [
        "xgb = XGBRegressor(\n",
        "    **study_xgb.best_params,\n",
        "    objective='reg:squarederror',\n",
        "    random_state=RANDOM_STATE,\n",
        "    verbosity=0\n",
        ")\n",
        "xgb.fit(X=X_train, y=y_train)\n",
        "y_pred_xgb = xgb.predict(X=X_test)\n",
        "\n",
        "mse_xgb = mean_squared_error(y_true=y_test, y_pred=y_pred_xgb)\n",
        "mae_xgb = mean_absolute_error(y_true=y_test, y_pred=y_pred_xgb)\n",
        "mape_xgb = mean_absolute_percentage_error(y_true=y_test, y_pred=y_pred_xgb)"
      ]
    },
    {
      "cell_type": "code",
      "execution_count": 12,
      "metadata": {
        "id": "9sZ1T27qyEHI"
      },
      "outputs": [
        {
          "name": "stdout",
          "output_type": "stream",
          "text": [
            "0:\tlearn: 1.2642788\ttotal: 9.43ms\tremaining: 3.35s\n",
            "1:\tlearn: 1.1482156\ttotal: 17.8ms\tremaining: 3.15s\n",
            "2:\tlearn: 1.0499833\ttotal: 29.4ms\tremaining: 3.45s\n",
            "3:\tlearn: 0.9812828\ttotal: 37.3ms\tremaining: 3.29s\n",
            "4:\tlearn: 0.9263287\ttotal: 47.5ms\tremaining: 3.34s\n",
            "5:\tlearn: 0.9026465\ttotal: 55.4ms\tremaining: 3.23s\n",
            "6:\tlearn: 0.8854728\ttotal: 63.5ms\tremaining: 3.17s\n",
            "7:\tlearn: 0.8576764\ttotal: 71.1ms\tremaining: 3.09s\n",
            "8:\tlearn: 0.8477471\ttotal: 82.3ms\tremaining: 3.17s\n",
            "9:\tlearn: 0.8392278\ttotal: 91.5ms\tremaining: 3.16s\n",
            "10:\tlearn: 0.8308822\ttotal: 103ms\tremaining: 3.23s\n",
            "11:\tlearn: 0.8225152\ttotal: 118ms\tremaining: 3.39s\n",
            "12:\tlearn: 0.8046931\ttotal: 128ms\tremaining: 3.38s\n",
            "13:\tlearn: 0.8004718\ttotal: 137ms\tremaining: 3.35s\n",
            "14:\tlearn: 0.7864036\ttotal: 148ms\tremaining: 3.37s\n",
            "15:\tlearn: 0.7804861\ttotal: 156ms\tremaining: 3.32s\n",
            "16:\tlearn: 0.7781911\ttotal: 167ms\tremaining: 3.32s\n",
            "17:\tlearn: 0.7717973\ttotal: 177ms\tremaining: 3.32s\n",
            "18:\tlearn: 0.7584192\ttotal: 186ms\tremaining: 3.31s\n",
            "19:\tlearn: 0.7512985\ttotal: 195ms\tremaining: 3.27s\n",
            "20:\tlearn: 0.7445237\ttotal: 205ms\tremaining: 3.28s\n",
            "21:\tlearn: 0.7419967\ttotal: 215ms\tremaining: 3.27s\n",
            "22:\tlearn: 0.7347738\ttotal: 224ms\tremaining: 3.24s\n",
            "23:\tlearn: 0.7306450\ttotal: 236ms\tremaining: 3.26s\n",
            "24:\tlearn: 0.7088452\ttotal: 244ms\tremaining: 3.23s\n",
            "25:\tlearn: 0.6930510\ttotal: 259ms\tremaining: 3.29s\n",
            "26:\tlearn: 0.6862855\ttotal: 269ms\tremaining: 3.28s\n",
            "27:\tlearn: 0.6706886\ttotal: 277ms\tremaining: 3.25s\n",
            "28:\tlearn: 0.6626739\ttotal: 287ms\tremaining: 3.23s\n",
            "29:\tlearn: 0.6568159\ttotal: 295ms\tremaining: 3.2s\n",
            "30:\tlearn: 0.6494340\ttotal: 306ms\tremaining: 3.21s\n",
            "31:\tlearn: 0.6465503\ttotal: 317ms\tremaining: 3.21s\n",
            "32:\tlearn: 0.6380999\ttotal: 325ms\tremaining: 3.18s\n",
            "33:\tlearn: 0.6326113\ttotal: 337ms\tremaining: 3.19s\n",
            "34:\tlearn: 0.6279511\ttotal: 346ms\tremaining: 3.17s\n",
            "35:\tlearn: 0.6265375\ttotal: 358ms\tremaining: 3.18s\n",
            "36:\tlearn: 0.6235370\ttotal: 366ms\tremaining: 3.15s\n",
            "37:\tlearn: 0.6202419\ttotal: 375ms\tremaining: 3.14s\n",
            "38:\tlearn: 0.6125062\ttotal: 383ms\tremaining: 3.11s\n",
            "39:\tlearn: 0.6080435\ttotal: 395ms\tremaining: 3.12s\n",
            "40:\tlearn: 0.5932762\ttotal: 408ms\tremaining: 3.13s\n",
            "41:\tlearn: 0.5842368\ttotal: 419ms\tremaining: 3.13s\n",
            "42:\tlearn: 0.5815490\ttotal: 432ms\tremaining: 3.14s\n",
            "43:\tlearn: 0.5727912\ttotal: 441ms\tremaining: 3.13s\n",
            "44:\tlearn: 0.5702828\ttotal: 455ms\tremaining: 3.15s\n",
            "45:\tlearn: 0.5691142\ttotal: 464ms\tremaining: 3.13s\n",
            "46:\tlearn: 0.5663960\ttotal: 477ms\tremaining: 3.14s\n",
            "47:\tlearn: 0.5645956\ttotal: 486ms\tremaining: 3.12s\n",
            "48:\tlearn: 0.5625359\ttotal: 498ms\tremaining: 3.12s\n",
            "49:\tlearn: 0.5615290\ttotal: 506ms\tremaining: 3.1s\n",
            "50:\tlearn: 0.5556165\ttotal: 519ms\tremaining: 3.1s\n",
            "51:\tlearn: 0.5534639\ttotal: 527ms\tremaining: 3.08s\n",
            "52:\tlearn: 0.5438035\ttotal: 538ms\tremaining: 3.08s\n",
            "53:\tlearn: 0.5430768\ttotal: 546ms\tremaining: 3.05s\n",
            "54:\tlearn: 0.5361250\ttotal: 558ms\tremaining: 3.05s\n",
            "55:\tlearn: 0.5278660\ttotal: 566ms\tremaining: 3.03s\n",
            "56:\tlearn: 0.5248475\ttotal: 577ms\tremaining: 3.03s\n",
            "57:\tlearn: 0.5226047\ttotal: 585ms\tremaining: 3.01s\n",
            "58:\tlearn: 0.5210831\ttotal: 598ms\tremaining: 3.01s\n",
            "59:\tlearn: 0.5132719\ttotal: 606ms\tremaining: 2.99s\n",
            "60:\tlearn: 0.5082772\ttotal: 620ms\tremaining: 3s\n",
            "61:\tlearn: 0.5053559\ttotal: 628ms\tremaining: 2.98s\n",
            "62:\tlearn: 0.5019192\ttotal: 643ms\tremaining: 2.99s\n",
            "63:\tlearn: 0.5007263\ttotal: 651ms\tremaining: 2.97s\n",
            "64:\tlearn: 0.4943530\ttotal: 663ms\tremaining: 2.97s\n",
            "65:\tlearn: 0.4934794\ttotal: 672ms\tremaining: 2.95s\n",
            "66:\tlearn: 0.4929979\ttotal: 688ms\tremaining: 2.97s\n",
            "67:\tlearn: 0.4923754\ttotal: 696ms\tremaining: 2.95s\n",
            "68:\tlearn: 0.4869609\ttotal: 709ms\tremaining: 2.95s\n",
            "69:\tlearn: 0.4835707\ttotal: 717ms\tremaining: 2.93s\n",
            "70:\tlearn: 0.4820644\ttotal: 734ms\tremaining: 2.95s\n",
            "71:\tlearn: 0.4783079\ttotal: 742ms\tremaining: 2.93s\n",
            "72:\tlearn: 0.4747701\ttotal: 757ms\tremaining: 2.94s\n",
            "73:\tlearn: 0.4696037\ttotal: 770ms\tremaining: 2.93s\n",
            "74:\tlearn: 0.4674293\ttotal: 778ms\tremaining: 2.92s\n",
            "75:\tlearn: 0.4661956\ttotal: 791ms\tremaining: 2.92s\n",
            "76:\tlearn: 0.4621612\ttotal: 800ms\tremaining: 2.9s\n",
            "77:\tlearn: 0.4605562\ttotal: 811ms\tremaining: 2.89s\n",
            "78:\tlearn: 0.4559041\ttotal: 820ms\tremaining: 2.88s\n",
            "79:\tlearn: 0.4534083\ttotal: 834ms\tremaining: 2.88s\n",
            "80:\tlearn: 0.4528096\ttotal: 848ms\tremaining: 2.88s\n",
            "81:\tlearn: 0.4450797\ttotal: 863ms\tremaining: 2.88s\n",
            "82:\tlearn: 0.4415985\ttotal: 872ms\tremaining: 2.87s\n",
            "83:\tlearn: 0.4399602\ttotal: 885ms\tremaining: 2.87s\n",
            "84:\tlearn: 0.4369657\ttotal: 894ms\tremaining: 2.85s\n",
            "85:\tlearn: 0.4360598\ttotal: 904ms\tremaining: 2.84s\n",
            "86:\tlearn: 0.4331725\ttotal: 914ms\tremaining: 2.82s\n",
            "87:\tlearn: 0.4325092\ttotal: 928ms\tremaining: 2.83s\n",
            "88:\tlearn: 0.4318818\ttotal: 936ms\tremaining: 2.81s\n",
            "89:\tlearn: 0.4277806\ttotal: 947ms\tremaining: 2.8s\n",
            "90:\tlearn: 0.4252281\ttotal: 955ms\tremaining: 2.78s\n",
            "91:\tlearn: 0.4245583\ttotal: 968ms\tremaining: 2.78s\n",
            "92:\tlearn: 0.4242429\ttotal: 976ms\tremaining: 2.76s\n",
            "93:\tlearn: 0.4180667\ttotal: 988ms\tremaining: 2.75s\n",
            "94:\tlearn: 0.4150629\ttotal: 996ms\tremaining: 2.73s\n",
            "95:\tlearn: 0.4124585\ttotal: 1.01s\tremaining: 2.73s\n",
            "96:\tlearn: 0.4089730\ttotal: 1.01s\tremaining: 2.71s\n",
            "97:\tlearn: 0.4069983\ttotal: 1.03s\tremaining: 2.7s\n",
            "98:\tlearn: 0.4064695\ttotal: 1.03s\tremaining: 2.69s\n",
            "99:\tlearn: 0.4034792\ttotal: 1.05s\tremaining: 2.68s\n",
            "100:\tlearn: 0.4024355\ttotal: 1.05s\tremaining: 2.67s\n",
            "101:\tlearn: 0.3988623\ttotal: 1.06s\tremaining: 2.65s\n",
            "102:\tlearn: 0.3976770\ttotal: 1.07s\tremaining: 2.64s\n",
            "103:\tlearn: 0.3972819\ttotal: 1.09s\tremaining: 2.63s\n",
            "104:\tlearn: 0.3943448\ttotal: 1.1s\tremaining: 2.62s\n",
            "105:\tlearn: 0.3927209\ttotal: 1.11s\tremaining: 2.62s\n",
            "106:\tlearn: 0.3922257\ttotal: 1.12s\tremaining: 2.61s\n",
            "107:\tlearn: 0.3912739\ttotal: 1.13s\tremaining: 2.6s\n",
            "108:\tlearn: 0.3878366\ttotal: 1.14s\tremaining: 2.59s\n",
            "109:\tlearn: 0.3870663\ttotal: 1.15s\tremaining: 2.58s\n",
            "110:\tlearn: 0.3856347\ttotal: 1.17s\tremaining: 2.57s\n",
            "111:\tlearn: 0.3836480\ttotal: 1.18s\tremaining: 2.56s\n",
            "112:\tlearn: 0.3829595\ttotal: 1.19s\tremaining: 2.56s\n",
            "113:\tlearn: 0.3804372\ttotal: 1.2s\tremaining: 2.55s\n",
            "114:\tlearn: 0.3797541\ttotal: 1.21s\tremaining: 2.53s\n",
            "115:\tlearn: 0.3792919\ttotal: 1.22s\tremaining: 2.53s\n",
            "116:\tlearn: 0.3788847\ttotal: 1.23s\tremaining: 2.51s\n",
            "117:\tlearn: 0.3786074\ttotal: 1.24s\tremaining: 2.51s\n",
            "118:\tlearn: 0.3768045\ttotal: 1.25s\tremaining: 2.5s\n",
            "119:\tlearn: 0.3748970\ttotal: 1.26s\tremaining: 2.48s\n",
            "120:\tlearn: 0.3744656\ttotal: 1.27s\tremaining: 2.47s\n",
            "121:\tlearn: 0.3738527\ttotal: 1.28s\tremaining: 2.46s\n",
            "122:\tlearn: 0.3733978\ttotal: 1.29s\tremaining: 2.45s\n",
            "123:\tlearn: 0.3722241\ttotal: 1.3s\tremaining: 2.43s\n",
            "124:\tlearn: 0.3714380\ttotal: 1.31s\tremaining: 2.43s\n",
            "125:\tlearn: 0.3701769\ttotal: 1.32s\tremaining: 2.41s\n",
            "126:\tlearn: 0.3691922\ttotal: 1.33s\tremaining: 2.4s\n",
            "127:\tlearn: 0.3680553\ttotal: 1.34s\tremaining: 2.4s\n",
            "128:\tlearn: 0.3673334\ttotal: 1.35s\tremaining: 2.38s\n",
            "129:\tlearn: 0.3669449\ttotal: 1.37s\tremaining: 2.38s\n",
            "130:\tlearn: 0.3649332\ttotal: 1.37s\tremaining: 2.36s\n",
            "131:\tlearn: 0.3642244\ttotal: 1.39s\tremaining: 2.35s\n",
            "132:\tlearn: 0.3633681\ttotal: 1.39s\tremaining: 2.34s\n",
            "133:\tlearn: 0.3627282\ttotal: 1.41s\tremaining: 2.34s\n",
            "134:\tlearn: 0.3622118\ttotal: 1.42s\tremaining: 2.32s\n",
            "135:\tlearn: 0.3620768\ttotal: 1.43s\tremaining: 2.32s\n",
            "136:\tlearn: 0.3603154\ttotal: 1.45s\tremaining: 2.32s\n",
            "137:\tlearn: 0.3597978\ttotal: 1.46s\tremaining: 2.3s\n",
            "138:\tlearn: 0.3590675\ttotal: 1.47s\tremaining: 2.29s\n",
            "139:\tlearn: 0.3581806\ttotal: 1.48s\tremaining: 2.28s\n",
            "140:\tlearn: 0.3570172\ttotal: 1.49s\tremaining: 2.27s\n",
            "141:\tlearn: 0.3563383\ttotal: 1.5s\tremaining: 2.25s\n",
            "142:\tlearn: 0.3558471\ttotal: 1.51s\tremaining: 2.25s\n",
            "143:\tlearn: 0.3542083\ttotal: 1.53s\tremaining: 2.25s\n",
            "144:\tlearn: 0.3526924\ttotal: 1.53s\tremaining: 2.23s\n",
            "145:\tlearn: 0.3522370\ttotal: 1.55s\tremaining: 2.23s\n",
            "146:\tlearn: 0.3515159\ttotal: 1.56s\tremaining: 2.21s\n",
            "147:\tlearn: 0.3511807\ttotal: 1.57s\tremaining: 2.2s\n",
            "148:\tlearn: 0.3501771\ttotal: 1.57s\tremaining: 2.19s\n",
            "149:\tlearn: 0.3497641\ttotal: 1.59s\tremaining: 2.18s\n",
            "150:\tlearn: 0.3488287\ttotal: 1.59s\tremaining: 2.17s\n",
            "151:\tlearn: 0.3480261\ttotal: 1.61s\tremaining: 2.16s\n",
            "152:\tlearn: 0.3471682\ttotal: 1.62s\tremaining: 2.15s\n",
            "153:\tlearn: 0.3467865\ttotal: 1.63s\tremaining: 2.14s\n",
            "154:\tlearn: 0.3460499\ttotal: 1.64s\tremaining: 2.13s\n",
            "155:\tlearn: 0.3449777\ttotal: 1.65s\tremaining: 2.12s\n",
            "156:\tlearn: 0.3447934\ttotal: 1.66s\tremaining: 2.1s\n",
            "157:\tlearn: 0.3441817\ttotal: 1.67s\tremaining: 2.1s\n",
            "158:\tlearn: 0.3436081\ttotal: 1.68s\tremaining: 2.08s\n",
            "159:\tlearn: 0.3434327\ttotal: 1.69s\tremaining: 2.07s\n",
            "160:\tlearn: 0.3431338\ttotal: 1.7s\tremaining: 2.06s\n",
            "161:\tlearn: 0.3420219\ttotal: 1.71s\tremaining: 2.05s\n",
            "162:\tlearn: 0.3417907\ttotal: 1.72s\tremaining: 2.04s\n",
            "163:\tlearn: 0.3403732\ttotal: 1.73s\tremaining: 2.02s\n",
            "164:\tlearn: 0.3396974\ttotal: 1.74s\tremaining: 2.01s\n",
            "165:\tlearn: 0.3390899\ttotal: 1.75s\tremaining: 2s\n",
            "166:\tlearn: 0.3386062\ttotal: 1.76s\tremaining: 1.99s\n",
            "167:\tlearn: 0.3380778\ttotal: 1.77s\tremaining: 1.98s\n",
            "168:\tlearn: 0.3377070\ttotal: 1.78s\tremaining: 1.97s\n",
            "169:\tlearn: 0.3374296\ttotal: 1.79s\tremaining: 1.96s\n",
            "170:\tlearn: 0.3371651\ttotal: 1.81s\tremaining: 1.96s\n",
            "171:\tlearn: 0.3370393\ttotal: 1.82s\tremaining: 1.95s\n",
            "172:\tlearn: 0.3368462\ttotal: 1.83s\tremaining: 1.94s\n",
            "173:\tlearn: 0.3365585\ttotal: 1.85s\tremaining: 1.93s\n",
            "174:\tlearn: 0.3346809\ttotal: 1.86s\tremaining: 1.92s\n",
            "175:\tlearn: 0.3344408\ttotal: 1.87s\tremaining: 1.91s\n",
            "176:\tlearn: 0.3330004\ttotal: 1.88s\tremaining: 1.9s\n",
            "177:\tlearn: 0.3323078\ttotal: 1.89s\tremaining: 1.89s\n",
            "178:\tlearn: 0.3313564\ttotal: 1.9s\tremaining: 1.88s\n",
            "179:\tlearn: 0.3308380\ttotal: 1.91s\tremaining: 1.87s\n",
            "180:\tlearn: 0.3304254\ttotal: 1.92s\tremaining: 1.86s\n",
            "181:\tlearn: 0.3295866\ttotal: 1.93s\tremaining: 1.85s\n",
            "182:\tlearn: 0.3290315\ttotal: 1.94s\tremaining: 1.84s\n",
            "183:\tlearn: 0.3285711\ttotal: 1.95s\tremaining: 1.82s\n",
            "184:\tlearn: 0.3281926\ttotal: 1.96s\tremaining: 1.81s\n",
            "185:\tlearn: 0.3278433\ttotal: 1.97s\tremaining: 1.8s\n",
            "186:\tlearn: 0.3275442\ttotal: 1.98s\tremaining: 1.79s\n",
            "187:\tlearn: 0.3265653\ttotal: 1.99s\tremaining: 1.78s\n",
            "188:\tlearn: 0.3260966\ttotal: 2s\tremaining: 1.77s\n",
            "189:\tlearn: 0.3258699\ttotal: 2.01s\tremaining: 1.76s\n",
            "190:\tlearn: 0.3255327\ttotal: 2.02s\tremaining: 1.75s\n",
            "191:\tlearn: 0.3251196\ttotal: 2.04s\tremaining: 1.74s\n",
            "192:\tlearn: 0.3245064\ttotal: 2.04s\tremaining: 1.73s\n",
            "193:\tlearn: 0.3243268\ttotal: 2.06s\tremaining: 1.72s\n",
            "194:\tlearn: 0.3237703\ttotal: 2.07s\tremaining: 1.71s\n",
            "195:\tlearn: 0.3234956\ttotal: 2.08s\tremaining: 1.7s\n",
            "196:\tlearn: 0.3233187\ttotal: 2.09s\tremaining: 1.69s\n",
            "197:\tlearn: 0.3230107\ttotal: 2.1s\tremaining: 1.68s\n",
            "198:\tlearn: 0.3224362\ttotal: 2.11s\tremaining: 1.67s\n",
            "199:\tlearn: 0.3207996\ttotal: 2.12s\tremaining: 1.66s\n",
            "200:\tlearn: 0.3199573\ttotal: 2.14s\tremaining: 1.65s\n",
            "201:\tlearn: 0.3194203\ttotal: 2.15s\tremaining: 1.64s\n",
            "202:\tlearn: 0.3188804\ttotal: 2.16s\tremaining: 1.63s\n",
            "203:\tlearn: 0.3186810\ttotal: 2.17s\tremaining: 1.61s\n",
            "204:\tlearn: 0.3184962\ttotal: 2.18s\tremaining: 1.6s\n",
            "205:\tlearn: 0.3181525\ttotal: 2.19s\tremaining: 1.59s\n",
            "206:\tlearn: 0.3177972\ttotal: 2.2s\tremaining: 1.58s\n",
            "207:\tlearn: 0.3164261\ttotal: 2.21s\tremaining: 1.57s\n",
            "208:\tlearn: 0.3160613\ttotal: 2.22s\tremaining: 1.56s\n",
            "209:\tlearn: 0.3157603\ttotal: 2.23s\tremaining: 1.55s\n",
            "210:\tlearn: 0.3154962\ttotal: 2.24s\tremaining: 1.54s\n",
            "211:\tlearn: 0.3143171\ttotal: 2.25s\tremaining: 1.53s\n",
            "212:\tlearn: 0.3137290\ttotal: 2.26s\tremaining: 1.52s\n",
            "213:\tlearn: 0.3133977\ttotal: 2.27s\tremaining: 1.51s\n",
            "214:\tlearn: 0.3132910\ttotal: 2.28s\tremaining: 1.5s\n",
            "215:\tlearn: 0.3131792\ttotal: 2.29s\tremaining: 1.49s\n",
            "216:\tlearn: 0.3131018\ttotal: 2.31s\tremaining: 1.48s\n",
            "217:\tlearn: 0.3124673\ttotal: 2.31s\tremaining: 1.47s\n",
            "218:\tlearn: 0.3116051\ttotal: 2.33s\tremaining: 1.46s\n",
            "219:\tlearn: 0.3103090\ttotal: 2.33s\tremaining: 1.44s\n",
            "220:\tlearn: 0.3093796\ttotal: 2.35s\tremaining: 1.43s\n",
            "221:\tlearn: 0.3088001\ttotal: 2.35s\tremaining: 1.42s\n",
            "222:\tlearn: 0.3085050\ttotal: 2.37s\tremaining: 1.41s\n",
            "223:\tlearn: 0.3077839\ttotal: 2.38s\tremaining: 1.4s\n",
            "224:\tlearn: 0.3075320\ttotal: 2.38s\tremaining: 1.39s\n",
            "225:\tlearn: 0.3072506\ttotal: 2.4s\tremaining: 1.38s\n",
            "226:\tlearn: 0.3070849\ttotal: 2.4s\tremaining: 1.37s\n",
            "227:\tlearn: 0.3066398\ttotal: 2.42s\tremaining: 1.36s\n",
            "228:\tlearn: 0.3064940\ttotal: 2.42s\tremaining: 1.34s\n",
            "229:\tlearn: 0.3059181\ttotal: 2.44s\tremaining: 1.33s\n",
            "230:\tlearn: 0.3055874\ttotal: 2.44s\tremaining: 1.32s\n",
            "231:\tlearn: 0.3050145\ttotal: 2.46s\tremaining: 1.31s\n",
            "232:\tlearn: 0.3046118\ttotal: 2.47s\tremaining: 1.3s\n",
            "233:\tlearn: 0.3043992\ttotal: 2.48s\tremaining: 1.29s\n",
            "234:\tlearn: 0.3042510\ttotal: 2.49s\tremaining: 1.28s\n",
            "235:\tlearn: 0.3040855\ttotal: 2.49s\tremaining: 1.27s\n",
            "236:\tlearn: 0.3037250\ttotal: 2.51s\tremaining: 1.26s\n",
            "237:\tlearn: 0.3031262\ttotal: 2.52s\tremaining: 1.25s\n",
            "238:\tlearn: 0.3029050\ttotal: 2.53s\tremaining: 1.24s\n",
            "239:\tlearn: 0.3019177\ttotal: 2.54s\tremaining: 1.23s\n",
            "240:\tlearn: 0.3016593\ttotal: 2.55s\tremaining: 1.22s\n",
            "241:\tlearn: 0.3013450\ttotal: 2.56s\tremaining: 1.2s\n",
            "242:\tlearn: 0.3009799\ttotal: 2.57s\tremaining: 1.19s\n",
            "243:\tlearn: 0.3008004\ttotal: 2.58s\tremaining: 1.18s\n",
            "244:\tlearn: 0.3006704\ttotal: 2.59s\tremaining: 1.17s\n",
            "245:\tlearn: 0.2998657\ttotal: 2.6s\tremaining: 1.16s\n",
            "246:\tlearn: 0.2997232\ttotal: 2.61s\tremaining: 1.15s\n",
            "247:\tlearn: 0.2994390\ttotal: 2.62s\tremaining: 1.14s\n",
            "248:\tlearn: 0.2991169\ttotal: 2.63s\tremaining: 1.13s\n",
            "249:\tlearn: 0.2989036\ttotal: 2.64s\tremaining: 1.12s\n",
            "250:\tlearn: 0.2981486\ttotal: 2.65s\tremaining: 1.11s\n",
            "251:\tlearn: 0.2978332\ttotal: 2.66s\tremaining: 1.1s\n",
            "252:\tlearn: 0.2975807\ttotal: 2.67s\tremaining: 1.09s\n",
            "253:\tlearn: 0.2973944\ttotal: 2.68s\tremaining: 1.08s\n",
            "254:\tlearn: 0.2969976\ttotal: 2.69s\tremaining: 1.07s\n",
            "255:\tlearn: 0.2967383\ttotal: 2.7s\tremaining: 1.05s\n",
            "256:\tlearn: 0.2963287\ttotal: 2.71s\tremaining: 1.04s\n",
            "257:\tlearn: 0.2962059\ttotal: 2.72s\tremaining: 1.03s\n",
            "258:\tlearn: 0.2955652\ttotal: 2.73s\tremaining: 1.02s\n",
            "259:\tlearn: 0.2948756\ttotal: 2.74s\tremaining: 1.01s\n",
            "260:\tlearn: 0.2945443\ttotal: 2.75s\tremaining: 1s\n",
            "261:\tlearn: 0.2941921\ttotal: 2.76s\tremaining: 990ms\n",
            "262:\tlearn: 0.2938653\ttotal: 2.77s\tremaining: 979ms\n",
            "263:\tlearn: 0.2934751\ttotal: 2.78s\tremaining: 969ms\n",
            "264:\tlearn: 0.2932233\ttotal: 2.79s\tremaining: 957ms\n",
            "265:\tlearn: 0.2927655\ttotal: 2.8s\tremaining: 947ms\n",
            "266:\tlearn: 0.2926143\ttotal: 2.81s\tremaining: 935ms\n",
            "267:\tlearn: 0.2924952\ttotal: 2.82s\tremaining: 926ms\n",
            "268:\tlearn: 0.2923601\ttotal: 2.83s\tremaining: 914ms\n",
            "269:\tlearn: 0.2922856\ttotal: 2.84s\tremaining: 904ms\n",
            "270:\tlearn: 0.2922177\ttotal: 2.85s\tremaining: 892ms\n",
            "271:\tlearn: 0.2919963\ttotal: 2.85s\tremaining: 882ms\n",
            "272:\tlearn: 0.2918920\ttotal: 2.86s\tremaining: 870ms\n",
            "273:\tlearn: 0.2913758\ttotal: 2.88s\tremaining: 860ms\n",
            "274:\tlearn: 0.2909220\ttotal: 2.88s\tremaining: 850ms\n",
            "275:\tlearn: 0.2905896\ttotal: 2.89s\tremaining: 839ms\n",
            "276:\tlearn: 0.2904003\ttotal: 2.9s\tremaining: 828ms\n",
            "277:\tlearn: 0.2901845\ttotal: 2.91s\tremaining: 817ms\n",
            "278:\tlearn: 0.2898191\ttotal: 2.92s\tremaining: 806ms\n",
            "279:\tlearn: 0.2894670\ttotal: 2.93s\tremaining: 796ms\n",
            "280:\tlearn: 0.2890076\ttotal: 2.94s\tremaining: 785ms\n",
            "281:\tlearn: 0.2884985\ttotal: 2.95s\tremaining: 774ms\n",
            "282:\tlearn: 0.2882474\ttotal: 2.96s\tremaining: 764ms\n",
            "283:\tlearn: 0.2880907\ttotal: 2.97s\tremaining: 753ms\n",
            "284:\tlearn: 0.2877664\ttotal: 2.98s\tremaining: 743ms\n",
            "285:\tlearn: 0.2874956\ttotal: 2.99s\tremaining: 733ms\n",
            "286:\tlearn: 0.2872619\ttotal: 3.01s\tremaining: 724ms\n",
            "287:\tlearn: 0.2865818\ttotal: 3.02s\tremaining: 713ms\n",
            "288:\tlearn: 0.2864209\ttotal: 3.03s\tremaining: 703ms\n",
            "289:\tlearn: 0.2862560\ttotal: 3.04s\tremaining: 692ms\n",
            "290:\tlearn: 0.2860226\ttotal: 3.05s\tremaining: 682ms\n",
            "291:\tlearn: 0.2854641\ttotal: 3.06s\tremaining: 671ms\n",
            "292:\tlearn: 0.2848402\ttotal: 3.07s\tremaining: 661ms\n",
            "293:\tlearn: 0.2847513\ttotal: 3.08s\tremaining: 650ms\n",
            "294:\tlearn: 0.2846689\ttotal: 3.09s\tremaining: 640ms\n",
            "295:\tlearn: 0.2843206\ttotal: 3.1s\tremaining: 629ms\n",
            "296:\tlearn: 0.2838038\ttotal: 3.12s\tremaining: 619ms\n",
            "297:\tlearn: 0.2835136\ttotal: 3.13s\tremaining: 609ms\n",
            "298:\tlearn: 0.2832525\ttotal: 3.14s\tremaining: 598ms\n",
            "299:\tlearn: 0.2831528\ttotal: 3.15s\tremaining: 587ms\n",
            "300:\tlearn: 0.2829290\ttotal: 3.16s\tremaining: 577ms\n",
            "301:\tlearn: 0.2823968\ttotal: 3.17s\tremaining: 566ms\n",
            "302:\tlearn: 0.2820044\ttotal: 3.17s\tremaining: 555ms\n",
            "303:\tlearn: 0.2818617\ttotal: 3.19s\tremaining: 545ms\n",
            "304:\tlearn: 0.2817731\ttotal: 3.19s\tremaining: 534ms\n",
            "305:\tlearn: 0.2816078\ttotal: 3.21s\tremaining: 524ms\n",
            "306:\tlearn: 0.2809579\ttotal: 3.21s\tremaining: 513ms\n",
            "307:\tlearn: 0.2805766\ttotal: 3.23s\tremaining: 503ms\n",
            "308:\tlearn: 0.2804342\ttotal: 3.24s\tremaining: 492ms\n",
            "309:\tlearn: 0.2801400\ttotal: 3.25s\tremaining: 482ms\n",
            "310:\tlearn: 0.2799082\ttotal: 3.26s\tremaining: 471ms\n",
            "311:\tlearn: 0.2797753\ttotal: 3.27s\tremaining: 461ms\n",
            "312:\tlearn: 0.2795663\ttotal: 3.28s\tremaining: 451ms\n",
            "313:\tlearn: 0.2789628\ttotal: 3.29s\tremaining: 440ms\n",
            "314:\tlearn: 0.2787991\ttotal: 3.3s\tremaining: 430ms\n",
            "315:\tlearn: 0.2786411\ttotal: 3.31s\tremaining: 419ms\n",
            "316:\tlearn: 0.2782772\ttotal: 3.32s\tremaining: 409ms\n",
            "317:\tlearn: 0.2779912\ttotal: 3.33s\tremaining: 398ms\n",
            "318:\tlearn: 0.2778560\ttotal: 3.35s\tremaining: 388ms\n",
            "319:\tlearn: 0.2774591\ttotal: 3.35s\tremaining: 378ms\n",
            "320:\tlearn: 0.2769688\ttotal: 3.37s\tremaining: 367ms\n",
            "321:\tlearn: 0.2766350\ttotal: 3.38s\tremaining: 357ms\n",
            "322:\tlearn: 0.2763081\ttotal: 3.39s\tremaining: 347ms\n",
            "323:\tlearn: 0.2759567\ttotal: 3.41s\tremaining: 337ms\n",
            "324:\tlearn: 0.2756947\ttotal: 3.42s\tremaining: 326ms\n",
            "325:\tlearn: 0.2755745\ttotal: 3.43s\tremaining: 316ms\n",
            "326:\tlearn: 0.2754183\ttotal: 3.44s\tremaining: 305ms\n",
            "327:\tlearn: 0.2752063\ttotal: 3.45s\tremaining: 295ms\n",
            "328:\tlearn: 0.2748714\ttotal: 3.46s\tremaining: 284ms\n",
            "329:\tlearn: 0.2745357\ttotal: 3.47s\tremaining: 273ms\n",
            "330:\tlearn: 0.2742587\ttotal: 3.49s\tremaining: 263ms\n",
            "331:\tlearn: 0.2740175\ttotal: 3.5s\tremaining: 253ms\n",
            "332:\tlearn: 0.2738537\ttotal: 3.51s\tremaining: 242ms\n",
            "333:\tlearn: 0.2733562\ttotal: 3.52s\tremaining: 232ms\n",
            "334:\tlearn: 0.2731713\ttotal: 3.53s\tremaining: 221ms\n",
            "335:\tlearn: 0.2727706\ttotal: 3.54s\tremaining: 211ms\n",
            "336:\tlearn: 0.2725037\ttotal: 3.55s\tremaining: 200ms\n",
            "337:\tlearn: 0.2720808\ttotal: 3.56s\tremaining: 190ms\n",
            "338:\tlearn: 0.2718858\ttotal: 3.58s\tremaining: 179ms\n",
            "339:\tlearn: 0.2717145\ttotal: 3.58s\tremaining: 169ms\n",
            "340:\tlearn: 0.2714332\ttotal: 3.6s\tremaining: 158ms\n",
            "341:\tlearn: 0.2713671\ttotal: 3.61s\tremaining: 148ms\n",
            "342:\tlearn: 0.2711998\ttotal: 3.62s\tremaining: 137ms\n",
            "343:\tlearn: 0.2707819\ttotal: 3.63s\tremaining: 127ms\n",
            "344:\tlearn: 0.2704314\ttotal: 3.64s\tremaining: 116ms\n",
            "345:\tlearn: 0.2699394\ttotal: 3.65s\tremaining: 106ms\n",
            "346:\tlearn: 0.2696997\ttotal: 3.67s\tremaining: 95.1ms\n",
            "347:\tlearn: 0.2694160\ttotal: 3.67s\tremaining: 84.5ms\n",
            "348:\tlearn: 0.2693295\ttotal: 3.69s\tremaining: 74ms\n",
            "349:\tlearn: 0.2690241\ttotal: 3.7s\tremaining: 63.4ms\n",
            "350:\tlearn: 0.2687966\ttotal: 3.71s\tremaining: 52.9ms\n",
            "351:\tlearn: 0.2685705\ttotal: 3.72s\tremaining: 42.3ms\n",
            "352:\tlearn: 0.2684116\ttotal: 3.73s\tremaining: 31.7ms\n",
            "353:\tlearn: 0.2682688\ttotal: 3.74s\tremaining: 21.1ms\n",
            "354:\tlearn: 0.2681160\ttotal: 3.75s\tremaining: 10.6ms\n",
            "355:\tlearn: 0.2676940\ttotal: 3.77s\tremaining: 0us\n"
          ]
        }
      ],
      "source": [
        "cb = CatBoostRegressor(\n",
        "    **study_cb.best_params,\n",
        "    random_state=RANDOM_STATE,\n",
        "    thread_count=-1\n",
        ")\n",
        "cb.fit(X=X_train, y=y_train)\n",
        "y_pred_cb = cb.predict(X_test)\n",
        "\n",
        "mse_cb = mean_squared_error(y_true=y_test, y_pred=y_pred_cb)\n",
        "mae_cb = mean_absolute_error(y_true=y_test, y_pred=y_pred_cb)\n",
        "mape_cb = mean_absolute_percentage_error(y_true=y_test, y_pred=y_pred_cb)"
      ]
    },
    {
      "cell_type": "code",
      "execution_count": null,
      "metadata": {
        "colab": {
          "base_uri": "https://localhost:8080/"
        },
        "id": "wPyqC_ehyfGh",
        "outputId": "3e01a9b9-89e9-422b-f3ca-552be7c6c836"
      },
      "outputs": [],
      "source": [
        "lgbm = LGBMRegressor(\n",
        "    **study_lgbm.best_params,\n",
        "    random_state=RANDOM_STATE,\n",
        "    n_jobs=-1\n",
        ")\n",
        "lgbm.fit(X=X_train, y=y_train)\n",
        "y_pred_lgbm = lgbm.predict(X=X_test)\n",
        "\n",
        "mse_lgbm = mean_squared_error(y_true=y_test, y_pred=y_pred_lgbm)\n",
        "mae_lgbm = mean_absolute_error(y_true=y_test, y_pred=y_pred_lgbm)\n",
        "mape_lgbm = mean_absolute_percentage_error(y_true=y_test, y_pred=y_pred_lgbm)"
      ]
    },
    {
      "cell_type": "code",
      "execution_count": 13,
      "metadata": {
        "id": "Y8Tz0OsxZQCD"
      },
      "outputs": [],
      "source": [
        "rf = RandomForestRegressor(\n",
        "    **study_rf.best_params,\n",
        "    random_state=RANDOM_STATE,\n",
        "    n_jobs=-1\n",
        ")\n",
        "rf.fit(X=X_train, y=y_train)\n",
        "y_pred_rf = rf.predict(X=X_test)\n",
        "\n",
        "mse_rf = mean_squared_error(y_true=y_test, y_pred=y_pred_rf)\n",
        "mae_rf = mean_absolute_error(y_true=y_test, y_pred=y_pred_rf)\n",
        "mape_rf = mean_absolute_percentage_error(y_true=y_test, y_pred=y_pred_rf)"
      ]
    },
    {
      "cell_type": "code",
      "execution_count": 14,
      "metadata": {
        "id": "yGUnt7BUsNWm"
      },
      "outputs": [],
      "source": [
        "ab = AdaBoostRegressor(\n",
        "    **study_ab.best_params,\n",
        "    random_state=RANDOM_STATE,\n",
        ")\n",
        "ab.fit(X=X_train, y=y_train)\n",
        "y_pred_ab = ab.predict(X=X_test)\n",
        "\n",
        "mse_ab = mean_squared_error(y_true=y_test, y_pred=y_pred_ab)\n",
        "mae_ab = mean_absolute_error(y_true=y_test, y_pred=y_pred_ab)\n",
        "mape_ab = mean_absolute_percentage_error(y_true=y_test, y_pred=y_pred_ab)"
      ]
    },
    {
      "cell_type": "code",
      "execution_count": 15,
      "metadata": {
        "id": "81PlnM6csYPM"
      },
      "outputs": [],
      "source": [
        "dt = DecisionTreeRegressor(\n",
        "    **study_dt.best_params,\n",
        "    random_state=RANDOM_STATE,\n",
        ")\n",
        "dt.fit(X=X_train, y=y_train)\n",
        "y_pred_dt = dt.predict(X=X_test)\n",
        "\n",
        "mse_dt = mean_squared_error(y_true=y_test, y_pred=y_pred_dt)\n",
        "mae_dt = mean_absolute_error(y_true=y_test, y_pred=y_pred_dt)\n",
        "mape_dt = mean_absolute_percentage_error(y_true=y_test, y_pred=y_pred_dt)"
      ]
    },
    {
      "cell_type": "markdown",
      "metadata": {
        "id": "Xy8pGSav0EVw"
      },
      "source": [
        "# Оценка моделей"
      ]
    },
    {
      "cell_type": "code",
      "execution_count": 17,
      "metadata": {
        "colab": {
          "base_uri": "https://localhost:8080/",
          "height": 206
        },
        "id": "wm4Dz05m0FtA",
        "outputId": "5025070f-0642-45f6-b94f-24bd4931c0e7"
      },
      "outputs": [
        {
          "data": {
            "text/html": [
              "<div>\n",
              "<style scoped>\n",
              "    .dataframe tbody tr th:only-of-type {\n",
              "        vertical-align: middle;\n",
              "    }\n",
              "\n",
              "    .dataframe tbody tr th {\n",
              "        vertical-align: top;\n",
              "    }\n",
              "\n",
              "    .dataframe thead th {\n",
              "        text-align: right;\n",
              "    }\n",
              "</style>\n",
              "<table border=\"1\" class=\"dataframe\">\n",
              "  <thead>\n",
              "    <tr style=\"text-align: right;\">\n",
              "      <th></th>\n",
              "      <th>Model</th>\n",
              "      <th>MSE</th>\n",
              "      <th>MAE</th>\n",
              "      <th>MAPE</th>\n",
              "    </tr>\n",
              "  </thead>\n",
              "  <tbody>\n",
              "    <tr>\n",
              "      <th>1</th>\n",
              "      <td>CatBoostRegressor</td>\n",
              "      <td>0.070253</td>\n",
              "      <td>0.199780</td>\n",
              "      <td>0.715929</td>\n",
              "    </tr>\n",
              "    <tr>\n",
              "      <th>3</th>\n",
              "      <td>RandomForestRegressor</td>\n",
              "      <td>0.134221</td>\n",
              "      <td>0.261777</td>\n",
              "      <td>1.009188</td>\n",
              "    </tr>\n",
              "    <tr>\n",
              "      <th>5</th>\n",
              "      <td>DecisionTreeRegressor</td>\n",
              "      <td>0.215480</td>\n",
              "      <td>0.356071</td>\n",
              "      <td>2.000955</td>\n",
              "    </tr>\n",
              "    <tr>\n",
              "      <th>4</th>\n",
              "      <td>AdaBoostRegressor</td>\n",
              "      <td>0.490153</td>\n",
              "      <td>0.517708</td>\n",
              "      <td>2.443457</td>\n",
              "    </tr>\n",
              "  </tbody>\n",
              "</table>\n",
              "</div>"
            ],
            "text/plain": [
              "                   Model       MSE       MAE      MAPE\n",
              "1      CatBoostRegressor  0.070253  0.199780  0.715929\n",
              "3  RandomForestRegressor  0.134221  0.261777  1.009188\n",
              "5  DecisionTreeRegressor  0.215480  0.356071  2.000955\n",
              "4      AdaBoostRegressor  0.490153  0.517708  2.443457"
            ]
          },
          "execution_count": 17,
          "metadata": {},
          "output_type": "execute_result"
        }
      ],
      "source": [
        "df_models = pd.DataFrame(\n",
        "    data=None,\n",
        "    columns=['Model', 'MSE', 'MAE', 'MAPE'],\n",
        "    index=None\n",
        ")\n",
        "\n",
        "# df_models.loc[0] = ['XGBRegressor', mse_xgb, mae_xgb, mape_xgb]\n",
        "df_models.loc[1] = ['CatBoostRegressor', mse_cb, mae_cb, mape_cb]\n",
        "# df_models.loc[2] = ['LGBMRegressor', mse_lgbm, mae_lgbm, mape_lgbm]\n",
        "df_models.loc[3] = ['RandomForestRegressor', mse_rf, mae_rf, mape_rf]\n",
        "df_models.loc[4] = ['AdaBoostRegressor', mse_ab, mae_ab, mape_ab]\n",
        "df_models.loc[5] = ['DecisionTreeRegressor', mse_dt, mae_dt, mape_dt]\n",
        "\n",
        "df_models.sort_values(by=['MSE', 'MAE', 'MAPE'], ascending=True)"
      ]
    },
    {
      "cell_type": "code",
      "execution_count": 18,
      "metadata": {
        "colab": {
          "base_uri": "https://localhost:8080/",
          "height": 625
        },
        "id": "cGT1o6CpzIkG",
        "outputId": "cf883ff5-2e96-4e2d-db52-23ce40c46ad8"
      },
      "outputs": [
        {
          "data": {
            "image/png": "[encoded data removed]",
            "text/plain": [
              "<Figure size 1400x700 with 1 Axes>"
            ]
          },
          "metadata": {},
          "output_type": "display_data"
        }
      ],
      "source": [
        "plt.figure(figsize=(14, 7))\n",
        "\n",
        "plt.plot(y_test.index, y_test, label='Фактическое значение')\n",
        "# plt.plot(y_test.index, y_pred_xgb, label='Прогноз GB', linestyle='--')\n",
        "plt.plot(y_test.index, y_pred_cb, label='Прогноз CB', linestyle='-')\n",
        "# plt.plot(y_test.index, y_pred_lgbm, label='Прогноз LGBM', linestyle=':')\n",
        "\n",
        "plt.xlabel('Дата')\n",
        "plt.ylabel('Цена')\n",
        "plt.title('Прогнозирование временного ряда (только модели градиентного бустинга)')\n",
        "plt.legend()\n",
        "plt.show()"
      ]
    },
    {
      "cell_type": "code",
      "execution_count": 19,
      "metadata": {
        "colab": {
          "base_uri": "https://localhost:8080/",
          "height": 625
        },
        "id": "ir-dBY4HZTlr",
        "outputId": "e76e9f44-066d-4a95-8432-581fe1f6a636"
      },
      "outputs": [
        {
          "data": {
            "image/png": "[encoded data removed]",
            "text/plain": [
              "<Figure size 1400x700 with 1 Axes>"
            ]
          },
          "metadata": {},
          "output_type": "display_data"
        }
      ],
      "source": [
        "plt.figure(figsize=(14, 7))\n",
        "\n",
        "plt.plot(y_test.index, y_test, label='Фактическое значение')\n",
        "plt.plot(y_test.index, y_pred_rf, label='Прогноз RF', linestyle='-')\n",
        "plt.plot(y_test.index, y_pred_ab, label='Прогноз AB', linestyle=':')\n",
        "plt.plot(y_test.index, y_pred_dt, label='Прогноз DT', linestyle='-.')\n",
        "\n",
        "plt.xlabel('Дата')\n",
        "plt.ylabel('Цена')\n",
        "plt.title('Прогнозирование временного ряда')\n",
        "plt.legend()\n",
        "plt.show()"
      ]
    },
    {
      "cell_type": "code",
      "execution_count": null,
      "metadata": {
        "id": "rmHyWLsxaEUv"
      },
      "outputs": [],
      "source": []
    }
  ],
  "metadata": {
    "colab": {
      "provenance": []
    },
    "kernelspec": {
      "display_name": ".venv",
      "language": "python",
      "name": "python3"
    },
    "language_info": {
      "codemirror_mode": {
        "name": "ipython",
        "version": 3
      },
      "file_extension": ".py",
      "mimetype": "text/x-python",
      "name": "python",
      "nbconvert_exporter": "python",
      "pygments_lexer": "ipython3",
      "version": "3.13.2"
    },
    "widgets": {
      "application/vnd.jupyter.widget-state+json": {
        "00a23182a90d48b6a63c55993ea2aef0": {
          "model_module": "@jupyter-widgets/base",
          "model_module_version": "1.2.0",
          "model_name": "LayoutModel",
          "state": {
            "_model_module": "@jupyter-widgets/base",
            "_model_module_version": "1.2.0",
            "_model_name": "LayoutModel",
            "_view_count": null,
            "_view_module": "@jupyter-widgets/base",
            "_view_module_version": "1.2.0",
            "_view_name": "LayoutView",
            "align_content": null,
            "align_items": null,
            "align_self": null,
            "border": null,
            "bottom": null,
            "display": null,
            "flex": null,
            "flex_flow": null,
            "grid_area": null,
            "grid_auto_columns": null,
            "grid_auto_flow": null,
            "grid_auto_rows": null,
            "grid_column": null,
            "grid_gap": null,
            "grid_row": null,
            "grid_template_areas": null,
            "grid_template_columns": null,
            "grid_template_rows": null,
            "height": null,
            "justify_content": null,
            "justify_items": null,
            "left": null,
            "margin": null,
            "max_height": null,
            "max_width": null,
            "min_height": null,
            "min_width": null,
            "object_fit": null,
            "object_position": null,
            "order": null,
            "overflow": null,
            "overflow_x": null,
            "overflow_y": null,
            "padding": null,
            "right": null,
            "top": null,
            "visibility": null,
            "width": null
          }
        },
        "05fc1854b3c2411fab92545cfa21d168": {
          "model_module": "@jupyter-widgets/controls",
          "model_module_version": "1.5.0",
          "model_name": "DescriptionStyleModel",
          "state": {
            "_model_module": "@jupyter-widgets/controls",
            "_model_module_version": "1.5.0",
            "_model_name": "DescriptionStyleModel",
            "_view_count": null,
            "_view_module": "@jupyter-widgets/base",
            "_view_module_version": "1.2.0",
            "_view_name": "StyleView",
            "description_width": ""
          }
        },
        "0a3d2bac427d4ce38e3715f7227758c8": {
          "model_module": "@jupyter-widgets/controls",
          "model_module_version": "1.5.0",
          "model_name": "FloatProgressModel",
          "state": {
            "_dom_classes": [],
            "_model_module": "@jupyter-widgets/controls",
            "_model_module_version": "1.5.0",
            "_model_name": "FloatProgressModel",
            "_view_count": null,
            "_view_module": "@jupyter-widgets/controls",
            "_view_module_version": "1.5.0",
            "_view_name": "ProgressView",
            "bar_style": "success",
            "description": "",
            "description_tooltip": null,
            "layout": "IPY_MODEL_fc02909ceb734ad1ba7695244915510e",
            "max": 25,
            "min": 0,
            "orientation": "horizontal",
            "style": "IPY_MODEL_2bd16d2bd0a643f49d88a7fd68f08399",
            "value": 25
          }
        },
        "0e27ce6c42cd4cf9a0afa6eff77d221e": {
          "model_module": "@jupyter-widgets/controls",
          "model_module_version": "1.5.0",
          "model_name": "DescriptionStyleModel",
          "state": {
            "_model_module": "@jupyter-widgets/controls",
            "_model_module_version": "1.5.0",
            "_model_name": "DescriptionStyleModel",
            "_view_count": null,
            "_view_module": "@jupyter-widgets/base",
            "_view_module_version": "1.2.0",
            "_view_name": "StyleView",
            "description_width": ""
          }
        },
        "13b47d1bdffc4061b49573378f71aff0": {
          "model_module": "@jupyter-widgets/controls",
          "model_module_version": "1.5.0",
          "model_name": "FloatProgressModel",
          "state": {
            "_dom_classes": [],
            "_model_module": "@jupyter-widgets/controls",
            "_model_module_version": "1.5.0",
            "_model_name": "FloatProgressModel",
            "_view_count": null,
            "_view_module": "@jupyter-widgets/controls",
            "_view_module_version": "1.5.0",
            "_view_name": "ProgressView",
            "bar_style": "success",
            "description": "",
            "description_tooltip": null,
            "layout": "IPY_MODEL_e0e223151b934f37ae7b029db831f867",
            "max": 25,
            "min": 0,
            "orientation": "horizontal",
            "style": "IPY_MODEL_a05c8cfd0c1a4d15949359fff2c1383d",
            "value": 25
          }
        },
        "17c530eac871448d82b4dc9e4fd5e4ee": {
          "model_module": "@jupyter-widgets/controls",
          "model_module_version": "1.5.0",
          "model_name": "ProgressStyleModel",
          "state": {
            "_model_module": "@jupyter-widgets/controls",
            "_model_module_version": "1.5.0",
            "_model_name": "ProgressStyleModel",
            "_view_count": null,
            "_view_module": "@jupyter-widgets/base",
            "_view_module_version": "1.2.0",
            "_view_name": "StyleView",
            "bar_color": null,
            "description_width": ""
          }
        },
        "1c9fbbb2ceb34ae5a5fdcb2a19251893": {
          "model_module": "@jupyter-widgets/base",
          "model_module_version": "1.2.0",
          "model_name": "LayoutModel",
          "state": {
            "_model_module": "@jupyter-widgets/base",
            "_model_module_version": "1.2.0",
            "_model_name": "LayoutModel",
            "_view_count": null,
            "_view_module": "@jupyter-widgets/base",
            "_view_module_version": "1.2.0",
            "_view_name": "LayoutView",
            "align_content": null,
            "align_items": null,
            "align_self": null,
            "border": null,
            "bottom": null,
            "display": null,
            "flex": null,
            "flex_flow": null,
            "grid_area": null,
            "grid_auto_columns": null,
            "grid_auto_flow": null,
            "grid_auto_rows": null,
            "grid_column": null,
            "grid_gap": null,
            "grid_row": null,
            "grid_template_areas": null,
            "grid_template_columns": null,
            "grid_template_rows": null,
            "height": null,
            "justify_content": null,
            "justify_items": null,
            "left": null,
            "margin": null,
            "max_height": null,
            "max_width": null,
            "min_height": null,
            "min_width": null,
            "object_fit": null,
            "object_position": null,
            "order": null,
            "overflow": null,
            "overflow_x": null,
            "overflow_y": null,
            "padding": null,
            "right": null,
            "top": null,
            "visibility": null,
            "width": null
          }
        },
        "20a1bbd725b84ae4bb462289081cd1a5": {
          "model_module": "@jupyter-widgets/base",
          "model_module_version": "1.2.0",
          "model_name": "LayoutModel",
          "state": {
            "_model_module": "@jupyter-widgets/base",
            "_model_module_version": "1.2.0",
            "_model_name": "LayoutModel",
            "_view_count": null,
            "_view_module": "@jupyter-widgets/base",
            "_view_module_version": "1.2.0",
            "_view_name": "LayoutView",
            "align_content": null,
            "align_items": null,
            "align_self": null,
            "border": null,
            "bottom": null,
            "display": null,
            "flex": null,
            "flex_flow": null,
            "grid_area": null,
            "grid_auto_columns": null,
            "grid_auto_flow": null,
            "grid_auto_rows": null,
            "grid_column": null,
            "grid_gap": null,
            "grid_row": null,
            "grid_template_areas": null,
            "grid_template_columns": null,
            "grid_template_rows": null,
            "height": null,
            "justify_content": null,
            "justify_items": null,
            "left": null,
            "margin": null,
            "max_height": null,
            "max_width": null,
            "min_height": null,
            "min_width": null,
            "object_fit": null,
            "object_position": null,
            "order": null,
            "overflow": null,
            "overflow_x": null,
            "overflow_y": null,
            "padding": null,
            "right": null,
            "top": null,
            "visibility": null,
            "width": null
          }
        },
        "2ae34490566946389580e179faf1218c": {
          "model_module": "@jupyter-widgets/controls",
          "model_module_version": "1.5.0",
          "model_name": "DescriptionStyleModel",
          "state": {
            "_model_module": "@jupyter-widgets/controls",
            "_model_module_version": "1.5.0",
            "_model_name": "DescriptionStyleModel",
            "_view_count": null,
            "_view_module": "@jupyter-widgets/base",
            "_view_module_version": "1.2.0",
            "_view_name": "StyleView",
            "description_width": ""
          }
        },
        "2bd16d2bd0a643f49d88a7fd68f08399": {
          "model_module": "@jupyter-widgets/controls",
          "model_module_version": "1.5.0",
          "model_name": "ProgressStyleModel",
          "state": {
            "_model_module": "@jupyter-widgets/controls",
            "_model_module_version": "1.5.0",
            "_model_name": "ProgressStyleModel",
            "_view_count": null,
            "_view_module": "@jupyter-widgets/base",
            "_view_module_version": "1.2.0",
            "_view_name": "StyleView",
            "bar_color": null,
            "description_width": ""
          }
        },
        "2f242b8d6af848349d2eb5e8c87e7db7": {
          "model_module": "@jupyter-widgets/base",
          "model_module_version": "1.2.0",
          "model_name": "LayoutModel",
          "state": {
            "_model_module": "@jupyter-widgets/base",
            "_model_module_version": "1.2.0",
            "_model_name": "LayoutModel",
            "_view_count": null,
            "_view_module": "@jupyter-widgets/base",
            "_view_module_version": "1.2.0",
            "_view_name": "LayoutView",
            "align_content": null,
            "align_items": null,
            "align_self": null,
            "border": null,
            "bottom": null,
            "display": null,
            "flex": null,
            "flex_flow": null,
            "grid_area": null,
            "grid_auto_columns": null,
            "grid_auto_flow": null,
            "grid_auto_rows": null,
            "grid_column": null,
            "grid_gap": null,
            "grid_row": null,
            "grid_template_areas": null,
            "grid_template_columns": null,
            "grid_template_rows": null,
            "height": null,
            "justify_content": null,
            "justify_items": null,
            "left": null,
            "margin": null,
            "max_height": null,
            "max_width": null,
            "min_height": null,
            "min_width": null,
            "object_fit": null,
            "object_position": null,
            "order": null,
            "overflow": null,
            "overflow_x": null,
            "overflow_y": null,
            "padding": null,
            "right": null,
            "top": null,
            "visibility": null,
            "width": null
          }
        },
        "352804ff0799450ea427a628485abc76": {
          "model_module": "@jupyter-widgets/controls",
          "model_module_version": "1.5.0",
          "model_name": "HTMLModel",
          "state": {
            "_dom_classes": [],
            "_model_module": "@jupyter-widgets/controls",
            "_model_module_version": "1.5.0",
            "_model_name": "HTMLModel",
            "_view_count": null,
            "_view_module": "@jupyter-widgets/controls",
            "_view_module_version": "1.5.0",
            "_view_name": "HTMLView",
            "description": "",
            "description_tooltip": null,
            "layout": "IPY_MODEL_efc0d17df97649d08591f71f4d049295",
            "placeholder": "​",
            "style": "IPY_MODEL_0e27ce6c42cd4cf9a0afa6eff77d221e",
            "value": "Best trial: 11. Best value: 0.707508: 100%"
          }
        },
        "3a8949ee4dcd4a8fbce20e301373839b": {
          "model_module": "@jupyter-widgets/controls",
          "model_module_version": "1.5.0",
          "model_name": "FloatProgressModel",
          "state": {
            "_dom_classes": [],
            "_model_module": "@jupyter-widgets/controls",
            "_model_module_version": "1.5.0",
            "_model_name": "FloatProgressModel",
            "_view_count": null,
            "_view_module": "@jupyter-widgets/controls",
            "_view_module_version": "1.5.0",
            "_view_name": "ProgressView",
            "bar_style": "success",
            "description": "",
            "description_tooltip": null,
            "layout": "IPY_MODEL_b36659b4a7a742ad9453214ee884b91f",
            "max": 25,
            "min": 0,
            "orientation": "horizontal",
            "style": "IPY_MODEL_dbed898a6772472db205f214b6e2756e",
            "value": 25
          }
        },
        "3e8bbaf2e3584402942fd56853154d3e": {
          "model_module": "@jupyter-widgets/controls",
          "model_module_version": "1.5.0",
          "model_name": "HTMLModel",
          "state": {
            "_dom_classes": [],
            "_model_module": "@jupyter-widgets/controls",
            "_model_module_version": "1.5.0",
            "_model_name": "HTMLModel",
            "_view_count": null,
            "_view_module": "@jupyter-widgets/controls",
            "_view_module_version": "1.5.0",
            "_view_name": "HTMLView",
            "description": "",
            "description_tooltip": null,
            "layout": "IPY_MODEL_42a333cc273f4575acbdd4fecc9f3aae",
            "placeholder": "​",
            "style": "IPY_MODEL_8ff67d22c3d342a7aa8ae9fbd6880a68",
            "value": " 25/25 [01:21&lt;00:00,  3.26s/it]"
          }
        },
        "42a333cc273f4575acbdd4fecc9f3aae": {
          "model_module": "@jupyter-widgets/base",
          "model_module_version": "1.2.0",
          "model_name": "LayoutModel",
          "state": {
            "_model_module": "@jupyter-widgets/base",
            "_model_module_version": "1.2.0",
            "_model_name": "LayoutModel",
            "_view_count": null,
            "_view_module": "@jupyter-widgets/base",
            "_view_module_version": "1.2.0",
            "_view_name": "LayoutView",
            "align_content": null,
            "align_items": null,
            "align_self": null,
            "border": null,
            "bottom": null,
            "display": null,
            "flex": null,
            "flex_flow": null,
            "grid_area": null,
            "grid_auto_columns": null,
            "grid_auto_flow": null,
            "grid_auto_rows": null,
            "grid_column": null,
            "grid_gap": null,
            "grid_row": null,
            "grid_template_areas": null,
            "grid_template_columns": null,
            "grid_template_rows": null,
            "height": null,
            "justify_content": null,
            "justify_items": null,
            "left": null,
            "margin": null,
            "max_height": null,
            "max_width": null,
            "min_height": null,
            "min_width": null,
            "object_fit": null,
            "object_position": null,
            "order": null,
            "overflow": null,
            "overflow_x": null,
            "overflow_y": null,
            "padding": null,
            "right": null,
            "top": null,
            "visibility": null,
            "width": null
          }
        },
        "44f9fe447a5145e1919deb7fc75ce9ab": {
          "model_module": "@jupyter-widgets/controls",
          "model_module_version": "1.5.0",
          "model_name": "FloatProgressModel",
          "state": {
            "_dom_classes": [],
            "_model_module": "@jupyter-widgets/controls",
            "_model_module_version": "1.5.0",
            "_model_name": "FloatProgressModel",
            "_view_count": null,
            "_view_module": "@jupyter-widgets/controls",
            "_view_module_version": "1.5.0",
            "_view_name": "ProgressView",
            "bar_style": "success",
            "description": "",
            "description_tooltip": null,
            "layout": "IPY_MODEL_00a23182a90d48b6a63c55993ea2aef0",
            "max": 25,
            "min": 0,
            "orientation": "horizontal",
            "style": "IPY_MODEL_17c530eac871448d82b4dc9e4fd5e4ee",
            "value": 25
          }
        },
        "46a9380978744c1892ce4a4042668835": {
          "model_module": "@jupyter-widgets/controls",
          "model_module_version": "1.5.0",
          "model_name": "FloatProgressModel",
          "state": {
            "_dom_classes": [],
            "_model_module": "@jupyter-widgets/controls",
            "_model_module_version": "1.5.0",
            "_model_name": "FloatProgressModel",
            "_view_count": null,
            "_view_module": "@jupyter-widgets/controls",
            "_view_module_version": "1.5.0",
            "_view_name": "ProgressView",
            "bar_style": "success",
            "description": "",
            "description_tooltip": null,
            "layout": "IPY_MODEL_e7b90c64de864ffca6012b5fae402344",
            "max": 25,
            "min": 0,
            "orientation": "horizontal",
            "style": "IPY_MODEL_a2a9b5923676484e868d16981ae4496b",
            "value": 25
          }
        },
        "4ee0185e4b934611b950ebd01d1cd69c": {
          "model_module": "@jupyter-widgets/base",
          "model_module_version": "1.2.0",
          "model_name": "LayoutModel",
          "state": {
            "_model_module": "@jupyter-widgets/base",
            "_model_module_version": "1.2.0",
            "_model_name": "LayoutModel",
            "_view_count": null,
            "_view_module": "@jupyter-widgets/base",
            "_view_module_version": "1.2.0",
            "_view_name": "LayoutView",
            "align_content": null,
            "align_items": null,
            "align_self": null,
            "border": null,
            "bottom": null,
            "display": null,
            "flex": null,
            "flex_flow": null,
            "grid_area": null,
            "grid_auto_columns": null,
            "grid_auto_flow": null,
            "grid_auto_rows": null,
            "grid_column": null,
            "grid_gap": null,
            "grid_row": null,
            "grid_template_areas": null,
            "grid_template_columns": null,
            "grid_template_rows": null,
            "height": null,
            "justify_content": null,
            "justify_items": null,
            "left": null,
            "margin": null,
            "max_height": null,
            "max_width": null,
            "min_height": null,
            "min_width": null,
            "object_fit": null,
            "object_position": null,
            "order": null,
            "overflow": null,
            "overflow_x": null,
            "overflow_y": null,
            "padding": null,
            "right": null,
            "top": null,
            "visibility": null,
            "width": null
          }
        },
        "5fbb90b43f1443bcaaa912e05a991f94": {
          "model_module": "@jupyter-widgets/controls",
          "model_module_version": "1.5.0",
          "model_name": "HTMLModel",
          "state": {
            "_dom_classes": [],
            "_model_module": "@jupyter-widgets/controls",
            "_model_module_version": "1.5.0",
            "_model_name": "HTMLModel",
            "_view_count": null,
            "_view_module": "@jupyter-widgets/controls",
            "_view_module_version": "1.5.0",
            "_view_name": "HTMLView",
            "description": "",
            "description_tooltip": null,
            "layout": "IPY_MODEL_2f242b8d6af848349d2eb5e8c87e7db7",
            "placeholder": "​",
            "style": "IPY_MODEL_05fc1854b3c2411fab92545cfa21d168",
            "value": "Best trial: 14. Best value: 0.699433: 100%"
          }
        },
        "62664ba7527549b8bb541f8118bceba5": {
          "model_module": "@jupyter-widgets/controls",
          "model_module_version": "1.5.0",
          "model_name": "HTMLModel",
          "state": {
            "_dom_classes": [],
            "_model_module": "@jupyter-widgets/controls",
            "_model_module_version": "1.5.0",
            "_model_name": "HTMLModel",
            "_view_count": null,
            "_view_module": "@jupyter-widgets/controls",
            "_view_module_version": "1.5.0",
            "_view_name": "HTMLView",
            "description": "",
            "description_tooltip": null,
            "layout": "IPY_MODEL_c05b0e5303544c63aef329bc9bda80b5",
            "placeholder": "​",
            "style": "IPY_MODEL_6bef2af79e8c4c459a79968554fcf19f",
            "value": " 25/25 [00:03&lt;00:00,  5.48it/s]"
          }
        },
        "63594db72a4d440fb3b1b3f58e93527f": {
          "model_module": "@jupyter-widgets/base",
          "model_module_version": "1.2.0",
          "model_name": "LayoutModel",
          "state": {
            "_model_module": "@jupyter-widgets/base",
            "_model_module_version": "1.2.0",
            "_model_name": "LayoutModel",
            "_view_count": null,
            "_view_module": "@jupyter-widgets/base",
            "_view_module_version": "1.2.0",
            "_view_name": "LayoutView",
            "align_content": null,
            "align_items": null,
            "align_self": null,
            "border": null,
            "bottom": null,
            "display": null,
            "flex": null,
            "flex_flow": null,
            "grid_area": null,
            "grid_auto_columns": null,
            "grid_auto_flow": null,
            "grid_auto_rows": null,
            "grid_column": null,
            "grid_gap": null,
            "grid_row": null,
            "grid_template_areas": null,
            "grid_template_columns": null,
            "grid_template_rows": null,
            "height": null,
            "justify_content": null,
            "justify_items": null,
            "left": null,
            "margin": null,
            "max_height": null,
            "max_width": null,
            "min_height": null,
            "min_width": null,
            "object_fit": null,
            "object_position": null,
            "order": null,
            "overflow": null,
            "overflow_x": null,
            "overflow_y": null,
            "padding": null,
            "right": null,
            "top": null,
            "visibility": null,
            "width": null
          }
        },
        "64efc1294a2f43ed8ca13d32c82e342c": {
          "model_module": "@jupyter-widgets/controls",
          "model_module_version": "1.5.0",
          "model_name": "DescriptionStyleModel",
          "state": {
            "_model_module": "@jupyter-widgets/controls",
            "_model_module_version": "1.5.0",
            "_model_name": "DescriptionStyleModel",
            "_view_count": null,
            "_view_module": "@jupyter-widgets/base",
            "_view_module_version": "1.2.0",
            "_view_name": "StyleView",
            "description_width": ""
          }
        },
        "6bef2af79e8c4c459a79968554fcf19f": {
          "model_module": "@jupyter-widgets/controls",
          "model_module_version": "1.5.0",
          "model_name": "DescriptionStyleModel",
          "state": {
            "_model_module": "@jupyter-widgets/controls",
            "_model_module_version": "1.5.0",
            "_model_name": "DescriptionStyleModel",
            "_view_count": null,
            "_view_module": "@jupyter-widgets/base",
            "_view_module_version": "1.2.0",
            "_view_name": "StyleView",
            "description_width": ""
          }
        },
        "707f1108222141bf9ca54e8b3af42e61": {
          "model_module": "@jupyter-widgets/controls",
          "model_module_version": "1.5.0",
          "model_name": "HTMLModel",
          "state": {
            "_dom_classes": [],
            "_model_module": "@jupyter-widgets/controls",
            "_model_module_version": "1.5.0",
            "_model_name": "HTMLModel",
            "_view_count": null,
            "_view_module": "@jupyter-widgets/controls",
            "_view_module_version": "1.5.0",
            "_view_name": "HTMLView",
            "description": "",
            "description_tooltip": null,
            "layout": "IPY_MODEL_4ee0185e4b934611b950ebd01d1cd69c",
            "placeholder": "​",
            "style": "IPY_MODEL_764d506d72d74a1fb553a23ce55db0c7",
            "value": " 25/25 [00:25&lt;00:00,  1.45it/s]"
          }
        },
        "764d506d72d74a1fb553a23ce55db0c7": {
          "model_module": "@jupyter-widgets/controls",
          "model_module_version": "1.5.0",
          "model_name": "DescriptionStyleModel",
          "state": {
            "_model_module": "@jupyter-widgets/controls",
            "_model_module_version": "1.5.0",
            "_model_name": "DescriptionStyleModel",
            "_view_count": null,
            "_view_module": "@jupyter-widgets/base",
            "_view_module_version": "1.2.0",
            "_view_name": "StyleView",
            "description_width": ""
          }
        },
        "7833fca17cfe49039aacc65490f5583f": {
          "model_module": "@jupyter-widgets/controls",
          "model_module_version": "1.5.0",
          "model_name": "HTMLModel",
          "state": {
            "_dom_classes": [],
            "_model_module": "@jupyter-widgets/controls",
            "_model_module_version": "1.5.0",
            "_model_name": "HTMLModel",
            "_view_count": null,
            "_view_module": "@jupyter-widgets/controls",
            "_view_module_version": "1.5.0",
            "_view_name": "HTMLView",
            "description": "",
            "description_tooltip": null,
            "layout": "IPY_MODEL_ba2e002bb8694e46babaaf5e2b2eaf2e",
            "placeholder": "​",
            "style": "IPY_MODEL_b255651542fa48bd9fe08e3784c3353c",
            "value": "Best trial: 22. Best value: 0.719472: 100%"
          }
        },
        "7c944174aecf49ccad57212db2f77ffc": {
          "model_module": "@jupyter-widgets/base",
          "model_module_version": "1.2.0",
          "model_name": "LayoutModel",
          "state": {
            "_model_module": "@jupyter-widgets/base",
            "_model_module_version": "1.2.0",
            "_model_name": "LayoutModel",
            "_view_count": null,
            "_view_module": "@jupyter-widgets/base",
            "_view_module_version": "1.2.0",
            "_view_name": "LayoutView",
            "align_content": null,
            "align_items": null,
            "align_self": null,
            "border": null,
            "bottom": null,
            "display": null,
            "flex": null,
            "flex_flow": null,
            "grid_area": null,
            "grid_auto_columns": null,
            "grid_auto_flow": null,
            "grid_auto_rows": null,
            "grid_column": null,
            "grid_gap": null,
            "grid_row": null,
            "grid_template_areas": null,
            "grid_template_columns": null,
            "grid_template_rows": null,
            "height": null,
            "justify_content": null,
            "justify_items": null,
            "left": null,
            "margin": null,
            "max_height": null,
            "max_width": null,
            "min_height": null,
            "min_width": null,
            "object_fit": null,
            "object_position": null,
            "order": null,
            "overflow": null,
            "overflow_x": null,
            "overflow_y": null,
            "padding": null,
            "right": null,
            "top": null,
            "visibility": null,
            "width": null
          }
        },
        "81bc107d184444dd9774e31f773e579e": {
          "model_module": "@jupyter-widgets/controls",
          "model_module_version": "1.5.0",
          "model_name": "HBoxModel",
          "state": {
            "_dom_classes": [],
            "_model_module": "@jupyter-widgets/controls",
            "_model_module_version": "1.5.0",
            "_model_name": "HBoxModel",
            "_view_count": null,
            "_view_module": "@jupyter-widgets/controls",
            "_view_module_version": "1.5.0",
            "_view_name": "HBoxView",
            "box_style": "",
            "children": [
              "IPY_MODEL_84de94261ac44781918bf08e4bb36662",
              "IPY_MODEL_0a3d2bac427d4ce38e3715f7227758c8",
              "IPY_MODEL_707f1108222141bf9ca54e8b3af42e61"
            ],
            "layout": "IPY_MODEL_7c944174aecf49ccad57212db2f77ffc"
          }
        },
        "82a31949b0544f39ac4841c7d0056f29": {
          "model_module": "@jupyter-widgets/controls",
          "model_module_version": "1.5.0",
          "model_name": "HTMLModel",
          "state": {
            "_dom_classes": [],
            "_model_module": "@jupyter-widgets/controls",
            "_model_module_version": "1.5.0",
            "_model_name": "HTMLModel",
            "_view_count": null,
            "_view_module": "@jupyter-widgets/controls",
            "_view_module_version": "1.5.0",
            "_view_name": "HTMLView",
            "description": "",
            "description_tooltip": null,
            "layout": "IPY_MODEL_63594db72a4d440fb3b1b3f58e93527f",
            "placeholder": "​",
            "style": "IPY_MODEL_64efc1294a2f43ed8ca13d32c82e342c",
            "value": "Best trial: 5. Best value: 0.840742: 100%"
          }
        },
        "845c97a6e14e409abd0a87ec84f3dd62": {
          "model_module": "@jupyter-widgets/base",
          "model_module_version": "1.2.0",
          "model_name": "LayoutModel",
          "state": {
            "_model_module": "@jupyter-widgets/base",
            "_model_module_version": "1.2.0",
            "_model_name": "LayoutModel",
            "_view_count": null,
            "_view_module": "@jupyter-widgets/base",
            "_view_module_version": "1.2.0",
            "_view_name": "LayoutView",
            "align_content": null,
            "align_items": null,
            "align_self": null,
            "border": null,
            "bottom": null,
            "display": null,
            "flex": null,
            "flex_flow": null,
            "grid_area": null,
            "grid_auto_columns": null,
            "grid_auto_flow": null,
            "grid_auto_rows": null,
            "grid_column": null,
            "grid_gap": null,
            "grid_row": null,
            "grid_template_areas": null,
            "grid_template_columns": null,
            "grid_template_rows": null,
            "height": null,
            "justify_content": null,
            "justify_items": null,
            "left": null,
            "margin": null,
            "max_height": null,
            "max_width": null,
            "min_height": null,
            "min_width": null,
            "object_fit": null,
            "object_position": null,
            "order": null,
            "overflow": null,
            "overflow_x": null,
            "overflow_y": null,
            "padding": null,
            "right": null,
            "top": null,
            "visibility": null,
            "width": null
          }
        },
        "84de94261ac44781918bf08e4bb36662": {
          "model_module": "@jupyter-widgets/controls",
          "model_module_version": "1.5.0",
          "model_name": "HTMLModel",
          "state": {
            "_dom_classes": [],
            "_model_module": "@jupyter-widgets/controls",
            "_model_module_version": "1.5.0",
            "_model_name": "HTMLModel",
            "_view_count": null,
            "_view_module": "@jupyter-widgets/controls",
            "_view_module_version": "1.5.0",
            "_view_name": "HTMLView",
            "description": "",
            "description_tooltip": null,
            "layout": "IPY_MODEL_bd03bfb2122444c69882b6545cecb9c3",
            "placeholder": "​",
            "style": "IPY_MODEL_b65d1277c53c4b3eb95b033b2bd03137",
            "value": "Best trial: 16. Best value: 0.731343: 100%"
          }
        },
        "85a6978839294ccda3c4ae428474606f": {
          "model_module": "@jupyter-widgets/base",
          "model_module_version": "1.2.0",
          "model_name": "LayoutModel",
          "state": {
            "_model_module": "@jupyter-widgets/base",
            "_model_module_version": "1.2.0",
            "_model_name": "LayoutModel",
            "_view_count": null,
            "_view_module": "@jupyter-widgets/base",
            "_view_module_version": "1.2.0",
            "_view_name": "LayoutView",
            "align_content": null,
            "align_items": null,
            "align_self": null,
            "border": null,
            "bottom": null,
            "display": null,
            "flex": null,
            "flex_flow": null,
            "grid_area": null,
            "grid_auto_columns": null,
            "grid_auto_flow": null,
            "grid_auto_rows": null,
            "grid_column": null,
            "grid_gap": null,
            "grid_row": null,
            "grid_template_areas": null,
            "grid_template_columns": null,
            "grid_template_rows": null,
            "height": null,
            "justify_content": null,
            "justify_items": null,
            "left": null,
            "margin": null,
            "max_height": null,
            "max_width": null,
            "min_height": null,
            "min_width": null,
            "object_fit": null,
            "object_position": null,
            "order": null,
            "overflow": null,
            "overflow_x": null,
            "overflow_y": null,
            "padding": null,
            "right": null,
            "top": null,
            "visibility": null,
            "width": null
          }
        },
        "8ff67d22c3d342a7aa8ae9fbd6880a68": {
          "model_module": "@jupyter-widgets/controls",
          "model_module_version": "1.5.0",
          "model_name": "DescriptionStyleModel",
          "state": {
            "_model_module": "@jupyter-widgets/controls",
            "_model_module_version": "1.5.0",
            "_model_name": "DescriptionStyleModel",
            "_view_count": null,
            "_view_module": "@jupyter-widgets/base",
            "_view_module_version": "1.2.0",
            "_view_name": "StyleView",
            "description_width": ""
          }
        },
        "9f6850f923be49388f032a480037a3a9": {
          "model_module": "@jupyter-widgets/base",
          "model_module_version": "1.2.0",
          "model_name": "LayoutModel",
          "state": {
            "_model_module": "@jupyter-widgets/base",
            "_model_module_version": "1.2.0",
            "_model_name": "LayoutModel",
            "_view_count": null,
            "_view_module": "@jupyter-widgets/base",
            "_view_module_version": "1.2.0",
            "_view_name": "LayoutView",
            "align_content": null,
            "align_items": null,
            "align_self": null,
            "border": null,
            "bottom": null,
            "display": null,
            "flex": null,
            "flex_flow": null,
            "grid_area": null,
            "grid_auto_columns": null,
            "grid_auto_flow": null,
            "grid_auto_rows": null,
            "grid_column": null,
            "grid_gap": null,
            "grid_row": null,
            "grid_template_areas": null,
            "grid_template_columns": null,
            "grid_template_rows": null,
            "height": null,
            "justify_content": null,
            "justify_items": null,
            "left": null,
            "margin": null,
            "max_height": null,
            "max_width": null,
            "min_height": null,
            "min_width": null,
            "object_fit": null,
            "object_position": null,
            "order": null,
            "overflow": null,
            "overflow_x": null,
            "overflow_y": null,
            "padding": null,
            "right": null,
            "top": null,
            "visibility": null,
            "width": null
          }
        },
        "a05c8cfd0c1a4d15949359fff2c1383d": {
          "model_module": "@jupyter-widgets/controls",
          "model_module_version": "1.5.0",
          "model_name": "ProgressStyleModel",
          "state": {
            "_model_module": "@jupyter-widgets/controls",
            "_model_module_version": "1.5.0",
            "_model_name": "ProgressStyleModel",
            "_view_count": null,
            "_view_module": "@jupyter-widgets/base",
            "_view_module_version": "1.2.0",
            "_view_name": "StyleView",
            "bar_color": null,
            "description_width": ""
          }
        },
        "a2a9b5923676484e868d16981ae4496b": {
          "model_module": "@jupyter-widgets/controls",
          "model_module_version": "1.5.0",
          "model_name": "ProgressStyleModel",
          "state": {
            "_model_module": "@jupyter-widgets/controls",
            "_model_module_version": "1.5.0",
            "_model_name": "ProgressStyleModel",
            "_view_count": null,
            "_view_module": "@jupyter-widgets/base",
            "_view_module_version": "1.2.0",
            "_view_name": "StyleView",
            "bar_color": null,
            "description_width": ""
          }
        },
        "a3c2f47263444192a5f6411ba51fe45b": {
          "model_module": "@jupyter-widgets/controls",
          "model_module_version": "1.5.0",
          "model_name": "HBoxModel",
          "state": {
            "_dom_classes": [],
            "_model_module": "@jupyter-widgets/controls",
            "_model_module_version": "1.5.0",
            "_model_name": "HBoxModel",
            "_view_count": null,
            "_view_module": "@jupyter-widgets/controls",
            "_view_module_version": "1.5.0",
            "_view_name": "HBoxView",
            "box_style": "",
            "children": [
              "IPY_MODEL_5fbb90b43f1443bcaaa912e05a991f94",
              "IPY_MODEL_3a8949ee4dcd4a8fbce20e301373839b",
              "IPY_MODEL_a4b762eb9f034290afef385f4baf2db1"
            ],
            "layout": "IPY_MODEL_845c97a6e14e409abd0a87ec84f3dd62"
          }
        },
        "a3d1aecb290d4f37a6d4b82236cab140": {
          "model_module": "@jupyter-widgets/controls",
          "model_module_version": "1.5.0",
          "model_name": "HBoxModel",
          "state": {
            "_dom_classes": [],
            "_model_module": "@jupyter-widgets/controls",
            "_model_module_version": "1.5.0",
            "_model_name": "HBoxModel",
            "_view_count": null,
            "_view_module": "@jupyter-widgets/controls",
            "_view_module_version": "1.5.0",
            "_view_name": "HBoxView",
            "box_style": "",
            "children": [
              "IPY_MODEL_352804ff0799450ea427a628485abc76",
              "IPY_MODEL_44f9fe447a5145e1919deb7fc75ce9ab",
              "IPY_MODEL_3e8bbaf2e3584402942fd56853154d3e"
            ],
            "layout": "IPY_MODEL_85a6978839294ccda3c4ae428474606f"
          }
        },
        "a4b762eb9f034290afef385f4baf2db1": {
          "model_module": "@jupyter-widgets/controls",
          "model_module_version": "1.5.0",
          "model_name": "HTMLModel",
          "state": {
            "_dom_classes": [],
            "_model_module": "@jupyter-widgets/controls",
            "_model_module_version": "1.5.0",
            "_model_name": "HTMLModel",
            "_view_count": null,
            "_view_module": "@jupyter-widgets/controls",
            "_view_module_version": "1.5.0",
            "_view_name": "HTMLView",
            "description": "",
            "description_tooltip": null,
            "layout": "IPY_MODEL_f00f6cbe7e024b81a4473b18e53dee43",
            "placeholder": "​",
            "style": "IPY_MODEL_2ae34490566946389580e179faf1218c",
            "value": " 25/25 [00:33&lt;00:00,  1.82s/it]"
          }
        },
        "b255651542fa48bd9fe08e3784c3353c": {
          "model_module": "@jupyter-widgets/controls",
          "model_module_version": "1.5.0",
          "model_name": "DescriptionStyleModel",
          "state": {
            "_model_module": "@jupyter-widgets/controls",
            "_model_module_version": "1.5.0",
            "_model_name": "DescriptionStyleModel",
            "_view_count": null,
            "_view_module": "@jupyter-widgets/base",
            "_view_module_version": "1.2.0",
            "_view_name": "StyleView",
            "description_width": ""
          }
        },
        "b36659b4a7a742ad9453214ee884b91f": {
          "model_module": "@jupyter-widgets/base",
          "model_module_version": "1.2.0",
          "model_name": "LayoutModel",
          "state": {
            "_model_module": "@jupyter-widgets/base",
            "_model_module_version": "1.2.0",
            "_model_name": "LayoutModel",
            "_view_count": null,
            "_view_module": "@jupyter-widgets/base",
            "_view_module_version": "1.2.0",
            "_view_name": "LayoutView",
            "align_content": null,
            "align_items": null,
            "align_self": null,
            "border": null,
            "bottom": null,
            "display": null,
            "flex": null,
            "flex_flow": null,
            "grid_area": null,
            "grid_auto_columns": null,
            "grid_auto_flow": null,
            "grid_auto_rows": null,
            "grid_column": null,
            "grid_gap": null,
            "grid_row": null,
            "grid_template_areas": null,
            "grid_template_columns": null,
            "grid_template_rows": null,
            "height": null,
            "justify_content": null,
            "justify_items": null,
            "left": null,
            "margin": null,
            "max_height": null,
            "max_width": null,
            "min_height": null,
            "min_width": null,
            "object_fit": null,
            "object_position": null,
            "order": null,
            "overflow": null,
            "overflow_x": null,
            "overflow_y": null,
            "padding": null,
            "right": null,
            "top": null,
            "visibility": null,
            "width": null
          }
        },
        "b65d1277c53c4b3eb95b033b2bd03137": {
          "model_module": "@jupyter-widgets/controls",
          "model_module_version": "1.5.0",
          "model_name": "DescriptionStyleModel",
          "state": {
            "_model_module": "@jupyter-widgets/controls",
            "_model_module_version": "1.5.0",
            "_model_name": "DescriptionStyleModel",
            "_view_count": null,
            "_view_module": "@jupyter-widgets/base",
            "_view_module_version": "1.2.0",
            "_view_name": "StyleView",
            "description_width": ""
          }
        },
        "ba2e002bb8694e46babaaf5e2b2eaf2e": {
          "model_module": "@jupyter-widgets/base",
          "model_module_version": "1.2.0",
          "model_name": "LayoutModel",
          "state": {
            "_model_module": "@jupyter-widgets/base",
            "_model_module_version": "1.2.0",
            "_model_name": "LayoutModel",
            "_view_count": null,
            "_view_module": "@jupyter-widgets/base",
            "_view_module_version": "1.2.0",
            "_view_name": "LayoutView",
            "align_content": null,
            "align_items": null,
            "align_self": null,
            "border": null,
            "bottom": null,
            "display": null,
            "flex": null,
            "flex_flow": null,
            "grid_area": null,
            "grid_auto_columns": null,
            "grid_auto_flow": null,
            "grid_auto_rows": null,
            "grid_column": null,
            "grid_gap": null,
            "grid_row": null,
            "grid_template_areas": null,
            "grid_template_columns": null,
            "grid_template_rows": null,
            "height": null,
            "justify_content": null,
            "justify_items": null,
            "left": null,
            "margin": null,
            "max_height": null,
            "max_width": null,
            "min_height": null,
            "min_width": null,
            "object_fit": null,
            "object_position": null,
            "order": null,
            "overflow": null,
            "overflow_x": null,
            "overflow_y": null,
            "padding": null,
            "right": null,
            "top": null,
            "visibility": null,
            "width": null
          }
        },
        "bd03bfb2122444c69882b6545cecb9c3": {
          "model_module": "@jupyter-widgets/base",
          "model_module_version": "1.2.0",
          "model_name": "LayoutModel",
          "state": {
            "_model_module": "@jupyter-widgets/base",
            "_model_module_version": "1.2.0",
            "_model_name": "LayoutModel",
            "_view_count": null,
            "_view_module": "@jupyter-widgets/base",
            "_view_module_version": "1.2.0",
            "_view_name": "LayoutView",
            "align_content": null,
            "align_items": null,
            "align_self": null,
            "border": null,
            "bottom": null,
            "display": null,
            "flex": null,
            "flex_flow": null,
            "grid_area": null,
            "grid_auto_columns": null,
            "grid_auto_flow": null,
            "grid_auto_rows": null,
            "grid_column": null,
            "grid_gap": null,
            "grid_row": null,
            "grid_template_areas": null,
            "grid_template_columns": null,
            "grid_template_rows": null,
            "height": null,
            "justify_content": null,
            "justify_items": null,
            "left": null,
            "margin": null,
            "max_height": null,
            "max_width": null,
            "min_height": null,
            "min_width": null,
            "object_fit": null,
            "object_position": null,
            "order": null,
            "overflow": null,
            "overflow_x": null,
            "overflow_y": null,
            "padding": null,
            "right": null,
            "top": null,
            "visibility": null,
            "width": null
          }
        },
        "c05b0e5303544c63aef329bc9bda80b5": {
          "model_module": "@jupyter-widgets/base",
          "model_module_version": "1.2.0",
          "model_name": "LayoutModel",
          "state": {
            "_model_module": "@jupyter-widgets/base",
            "_model_module_version": "1.2.0",
            "_model_name": "LayoutModel",
            "_view_count": null,
            "_view_module": "@jupyter-widgets/base",
            "_view_module_version": "1.2.0",
            "_view_name": "LayoutView",
            "align_content": null,
            "align_items": null,
            "align_self": null,
            "border": null,
            "bottom": null,
            "display": null,
            "flex": null,
            "flex_flow": null,
            "grid_area": null,
            "grid_auto_columns": null,
            "grid_auto_flow": null,
            "grid_auto_rows": null,
            "grid_column": null,
            "grid_gap": null,
            "grid_row": null,
            "grid_template_areas": null,
            "grid_template_columns": null,
            "grid_template_rows": null,
            "height": null,
            "justify_content": null,
            "justify_items": null,
            "left": null,
            "margin": null,
            "max_height": null,
            "max_width": null,
            "min_height": null,
            "min_width": null,
            "object_fit": null,
            "object_position": null,
            "order": null,
            "overflow": null,
            "overflow_x": null,
            "overflow_y": null,
            "padding": null,
            "right": null,
            "top": null,
            "visibility": null,
            "width": null
          }
        },
        "c215d7063f064360899ddffa6971b020": {
          "model_module": "@jupyter-widgets/controls",
          "model_module_version": "1.5.0",
          "model_name": "HTMLModel",
          "state": {
            "_dom_classes": [],
            "_model_module": "@jupyter-widgets/controls",
            "_model_module_version": "1.5.0",
            "_model_name": "HTMLModel",
            "_view_count": null,
            "_view_module": "@jupyter-widgets/controls",
            "_view_module_version": "1.5.0",
            "_view_name": "HTMLView",
            "description": "",
            "description_tooltip": null,
            "layout": "IPY_MODEL_20a1bbd725b84ae4bb462289081cd1a5",
            "placeholder": "​",
            "style": "IPY_MODEL_c626e10ab2cd424cbffe70446496420f",
            "value": " 25/25 [00:04&lt;00:00,  5.57it/s]"
          }
        },
        "c626e10ab2cd424cbffe70446496420f": {
          "model_module": "@jupyter-widgets/controls",
          "model_module_version": "1.5.0",
          "model_name": "DescriptionStyleModel",
          "state": {
            "_model_module": "@jupyter-widgets/controls",
            "_model_module_version": "1.5.0",
            "_model_name": "DescriptionStyleModel",
            "_view_count": null,
            "_view_module": "@jupyter-widgets/base",
            "_view_module_version": "1.2.0",
            "_view_name": "StyleView",
            "description_width": ""
          }
        },
        "c9c7c66182204ef3934eaca7c0993202": {
          "model_module": "@jupyter-widgets/controls",
          "model_module_version": "1.5.0",
          "model_name": "HBoxModel",
          "state": {
            "_dom_classes": [],
            "_model_module": "@jupyter-widgets/controls",
            "_model_module_version": "1.5.0",
            "_model_name": "HBoxModel",
            "_view_count": null,
            "_view_module": "@jupyter-widgets/controls",
            "_view_module_version": "1.5.0",
            "_view_name": "HBoxView",
            "box_style": "",
            "children": [
              "IPY_MODEL_7833fca17cfe49039aacc65490f5583f",
              "IPY_MODEL_46a9380978744c1892ce4a4042668835",
              "IPY_MODEL_c215d7063f064360899ddffa6971b020"
            ],
            "layout": "IPY_MODEL_9f6850f923be49388f032a480037a3a9"
          }
        },
        "ca7a67f0f7c541b38bfaf0435d20b7de": {
          "model_module": "@jupyter-widgets/controls",
          "model_module_version": "1.5.0",
          "model_name": "HBoxModel",
          "state": {
            "_dom_classes": [],
            "_model_module": "@jupyter-widgets/controls",
            "_model_module_version": "1.5.0",
            "_model_name": "HBoxModel",
            "_view_count": null,
            "_view_module": "@jupyter-widgets/controls",
            "_view_module_version": "1.5.0",
            "_view_name": "HBoxView",
            "box_style": "",
            "children": [
              "IPY_MODEL_82a31949b0544f39ac4841c7d0056f29",
              "IPY_MODEL_13b47d1bdffc4061b49573378f71aff0",
              "IPY_MODEL_62664ba7527549b8bb541f8118bceba5"
            ],
            "layout": "IPY_MODEL_1c9fbbb2ceb34ae5a5fdcb2a19251893"
          }
        },
        "dbed898a6772472db205f214b6e2756e": {
          "model_module": "@jupyter-widgets/controls",
          "model_module_version": "1.5.0",
          "model_name": "ProgressStyleModel",
          "state": {
            "_model_module": "@jupyter-widgets/controls",
            "_model_module_version": "1.5.0",
            "_model_name": "ProgressStyleModel",
            "_view_count": null,
            "_view_module": "@jupyter-widgets/base",
            "_view_module_version": "1.2.0",
            "_view_name": "StyleView",
            "bar_color": null,
            "description_width": ""
          }
        },
        "e0e223151b934f37ae7b029db831f867": {
          "model_module": "@jupyter-widgets/base",
          "model_module_version": "1.2.0",
          "model_name": "LayoutModel",
          "state": {
            "_model_module": "@jupyter-widgets/base",
            "_model_module_version": "1.2.0",
            "_model_name": "LayoutModel",
            "_view_count": null,
            "_view_module": "@jupyter-widgets/base",
            "_view_module_version": "1.2.0",
            "_view_name": "LayoutView",
            "align_content": null,
            "align_items": null,
            "align_self": null,
            "border": null,
            "bottom": null,
            "display": null,
            "flex": null,
            "flex_flow": null,
            "grid_area": null,
            "grid_auto_columns": null,
            "grid_auto_flow": null,
            "grid_auto_rows": null,
            "grid_column": null,
            "grid_gap": null,
            "grid_row": null,
            "grid_template_areas": null,
            "grid_template_columns": null,
            "grid_template_rows": null,
            "height": null,
            "justify_content": null,
            "justify_items": null,
            "left": null,
            "margin": null,
            "max_height": null,
            "max_width": null,
            "min_height": null,
            "min_width": null,
            "object_fit": null,
            "object_position": null,
            "order": null,
            "overflow": null,
            "overflow_x": null,
            "overflow_y": null,
            "padding": null,
            "right": null,
            "top": null,
            "visibility": null,
            "width": null
          }
        },
        "e7b90c64de864ffca6012b5fae402344": {
          "model_module": "@jupyter-widgets/base",
          "model_module_version": "1.2.0",
          "model_name": "LayoutModel",
          "state": {
            "_model_module": "@jupyter-widgets/base",
            "_model_module_version": "1.2.0",
            "_model_name": "LayoutModel",
            "_view_count": null,
            "_view_module": "@jupyter-widgets/base",
            "_view_module_version": "1.2.0",
            "_view_name": "LayoutView",
            "align_content": null,
            "align_items": null,
            "align_self": null,
            "border": null,
            "bottom": null,
            "display": null,
            "flex": null,
            "flex_flow": null,
            "grid_area": null,
            "grid_auto_columns": null,
            "grid_auto_flow": null,
            "grid_auto_rows": null,
            "grid_column": null,
            "grid_gap": null,
            "grid_row": null,
            "grid_template_areas": null,
            "grid_template_columns": null,
            "grid_template_rows": null,
            "height": null,
            "justify_content": null,
            "justify_items": null,
            "left": null,
            "margin": null,
            "max_height": null,
            "max_width": null,
            "min_height": null,
            "min_width": null,
            "object_fit": null,
            "object_position": null,
            "order": null,
            "overflow": null,
            "overflow_x": null,
            "overflow_y": null,
            "padding": null,
            "right": null,
            "top": null,
            "visibility": null,
            "width": null
          }
        },
        "efc0d17df97649d08591f71f4d049295": {
          "model_module": "@jupyter-widgets/base",
          "model_module_version": "1.2.0",
          "model_name": "LayoutModel",
          "state": {
            "_model_module": "@jupyter-widgets/base",
            "_model_module_version": "1.2.0",
            "_model_name": "LayoutModel",
            "_view_count": null,
            "_view_module": "@jupyter-widgets/base",
            "_view_module_version": "1.2.0",
            "_view_name": "LayoutView",
            "align_content": null,
            "align_items": null,
            "align_self": null,
            "border": null,
            "bottom": null,
            "display": null,
            "flex": null,
            "flex_flow": null,
            "grid_area": null,
            "grid_auto_columns": null,
            "grid_auto_flow": null,
            "grid_auto_rows": null,
            "grid_column": null,
            "grid_gap": null,
            "grid_row": null,
            "grid_template_areas": null,
            "grid_template_columns": null,
            "grid_template_rows": null,
            "height": null,
            "justify_content": null,
            "justify_items": null,
            "left": null,
            "margin": null,
            "max_height": null,
            "max_width": null,
            "min_height": null,
            "min_width": null,
            "object_fit": null,
            "object_position": null,
            "order": null,
            "overflow": null,
            "overflow_x": null,
            "overflow_y": null,
            "padding": null,
            "right": null,
            "top": null,
            "visibility": null,
            "width": null
          }
        },
        "f00f6cbe7e024b81a4473b18e53dee43": {
          "model_module": "@jupyter-widgets/base",
          "model_module_version": "1.2.0",
          "model_name": "LayoutModel",
          "state": {
            "_model_module": "@jupyter-widgets/base",
            "_model_module_version": "1.2.0",
            "_model_name": "LayoutModel",
            "_view_count": null,
            "_view_module": "@jupyter-widgets/base",
            "_view_module_version": "1.2.0",
            "_view_name": "LayoutView",
            "align_content": null,
            "align_items": null,
            "align_self": null,
            "border": null,
            "bottom": null,
            "display": null,
            "flex": null,
            "flex_flow": null,
            "grid_area": null,
            "grid_auto_columns": null,
            "grid_auto_flow": null,
            "grid_auto_rows": null,
            "grid_column": null,
            "grid_gap": null,
            "grid_row": null,
            "grid_template_areas": null,
            "grid_template_columns": null,
            "grid_template_rows": null,
            "height": null,
            "justify_content": null,
            "justify_items": null,
            "left": null,
            "margin": null,
            "max_height": null,
            "max_width": null,
            "min_height": null,
            "min_width": null,
            "object_fit": null,
            "object_position": null,
            "order": null,
            "overflow": null,
            "overflow_x": null,
            "overflow_y": null,
            "padding": null,
            "right": null,
            "top": null,
            "visibility": null,
            "width": null
          }
        },
        "fc02909ceb734ad1ba7695244915510e": {
          "model_module": "@jupyter-widgets/base",
          "model_module_version": "1.2.0",
          "model_name": "LayoutModel",
          "state": {
            "_model_module": "@jupyter-widgets/base",
            "_model_module_version": "1.2.0",
            "_model_name": "LayoutModel",
            "_view_count": null,
            "_view_module": "@jupyter-widgets/base",
            "_view_module_version": "1.2.0",
            "_view_name": "LayoutView",
            "align_content": null,
            "align_items": null,
            "align_self": null,
            "border": null,
            "bottom": null,
            "display": null,
            "flex": null,
            "flex_flow": null,
            "grid_area": null,
            "grid_auto_columns": null,
            "grid_auto_flow": null,
            "grid_auto_rows": null,
            "grid_column": null,
            "grid_gap": null,
            "grid_row": null,
            "grid_template_areas": null,
            "grid_template_columns": null,
            "grid_template_rows": null,
            "height": null,
            "justify_content": null,
            "justify_items": null,
            "left": null,
            "margin": null,
            "max_height": null,
            "max_width": null,
            "min_height": null,
            "min_width": null,
            "object_fit": null,
            "object_position": null,
            "order": null,
            "overflow": null,
            "overflow_x": null,
            "overflow_y": null,
            "padding": null,
            "right": null,
            "top": null,
            "visibility": null,
            "width": null
          }
        }
      }
    }
  },
  "nbformat": 4,
  "nbformat_minor": 0
}
