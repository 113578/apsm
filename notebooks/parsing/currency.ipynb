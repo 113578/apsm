{
 "cells": [
  {
   "cell_type": "code",
   "execution_count": null,
   "id": "4f9c0f75f35e29bf",
   "metadata": {},
   "outputs": [],
   "source": [
    "import yfinance as yf\n",
    "import pandas as pd\n",
    "from tqdm import tqdm\n",
    "import pyarrow as pa\n",
    "import pyarrow.parquet as pq\n",
    "import financedatabase as fd"
   ]
  },
  {
   "cell_type": "code",
   "execution_count": null,
   "id": "7ce3933189e30050",
   "metadata": {},
   "outputs": [],
   "source": [
    "#Границы дат для парсинга котировок\n",
    "DATES = ['2023-10-25', '2024-10-25']"
   ]
  },
  {
   "cell_type": "code",
   "execution_count": null,
   "id": "f5518d7020fa5a2f",
   "metadata": {},
   "outputs": [],
   "source": [
    "def get_currency_names(url):\n",
    "    try:\n",
    "        df = pd.read_html(url)[1]\n",
    "        currency = df['ISO code[3]'].unique()\n",
    "        list_currency = ' '.join(['USD'+ name + \"=x\" for name in currency if name != '(none)'])\n",
    "        return list_currency\n",
    "    except Exception as e:\n",
    "        raise e"
   ]
  },
  {
   "cell_type": "code",
   "execution_count": null,
   "id": "44da1b904792c2b9",
   "metadata": {},
   "outputs": [],
   "source": [
    "def get_quote(start_date, end_date, symbols,candle_data = ['Close']):\n",
    "\n",
    "    tickers = yf.Tickers(symbols)\n",
    "    quote_data = pd.DataFrame()\n",
    "    for ticker_symbol in tqdm(tickers.tickers):\n",
    "        try:\n",
    "            ticker = yf.Ticker(ticker_symbol)\n",
    "            history = ticker.history(start=start_date, end=end_date)[candle_data]\n",
    "            if len(candle_data) != 1:\n",
    "                history.columns = [f\"{ticker_symbol}\"+\"_\"+ i for i in candle_data]\n",
    "            else:\n",
    "                history.columns = [ticker_symbol]\n",
    "            quote_data = pd.concat([quote_data, history], axis=1)\n",
    "\n",
    "        except:\n",
    "            continue\n",
    "    currency_data.dropna(axis=1, inplace=True, how='all')\n",
    "    return quote_data"
   ]
  },
  {
   "cell_type": "code",
   "execution_count": null,
   "id": "1855f19d9d00710c",
   "metadata": {},
   "outputs": [],
   "source": [
    "#берем с financedatabase список акций и используем их для сбора котировок с yfinance\n",
    "equities = fd.Equities()\n",
    "df = equities.select()\n",
    "symbols_stocks = df.index.dropna().tolist()\n",
    "stock_data = get_quote(*DATES,symbols_stocks)\n",
    "stock_data = stock_data.asfreq('D')\n",
    "stock_table = pa.Table.from_pandas(stock_data)\n",
    "pq.write_table(stock_table, 'stock_raw.parquet')"
   ]
  },
  {
   "cell_type": "code",
   "execution_count": null,
   "id": "17435ac24569e33",
   "metadata": {},
   "outputs": [],
   "source": [
    "#парсим с википедии названия валют и используем их для сбора котировок с yfinance\n",
    "symbols_currencies = get_currency_names('https://en.wikipedia.org/wiki/List_of_circulating_currencies')\n",
    "candle_data = ['Open', 'High', 'Low', 'Close']\n",
    "currency_data = get_quote(*DATES, symbols_currencies, candle_data)\n",
    "currency_data = currency_data.asfreq('D')\n",
    "currency_table = pa.Table.from_pandas(currency_data)\n",
    "pq.write_table(currency_table, 'currency_raw.parquet')"
   ]
  },
  {
   "cell_type": "code",
   "execution_count": null,
   "id": "7259f6ad",
   "metadata": {},
   "outputs": [],
   "source": [
    "# Удаляем последние нули в каждом столбце (заменяем их на NaN)\n",
    "import numpy as np\n",
    "for col in currency_data.columns:\n",
    "    while len(currency_data) > 0 and currency_data[col].iloc[-1] == 0:\n",
    "        currency_data.at[currency_data.index[-1], col] = np.nan\n",
    "# Удаляем строки, где все значения NaN (обычно это последние строки)\n",
    "currency_data = currency_data.dropna(how='all')\n",
    "\n",
    "currency_table = pa.Table.from_pandas(currency_data)\n",
    "pq.write_table(currency_table, 'currency_raw.parquet')"
   ]
  },
  {
   "cell_type": "code",
   "execution_count": null,
   "id": "79466a36",
   "metadata": {},
   "outputs": [],
   "source": []
  }
 ],
 "metadata": {
  "kernelspec": {
   "display_name": "Python 3",
   "language": "python",
   "name": "python3"
  },
  "language_info": {
   "codemirror_mode": {
    "name": "ipython",
    "version": 2
   },
   "file_extension": ".py",
   "mimetype": "text/x-python",
   "name": "python",
   "nbconvert_exporter": "python",
   "pygments_lexer": "ipython2",
   "version": "2.7.6"
  }
 },
 "nbformat": 4,
 "nbformat_minor": 5
}
