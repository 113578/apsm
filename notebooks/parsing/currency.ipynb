{
 "cells": [
  {
   "cell_type": "code",
   "id": "initial_id",
   "metadata": {
    "collapsed": true
   },
   "source": [
    "# !pip install --upgrade pip\n",
    "# !pip install yfinance\n",
    "# !pip install tqdm\n",
    "# !pip install financedatabase -U"
   ],
   "outputs": [],
   "execution_count": null
  },
  {
   "metadata": {},
   "cell_type": "code",
   "source": [
    "import yfinance as yf\n",
    "import pandas as pd\n",
    "from tqdm import tqdm\n",
    "import pyarrow as pa\n",
    "import pyarrow.parquet as pq\n",
    "import financedatabase as fd"
   ],
   "id": "4f9c0f75f35e29bf",
   "outputs": [],
   "execution_count": null
  },
  {
   "metadata": {},
   "cell_type": "code",
   "source": [
    "#Границы дат для парсинга котировок\n",
    "DATES = ['2023-10-25', '2024-10-25']"
   ],
   "id": "7ce3933189e30050",
   "outputs": [],
   "execution_count": null
  },
  {
   "metadata": {},
   "cell_type": "code",
   "source": [
    "def get_currency_names(url):\n",
    "    try:\n",
    "        df = pd.read_html(url)[1]\n",
    "        currency = df['ISO code[3]'].unique()\n",
    "        list_currency = ' '.join(['USD'+ name + \"=x\" for name in currency if name != '(none)'])\n",
    "        return list_currency\n",
    "    except Exception as e:\n",
    "        raise e"
   ],
   "id": "f5518d7020fa5a2f",
   "outputs": [],
   "execution_count": null
  },
  {
   "metadata": {},
   "cell_type": "code",
   "source": [
    "def get_quote(start_date, end_date, symbols,candle_data = ['Close']):\n",
    "\n",
    "    tickers = yf.Tickers(symbols)\n",
    "    quote_data = pd.DataFrame()\n",
    "    for ticker_symbol in tqdm(tickers.tickers):\n",
    "        try:\n",
    "            ticker = yf.Ticker(ticker_symbol)\n",
    "            history = ticker.history(start=start_date, end=end_date)[candle_data]\n",
    "            if len(candle_data) != 1:\n",
    "                history.columns = [f\"{ticker_symbol}\"+\"_\"+ i for i in candle_data]\n",
    "            else:\n",
    "                history.columns = [ticker_symbol]\n",
    "            quote_data = pd.concat([quote_data, history], axis=1)\n",
    "\n",
    "        except:\n",
    "            continue\n",
    "    currency_data.dropna(axis=1, inplace=True, how='all')\n",
    "    return quote_data"
   ],
   "id": "44da1b904792c2b9",
   "outputs": [],
   "execution_count": null
  },
  {
   "metadata": {},
   "cell_type": "code",
   "source": [
    "#берем с financedatabase список акций и используем их для сбора котировок с yfinance\n",
    "equities = fd.Equities()\n",
    "df = equities.select()\n",
    "symbols_stocks = df.index.dropna().tolist()\n",
    "stock_data = get_quote(*DATES,symbols_stocks)\n",
    "stock_data = stock_data.asfreq('D')\n",
    "stock_table = pa.Table.from_pandas(stock_data)\n",
    "pq.write_table(stock_table, 'stock_raw.parquet')"
   ],
   "id": "1855f19d9d00710c",
   "outputs": [],
   "execution_count": null
  },
  {
   "metadata": {},
   "cell_type": "code",
   "source": [
    "#парсим с википедии названия валют и используем их для сбора котировок с yfinance\n",
    "symbols_currencies = get_currency_names('https://en.wikipedia.org/wiki/List_of_circulating_currencies')\n",
    "candle_data = ['Open', 'High', 'Low', 'Close']\n",
    "currency_data = get_quote(*DATES, symbols_currencies, candle_data)\n",
    "currency_data = currency_data.asfreq('D')\n",
    "currency_table = pa.Table.from_pandas(currency_data)\n",
    "pq.write_table(currency_table, 'currency_raw.parquet')"
   ],
   "id": "17435ac24569e33",
   "outputs": [],
   "execution_count": null
  }
 ],
 "metadata": {
  "kernelspec": {
   "display_name": "Python 3",
   "language": "python",
   "name": "python3"
  },
  "language_info": {
   "codemirror_mode": {
    "name": "ipython",
    "version": 2
   },
   "file_extension": ".py",
   "mimetype": "text/x-python",
   "name": "python",
   "nbconvert_exporter": "python",
   "pygments_lexer": "ipython2",
   "version": "2.7.6"
  }
 },
 "nbformat": 4,
 "nbformat_minor": 5
}
